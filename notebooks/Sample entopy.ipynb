{
 "cells": [
  {
   "cell_type": "code",
   "execution_count": 1,
   "id": "ee54993e",
   "metadata": {},
   "outputs": [],
   "source": [
    "import pandas as pd\n",
    "import numpy as np\n",
    "import sklearn as sk\n",
    "import statsmodels.api as sm\n",
    "import matplotlib.pyplot as plt\n",
    "import datetime as dt\n",
    "from statsmodels.iolib.table import SimpleTable\n",
    "from sklearn.metrics import r2_score\n",
    "import matplotlib\n",
    "import random as rd\n",
    "from sklearn import metrics\n",
    "from sklearn.metrics import mean_squared_error, mean_absolute_percentage_error\n",
    "import math\n",
    "import itertools as it\n",
    "import seaborn as sn\n",
    "\n",
    "import plotly\n",
    "import plotly.graph_objs as go\n",
    "import plotly.express as px\n",
    "from plotly.subplots import make_subplots"
   ]
  },
  {
   "cell_type": "code",
   "execution_count": 2,
   "id": "e70da65c",
   "metadata": {},
   "outputs": [],
   "source": [
    "def construct_templates(timeseries_data:list, m:int=2):\n",
    "    num_windows = len(timeseries_data) - m + 1\n",
    "    return [timeseries_data[x:x+m] for x in range(0, num_windows)]\n",
    "\n",
    "def get_matches(templates:list, r:float):\n",
    "    return len(list(filter(lambda x: is_match(x[0], x[1], r), itertools.combinations(templates, 2))))\n",
    "\n",
    "def is_match(template_1:list, template_2:list, r:float):\n",
    "    return all([abs(x - y) < r for (x, y) in zip(template_1, template_2)])\n",
    "\n",
    "def sample_entropy(timeseries_data:list, window_size:int, r:float):\n",
    "    B = get_matches(construct_templates(timeseries_data, window_size), r)\n",
    "    A = get_matches(construct_templates(timeseries_data, window_size+1), r)\n",
    "    return -math.log(A/B)"
   ]
  },
  {
   "cell_type": "code",
   "execution_count": null,
   "id": "de067be9",
   "metadata": {},
   "outputs": [],
   "source": []
  }
 ],
 "metadata": {
  "kernelspec": {
   "display_name": "Python 3 (ipykernel)",
   "language": "python",
   "name": "python3"
  },
  "language_info": {
   "codemirror_mode": {
    "name": "ipython",
    "version": 3
   },
   "file_extension": ".py",
   "mimetype": "text/x-python",
   "name": "python",
   "nbconvert_exporter": "python",
   "pygments_lexer": "ipython3",
   "version": "3.9.7"
  }
 },
 "nbformat": 4,
 "nbformat_minor": 5
}
