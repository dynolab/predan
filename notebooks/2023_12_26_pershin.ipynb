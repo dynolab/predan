{
 "cells": [
  {
   "cell_type": "code",
   "execution_count": null,
   "metadata": {},
   "outputs": [],
   "source": [
    "import numpy as np\n",
    "import scipy.stats\n",
    "import matplotlib.pyplot as plt\n",
    "import pandas as pd"
   ]
  },
  {
   "cell_type": "code",
   "execution_count": null,
   "metadata": {},
   "outputs": [],
   "source": [
    "sigma = 2.0"
   ]
  },
  {
   "cell_type": "code",
   "execution_count": null,
   "metadata": {},
   "outputs": [],
   "source": [
    "\n",
    "xi_pdf = scipy.stats.norm(scale=sigma).pdf\n",
    "#xi_sq_pdf = scipy.stats.chi2(df=1).pdf\n",
    "xi_sq_pdf = scipy.stats.gamma(a=1./2, scale=2.*sigma**2).pdf  # a is the shape parameter (k in wiki), scale is the scale parameter (theta in wiki)"
   ]
  },
  {
   "cell_type": "code",
   "execution_count": null,
   "metadata": {},
   "outputs": [],
   "source": [
    "errors = scipy.stats.norm(scale=sigma).rvs(1000)\n",
    "rmse_values = errors**2"
   ]
  },
  {
   "cell_type": "code",
   "execution_count": null,
   "metadata": {},
   "outputs": [],
   "source": [
    "x = np.linspace(0, 10, 100)\n",
    "\n",
    "fig, ax = plt.subplots(1, 1, figsize=(10, 6))\n",
    "ax.plot(x, xi_sq_pdf(x), \"-\", linewidth=2)\n",
    "ax.hist(rmse_values, density=True, range=(0, 10), bins=50)\n",
    "ax.grid()\n",
    "ax.set_xlabel(\"MSE\", fontsize=12)\n",
    "plt.show()"
   ]
  },
  {
   "cell_type": "code",
   "execution_count": null,
   "metadata": {},
   "outputs": [],
   "source": []
  }
 ],
 "metadata": {
  "interpreter": {
   "hash": "196d0c379ab8229c86be821c703d06bfef47d1f1b2b46f97d8b581923689fb77"
  },
  "kernelspec": {
   "display_name": "Python 3.11.5 ('predan')",
   "language": "python",
   "name": "python3"
  },
  "language_info": {
   "codemirror_mode": {
    "name": "ipython",
    "version": 3
   },
   "file_extension": ".py",
   "mimetype": "text/x-python",
   "name": "python",
   "nbconvert_exporter": "python",
   "pygments_lexer": "ipython3",
   "version": "3.11.5"
  },
  "orig_nbformat": 4
 },
 "nbformat": 4,
 "nbformat_minor": 2
}
