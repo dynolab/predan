{
 "cells": [
  {
   "cell_type": "code",
   "execution_count": 1,
   "metadata": {
    "ExecuteTime": {
     "end_time": "2024-02-19T10:26:14.125942900Z",
     "start_time": "2024-02-19T10:26:14.113455700Z"
    }
   },
   "outputs": [],
   "source": [
    "import numpy as np\n",
    "import scipy.stats\n",
    "import matplotlib.pyplot as plt\n",
    "import pandas as pd"
   ]
  },
  {
   "cell_type": "code",
   "execution_count": 2,
   "metadata": {
    "ExecuteTime": {
     "end_time": "2024-02-19T10:26:14.141215300Z",
     "start_time": "2024-02-19T10:26:14.127935800Z"
    }
   },
   "outputs": [],
   "source": [
    "sigma = 2.0"
   ]
  },
  {
   "cell_type": "code",
   "execution_count": 3,
   "metadata": {
    "ExecuteTime": {
     "end_time": "2024-02-19T10:26:14.175669200Z",
     "start_time": "2024-02-19T10:26:14.146434400Z"
    }
   },
   "outputs": [],
   "source": [
    "\n",
    "xi_pdf = scipy.stats.norm(scale=sigma).pdf\n",
    "#xi_sq_pdf = scipy.stats.chi2(df=1).pdf\n",
    "xi_sq_pdf = scipy.stats.gamma(a=1./2, scale=2.*sigma**2).pdf  # a is the shape parameter (k in wiki), scale is the scale parameter (theta in wiki)"
   ]
  },
  {
   "cell_type": "code",
   "execution_count": 5,
   "outputs": [
    {
     "data": {
      "text/plain": "array([       inf, 0.6197466 , 0.43272864, 0.34888837, 0.2983552 ,\n       0.26350878, 0.23753135, 0.2171521 , 0.20057858, 0.18673459,\n       0.17492928, 0.16469585, 0.15570582, 0.14772033, 0.14056087,\n       0.1340909 , 0.12820395, 0.12281557, 0.11785774, 0.113275  ,\n       0.10902155, 0.10505922, 0.10135589, 0.09788426, 0.09462103,\n       0.09154608, 0.08864201, 0.08589361, 0.08328757, 0.08081216,\n       0.07845697, 0.07621278, 0.07407133, 0.07202523, 0.07006783,\n       0.06819312, 0.06639568, 0.06467057, 0.0630133 , 0.06141978,\n       0.05988624, 0.05840924, 0.05698563, 0.05561248, 0.0542871 ,\n       0.05300699, 0.05176986, 0.05057355, 0.04941608, 0.04829557,\n       0.04721031, 0.04615867, 0.04513913, 0.04415027, 0.04319077,\n       0.04225936, 0.04135488, 0.04047621, 0.0396223 , 0.03879218,\n       0.03798491, 0.0371996 , 0.03643542, 0.03569159, 0.03496734,\n       0.03426198, 0.03357482, 0.03290521, 0.03225255, 0.03161626,\n       0.03099578, 0.03039057, 0.02980014, 0.02922399, 0.02866168,\n       0.02811275, 0.02757679, 0.02705338, 0.02654215, 0.02604272,\n       0.02555473, 0.02507785, 0.02461175, 0.0241561 , 0.02371061,\n       0.02327498, 0.02284894, 0.02243221, 0.02202454, 0.02162568,\n       0.02123538, 0.02085341, 0.02047954, 0.02011357, 0.01975528,\n       0.01940447, 0.01906095, 0.01872452, 0.01839501, 0.01807224])"
     },
     "execution_count": 5,
     "metadata": {},
     "output_type": "execute_result"
    }
   ],
   "source": [
    "x = np.linspace(0, 10, 100)\n",
    "xi_sq_pdf(x)"
   ],
   "metadata": {
    "collapsed": false,
    "ExecuteTime": {
     "end_time": "2024-02-19T10:26:35.402564700Z",
     "start_time": "2024-02-19T10:26:35.374411700Z"
    }
   }
  },
  {
   "cell_type": "code",
   "execution_count": null,
   "metadata": {},
   "outputs": [],
   "source": [
    "errors = scipy.stats.norm(scale=sigma).rvs(1000)\n",
    "rmse_values = errors**2"
   ]
  },
  {
   "cell_type": "code",
   "execution_count": null,
   "metadata": {},
   "outputs": [],
   "source": [
    "x = np.linspace(0, 10, 100)\n",
    "\n",
    "fig, ax = plt.subplots(1, 1, figsize=(10, 6))\n",
    "ax.plot(x, xi_sq_pdf(x), \"-\", linewidth=2)\n",
    "ax.hist(rmse_values, density=True, range=(0, 10), bins=50)\n",
    "ax.grid()\n",
    "ax.set_xlabel(\"MSE\", fontsize=12)\n",
    "plt.show()"
   ]
  },
  {
   "cell_type": "code",
   "execution_count": null,
   "metadata": {},
   "outputs": [],
   "source": []
  }
 ],
 "metadata": {
  "interpreter": {
   "hash": "196d0c379ab8229c86be821c703d06bfef47d1f1b2b46f97d8b581923689fb77"
  },
  "kernelspec": {
   "display_name": "Python 3.11.5 ('predan')",
   "language": "python",
   "name": "python3"
  },
  "language_info": {
   "codemirror_mode": {
    "name": "ipython",
    "version": 3
   },
   "file_extension": ".py",
   "mimetype": "text/x-python",
   "name": "python",
   "nbconvert_exporter": "python",
   "pygments_lexer": "ipython3",
   "version": "3.11.5"
  },
  "orig_nbformat": 4
 },
 "nbformat": 4,
 "nbformat_minor": 2
}
