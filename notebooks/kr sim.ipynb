{
 "cells": [
  {
   "cell_type": "code",
   "execution_count": null,
   "id": "a2c57486",
   "metadata": {
    "is_executing": true
   },
   "outputs": [],
   "source": [
    "import pandas as pd\n",
    "import numpy as np\n",
    "import sklearn as sk\n",
    "import statsmodels.api as sm\n",
    "import matplotlib.pyplot as plt\n",
    "import datetime as dt\n",
    "from statsmodels.iolib.table import SimpleTable\n",
    "from sklearn.metrics import r2_score\n",
    "import matplotlib\n",
    "import random as rd\n",
    "from sklearn import metrics\n",
    "from sklearn.metrics import mean_squared_error, mean_absolute_percentage_error\n",
    "import math\n",
    "import itertools as it\n",
    "import seaborn as sn\n",
    "import scipy as sp\n",
    "\n",
    "import plotly\n",
    "import plotly.graph_objs as go\n",
    "import plotly.express as px\n",
    "from plotly.subplots import make_subplots"
   ]
  },
  {
   "cell_type": "code",
   "execution_count": 2,
   "id": "ae6ca8f0",
   "metadata": {},
   "outputs": [],
   "source": [
    "def count_permutationlist(df, d):\n",
    "    r = list(range(d))\n",
    "    perm = list(it.permutations(r))\n",
    "    count_p = [0]*len(perm)\n",
    "    for i in range(len(df)-d+1):\n",
    "        slice_df = df[i:i+d]\n",
    "        sort_slice = sorted(slice_df)\n",
    "        for j in range(d):\n",
    "            slice_df[slice_df.index(sort_slice[j])] = j\n",
    "        count_p[perm.index(tuple(slice_df))] += 1\n",
    "    return count_p\n",
    "def count_permutation(df, d):\n",
    "    r = list(range(d))\n",
    "    perm = list(it.permutations(r))\n",
    "    count_p = [0]*len(perm)\n",
    "    for i in range(df.size-d+1):\n",
    "        slice_df = df.copy().iloc[i:i+d]\n",
    "        sort_slice = slice_df.copy().sort_values()\n",
    "        for j in range(d):\n",
    "            slice_df[slice_df[slice_df == sort_slice.iloc[j]].first_valid_index()] =  j\n",
    "        count_p[perm.index(tuple(slice_df.tolist()))] += 1\n",
    "    return count_p\n",
    "def entropy(perm:list):\n",
    "    allperm = sum(perm)\n",
    "    ent = 0\n",
    "    for i in range(len(perm)):\n",
    "        probability = perm[i]/allperm\n",
    "        if probability !=0:\n",
    "            ent -= probability * math.log2(probability)\n",
    "    return ent"
   ]
  },
  {
   "cell_type": "code",
   "execution_count": 3,
   "id": "bd57fbcf",
   "metadata": {},
   "outputs": [],
   "source": [
    "def fun(X, alp: float, beta: float, max_kf: float, trend: float, season: float):\n",
    "    j = 2\n",
    "    k = 2\n",
    "    for i in X[2:]:\n",
    "        X[i] = (alp * X[i-dt.timedelta(1/24)] + beta * X[i-dt.timedelta(2/24)]) + rd.uniform(-max_kf, max_kf) + trend * j\n",
    "        if k%(7*24)==0:\n",
    "            X[i]+=season\n",
    "        if k%(7*24)==1:\n",
    "            X[i]-=season\n",
    "        k+=1\n",
    "    return X"
   ]
  },
  {
   "cell_type": "code",
   "execution_count": 4,
   "id": "b1a9f323",
   "metadata": {},
   "outputs": [],
   "source": [
    "def walds_martingale(X, sigma, tetta):\n",
    "    s = np.random.normal(0, np.sqrt(sigma), X.shape[0])  \n",
    "    z=np.cumsum(s)\n",
    "    for i in range(len(z)):\n",
    "        z[i] = np.exp(tetta * z[i] - 0.5 * tetta**2 *i)\n",
    "    X.values = z\n",
    "    return X\n",
    "def random_walk(X, noise):\n",
    "    X[0] = 0\n",
    "    X[1] = X.index[1]\n",
    "    for i in X[1:]:\n",
    "        X[i] = X[i-dt.timedelta(1/24)] + np.random.normal(0, noise)\n",
    "        #X[i] = X[i-dt.timedelta(1/24)] + rd.uniform(-noise, noise)\n",
    "    return X"
   ]
  },
  {
   "cell_type": "code",
   "execution_count": 5,
   "id": "da80df8b",
   "metadata": {},
   "outputs": [],
   "source": [
    "def symmetry_criterion(perm):\n",
    "    probability = [x/sum(perm) for x in perm]\n",
    "    probability_deviation = 0\n",
    "    for i in range(len(perm)//2):\n",
    "        probability_deviation += (probability[i]-probability[-i-1])    \n",
    "    return probability_deviation"
   ]
  },
  {
   "cell_type": "code",
   "execution_count": 55,
   "id": "4ed37f8c",
   "metadata": {},
   "outputs": [],
   "source": [
    "def equals_criterion(n1,n2,n):\n",
    "    w1 = n1/n\n",
    "    w2 = n2/n\n",
    "    p = (n1+n2)/(2*n)\n",
    "    z = 0\n",
    "    if p != 0:\n",
    "        z = (w1-w2)/(p*(1-p)*(2/n))**0.5\n",
    "    mod_z = abs(z)\n",
    "    p_value = 2*(1 - sp.stats.norm.cdf(mod_z))\n",
    "    return z,p_value"
   ]
  },
  {
   "cell_type": "code",
   "execution_count": 56,
   "id": "0a149ddc",
   "metadata": {},
   "outputs": [],
   "source": [
    "def multiply_equals_criterion(permutations: list, alpha:float=0.05, method:str=\"hs\"):\n",
    "    p_list = []\n",
    "    for pair_index in range(len(permutations)//2):\n",
    "        statistic, p_value = equals_criterion(permutations[pair_index],permutations[-1-pair_index],sum(permutations))\n",
    "        p_list.append(p_value)\n",
    "    return sm.stats.multipletests(p_list, alpha, method)"
   ]
  },
  {
   "cell_type": "code",
   "execution_count": 8,
   "id": "51ba84d4",
   "metadata": {},
   "outputs": [],
   "source": [
    "def Smirnov_criterion(df, d, reliability = 0.95):\n",
    "    r = list(range(d))\n",
    "    perm = list(it.permutations(r))\n",
    "    count_p = [0]*len(perm)\n",
    "    tau_max = 0\n",
    "    tau = 0\n",
    "    for i in range(df.size-d+1):\n",
    "        slice_df = df.copy().iloc[i:i+d]\n",
    "        sort_slice = slice_df.copy().sort_values()\n",
    "        for j in range(d):\n",
    "            slice_df[slice_df[slice_df == sort_slice.iloc[j]].first_valid_index()] =  j\n",
    "        count_p[perm.index(tuple(slice_df.tolist()))] += 1\n",
    "        tau = -sum(count_p[:len(perm)//2])+sum(count_p[len(perm)//2+1:])\n",
    "        tau_max = max(abs(tau), tau_max)\n",
    "    if (df.size+2/3)**(1/2) * 1.96 <= tau_max:\n",
    "        return (\"NO\",tau_max, (df.size+2/3)**(1/2) * 1.96)\n",
    "    else:\n",
    "        return (\"YES\",tau_max, (df.size+2/3)**(1/2) * 1.96)\n",
    "            "
   ]
  },
  {
   "cell_type": "code",
   "execution_count": 9,
   "id": "ec85542f",
   "metadata": {},
   "outputs": [],
   "source": [
    "datelist = pd.date_range(start='29/06/2023 00:00:00', end='29/07/2024', freq='H').to_series()\n",
    "datelist.index = datelist\n",
    "datelist['29/06/2023 00:00:00'] = 5000.0\n",
    "datelist['29/06/2023 01:00:00'] = 5015.0"
   ]
  },
  {
   "cell_type": "code",
   "execution_count": 10,
   "id": "a23f050a",
   "metadata": {},
   "outputs": [],
   "source": [
    "rw1 = random_walk(datelist.copy(), 10)\n",
    "ts = fun(datelist.copy(), 0.6, 0.4, 10, 2, 0)"
   ]
  },
  {
   "cell_type": "code",
   "execution_count": 11,
   "id": "c5e0a1af",
   "metadata": {},
   "outputs": [],
   "source": [
    "perm3_rw1 = count_permutation(rw1, 3)\n",
    "perm3_ts = count_permutation(ts, 3)\n",
    "perm4_rw1 = count_permutation(rw1, 4)\n",
    "perm4_ts = count_permutation(ts, 4)"
   ]
  },
  {
   "cell_type": "markdown",
   "id": "467d84e6",
   "metadata": {},
   "source": [
    "Эвристическая проверка на симметрию. Проверяем разность вероятностей перестановок. Для симметричных распределений они возможно распределены нормально относительно нуля."
   ]
  },
  {
   "cell_type": "code",
   "execution_count": 12,
   "id": "08654a72",
   "metadata": {},
   "outputs": [
    {
     "data": {
      "text/plain": [
       "-0.011049142376091795"
      ]
     },
     "execution_count": 12,
     "metadata": {},
     "output_type": "execute_result"
    }
   ],
   "source": [
    "symmetry_criterion(perm3_rw1)"
   ]
  },
  {
   "cell_type": "code",
   "execution_count": 13,
   "id": "e43221ae",
   "metadata": {},
   "outputs": [
    {
     "data": {
      "text/plain": [
       "-0.02167964639023365"
      ]
     },
     "execution_count": 13,
     "metadata": {},
     "output_type": "execute_result"
    }
   ],
   "source": [
    "symmetry_criterion(perm4_rw1)"
   ]
  },
  {
   "cell_type": "code",
   "execution_count": 14,
   "id": "40928b81",
   "metadata": {},
   "outputs": [
    {
     "data": {
      "text/plain": [
       "0.543723034831106"
      ]
     },
     "execution_count": 14,
     "metadata": {},
     "output_type": "execute_result"
    }
   ],
   "source": [
    "symmetry_criterion(perm3_ts)"
   ]
  },
  {
   "cell_type": "code",
   "execution_count": 15,
   "id": "fdbfdb8c",
   "metadata": {},
   "outputs": [
    {
     "data": {
      "text/plain": [
       "0.5678804462218481"
      ]
     },
     "execution_count": 15,
     "metadata": {},
     "output_type": "execute_result"
    }
   ],
   "source": [
    "symmetry_criterion(perm4_ts)"
   ]
  },
  {
   "cell_type": "code",
   "execution_count": 11,
   "id": "a644d3d2",
   "metadata": {},
   "outputs": [],
   "source": [
    "datelist1 = pd.date_range(start='29/06/2023 00:00:00', end='29/07/2023', freq='H').to_series()\n",
    "datelist1.index = datelist1\n",
    "datelist1['29/06/2023 00:00:00'] = 5000.0\n",
    "datelist1['29/06/2023 01:00:00'] = 5015.0"
   ]
  },
  {
   "cell_type": "code",
   "execution_count": 17,
   "id": "0e6d6b07",
   "metadata": {},
   "outputs": [
    {
     "name": "stdout",
     "output_type": "stream",
     "text": [
      "0\n",
      "1\n",
      "2\n",
      "3\n",
      "4\n",
      "5\n",
      "6\n",
      "7\n",
      "8\n",
      "9\n"
     ]
    }
   ],
   "source": [
    "sym_cr_rw3 = []\n",
    "sym_cr_rw4 = []\n",
    "sym_cr_ts3 = []\n",
    "sym_cr_ts4 = []\n",
    "for i in range(10):\n",
    "    print(i)\n",
    "    rw2 = random_walk(datelist1.copy(), 10)\n",
    "    ts2 = fun(datelist1.copy(), 0.6, 0.4, 10, 2, 0)\n",
    "    perm3_rw2 = count_permutation(rw2, 3)\n",
    "    sym_cr_rw3.append(symmetry_criterion(perm3_rw2))\n",
    "    perm3_ts2 = count_permutation(ts2, 3)\n",
    "    sym_cr_ts3.append(symmetry_criterion(perm3_ts2))\n",
    "    perm4_rw2 = count_permutation(rw2, 4)\n",
    "    sym_cr_rw4.append(symmetry_criterion(perm4_rw2))\n",
    "    perm4_ts2 = count_permutation(ts2, 4)\n",
    "    sym_cr_ts4.append(symmetry_criterion(perm4_ts2))"
   ]
  },
  {
   "cell_type": "code",
   "execution_count": 18,
   "id": "b0c37fc3",
   "metadata": {},
   "outputs": [
    {
     "name": "stdout",
     "output_type": "stream",
     "text": [
      "-0.02920723226703756 0.06815020862308761\n"
     ]
    }
   ],
   "source": [
    "print(min(sym_cr_rw3), max(sym_cr_rw3))"
   ]
  },
  {
   "cell_type": "code",
   "execution_count": 20,
   "id": "3ece6481",
   "metadata": {},
   "outputs": [
    {
     "name": "stdout",
     "output_type": "stream",
     "text": [
      "-0.12256267409470753 0.11142061281337047\n"
     ]
    }
   ],
   "source": [
    "print(min(sym_cr_rw4), max(sym_cr_rw4))"
   ]
  },
  {
   "cell_type": "code",
   "execution_count": 21,
   "id": "a1dd0f98",
   "metadata": {},
   "outputs": [
    {
     "name": "stdout",
     "output_type": "stream",
     "text": [
      "0.47426981919332406 0.5994436717663423\n"
     ]
    }
   ],
   "source": [
    "print(min(sym_cr_ts3), max(sym_cr_ts3))"
   ]
  },
  {
   "cell_type": "code",
   "execution_count": 22,
   "id": "1fe3ed34",
   "metadata": {},
   "outputs": [
    {
     "name": "stdout",
     "output_type": "stream",
     "text": [
      "0.4958217270194986 0.6211699164345402\n"
     ]
    }
   ],
   "source": [
    "print(min(sym_cr_ts4), max(sym_cr_ts4))"
   ]
  },
  {
   "cell_type": "code",
   "execution_count": 23,
   "id": "2a34a400",
   "metadata": {},
   "outputs": [
    {
     "name": "stdout",
     "output_type": "stream",
     "text": [
      "0\n",
      "1\n",
      "2\n",
      "3\n",
      "4\n",
      "5\n",
      "6\n",
      "7\n",
      "8\n",
      "9\n",
      "10\n",
      "11\n",
      "12\n",
      "13\n",
      "14\n",
      "15\n",
      "16\n",
      "17\n",
      "18\n",
      "19\n",
      "20\n",
      "21\n",
      "22\n",
      "23\n",
      "24\n",
      "25\n",
      "26\n",
      "27\n",
      "28\n",
      "29\n",
      "30\n",
      "31\n",
      "32\n",
      "33\n",
      "34\n",
      "35\n",
      "36\n",
      "37\n",
      "38\n",
      "39\n",
      "40\n",
      "41\n",
      "42\n",
      "43\n",
      "44\n",
      "45\n",
      "46\n",
      "47\n",
      "48\n",
      "49\n",
      "50\n",
      "51\n",
      "52\n",
      "53\n",
      "54\n",
      "55\n",
      "56\n",
      "57\n",
      "58\n",
      "59\n",
      "60\n",
      "61\n",
      "62\n",
      "63\n",
      "64\n",
      "65\n",
      "66\n",
      "67\n",
      "68\n",
      "69\n",
      "70\n",
      "71\n",
      "72\n",
      "73\n",
      "74\n",
      "75\n",
      "76\n",
      "77\n",
      "78\n",
      "79\n",
      "80\n",
      "81\n",
      "82\n",
      "83\n",
      "84\n",
      "85\n",
      "86\n",
      "87\n",
      "88\n",
      "89\n",
      "90\n",
      "91\n",
      "92\n",
      "93\n",
      "94\n",
      "95\n",
      "96\n",
      "97\n",
      "98\n",
      "99\n",
      "100\n",
      "101\n",
      "102\n",
      "103\n",
      "104\n",
      "105\n",
      "106\n",
      "107\n",
      "108\n",
      "109\n",
      "110\n",
      "111\n",
      "112\n",
      "113\n",
      "114\n",
      "115\n",
      "116\n",
      "117\n",
      "118\n",
      "119\n",
      "120\n",
      "121\n",
      "122\n",
      "123\n",
      "124\n",
      "125\n",
      "126\n",
      "127\n",
      "128\n",
      "129\n",
      "130\n",
      "131\n",
      "132\n",
      "133\n",
      "134\n",
      "135\n",
      "136\n",
      "137\n",
      "138\n",
      "139\n",
      "140\n",
      "141\n",
      "142\n",
      "143\n",
      "144\n",
      "145\n",
      "146\n",
      "147\n",
      "148\n",
      "149\n",
      "150\n",
      "151\n",
      "152\n",
      "153\n",
      "154\n",
      "155\n",
      "156\n",
      "157\n",
      "158\n",
      "159\n",
      "160\n",
      "161\n",
      "162\n",
      "163\n",
      "164\n",
      "165\n",
      "166\n",
      "167\n",
      "168\n",
      "169\n",
      "170\n",
      "171\n",
      "172\n",
      "173\n",
      "174\n",
      "175\n",
      "176\n",
      "177\n",
      "178\n",
      "179\n",
      "180\n",
      "181\n",
      "182\n",
      "183\n",
      "184\n",
      "185\n",
      "186\n",
      "187\n",
      "188\n",
      "189\n",
      "190\n",
      "191\n",
      "192\n",
      "193\n",
      "194\n",
      "195\n",
      "196\n",
      "197\n",
      "198\n",
      "199\n",
      "200\n",
      "201\n",
      "202\n",
      "203\n",
      "204\n",
      "205\n",
      "206\n",
      "207\n",
      "208\n",
      "209\n",
      "210\n",
      "211\n",
      "212\n",
      "213\n",
      "214\n",
      "215\n",
      "216\n",
      "217\n",
      "218\n",
      "219\n",
      "220\n",
      "221\n",
      "222\n",
      "223\n",
      "224\n",
      "225\n",
      "226\n",
      "227\n",
      "228\n",
      "229\n",
      "230\n",
      "231\n",
      "232\n",
      "233\n",
      "234\n",
      "235\n",
      "236\n",
      "237\n",
      "238\n",
      "239\n",
      "240\n",
      "241\n",
      "242\n",
      "243\n",
      "244\n",
      "245\n",
      "246\n",
      "247\n",
      "248\n",
      "249\n",
      "250\n",
      "251\n",
      "252\n",
      "253\n",
      "254\n",
      "255\n",
      "256\n",
      "257\n",
      "258\n",
      "259\n",
      "260\n",
      "261\n",
      "262\n",
      "263\n",
      "264\n",
      "265\n",
      "266\n",
      "267\n",
      "268\n",
      "269\n",
      "270\n",
      "271\n",
      "272\n",
      "273\n",
      "274\n",
      "275\n",
      "276\n",
      "277\n",
      "278\n",
      "279\n",
      "280\n",
      "281\n",
      "282\n",
      "283\n",
      "284\n",
      "285\n",
      "286\n",
      "287\n",
      "288\n",
      "289\n",
      "290\n",
      "291\n",
      "292\n",
      "293\n",
      "294\n",
      "295\n",
      "296\n",
      "297\n",
      "298\n",
      "299\n",
      "300\n",
      "301\n",
      "302\n",
      "303\n",
      "304\n",
      "305\n",
      "306\n",
      "307\n",
      "308\n",
      "309\n",
      "310\n",
      "311\n",
      "312\n",
      "313\n",
      "314\n",
      "315\n",
      "316\n",
      "317\n",
      "318\n",
      "319\n",
      "320\n",
      "321\n",
      "322\n",
      "323\n",
      "324\n",
      "325\n",
      "326\n",
      "327\n",
      "328\n",
      "329\n",
      "330\n",
      "331\n",
      "332\n",
      "333\n",
      "334\n",
      "335\n",
      "336\n",
      "337\n",
      "338\n",
      "339\n",
      "340\n",
      "341\n",
      "342\n",
      "343\n",
      "344\n",
      "345\n",
      "346\n",
      "347\n",
      "348\n",
      "349\n",
      "350\n",
      "351\n",
      "352\n",
      "353\n",
      "354\n",
      "355\n",
      "356\n",
      "357\n",
      "358\n",
      "359\n",
      "360\n",
      "361\n",
      "362\n",
      "363\n",
      "364\n",
      "365\n",
      "366\n",
      "367\n",
      "368\n",
      "369\n",
      "370\n",
      "371\n",
      "372\n",
      "373\n",
      "374\n",
      "375\n",
      "376\n",
      "377\n",
      "378\n",
      "379\n",
      "380\n",
      "381\n",
      "382\n",
      "383\n",
      "384\n",
      "385\n",
      "386\n",
      "387\n",
      "388\n",
      "389\n",
      "390\n",
      "391\n",
      "392\n",
      "393\n",
      "394\n",
      "395\n",
      "396\n",
      "397\n",
      "398\n",
      "399\n",
      "400\n",
      "401\n",
      "402\n",
      "403\n",
      "404\n",
      "405\n",
      "406\n",
      "407\n",
      "408\n",
      "409\n",
      "410\n",
      "411\n",
      "412\n",
      "413\n",
      "414\n",
      "415\n",
      "416\n",
      "417\n",
      "418\n",
      "419\n",
      "420\n",
      "421\n",
      "422\n",
      "423\n",
      "424\n",
      "425\n",
      "426\n",
      "427\n",
      "428\n",
      "429\n",
      "430\n",
      "431\n",
      "432\n",
      "433\n",
      "434\n",
      "435\n",
      "436\n",
      "437\n",
      "438\n",
      "439\n",
      "440\n",
      "441\n",
      "442\n",
      "443\n",
      "444\n",
      "445\n",
      "446\n",
      "447\n",
      "448\n",
      "449\n",
      "450\n",
      "451\n",
      "452\n",
      "453\n",
      "454\n",
      "455\n",
      "456\n",
      "457\n",
      "458\n",
      "459\n",
      "460\n",
      "461\n",
      "462\n",
      "463\n",
      "464\n",
      "465\n",
      "466\n",
      "467\n",
      "468\n",
      "469\n",
      "470\n",
      "471\n",
      "472\n",
      "473\n",
      "474\n",
      "475\n",
      "476\n",
      "477\n",
      "478\n",
      "479\n",
      "480\n",
      "481\n",
      "482\n",
      "483\n",
      "484\n",
      "485\n",
      "486\n",
      "487\n",
      "488\n",
      "489\n",
      "490\n",
      "491\n",
      "492\n",
      "493\n",
      "494\n",
      "495\n",
      "496\n",
      "497\n",
      "498\n",
      "499\n",
      "500\n",
      "501\n",
      "502\n",
      "503\n",
      "504\n",
      "505\n",
      "506\n",
      "507\n",
      "508\n",
      "509\n",
      "510\n",
      "511\n",
      "512\n",
      "513\n",
      "514\n",
      "515\n",
      "516\n",
      "517\n",
      "518\n",
      "519\n",
      "520\n",
      "521\n",
      "522\n",
      "523\n",
      "524\n",
      "525\n",
      "526\n",
      "527\n",
      "528\n",
      "529\n",
      "530\n",
      "531\n",
      "532\n",
      "533\n",
      "534\n",
      "535\n",
      "536\n",
      "537\n",
      "538\n",
      "539\n",
      "540\n",
      "541\n",
      "542\n",
      "543\n",
      "544\n",
      "545\n",
      "546\n",
      "547\n",
      "548\n",
      "549\n",
      "550\n",
      "551\n",
      "552\n",
      "553\n",
      "554\n",
      "555\n",
      "556\n",
      "557\n",
      "558\n",
      "559\n",
      "560\n",
      "561\n",
      "562\n",
      "563\n",
      "564\n",
      "565\n",
      "566\n",
      "567\n",
      "568\n",
      "569\n",
      "570\n",
      "571\n",
      "572\n",
      "573\n",
      "574\n",
      "575\n",
      "576\n",
      "577\n",
      "578\n",
      "579\n",
      "580\n",
      "581\n",
      "582\n",
      "583\n",
      "584\n",
      "585\n",
      "586\n",
      "587\n",
      "588\n",
      "589\n",
      "590\n",
      "591\n",
      "592\n",
      "593\n",
      "594\n",
      "595\n",
      "596\n",
      "597\n",
      "598\n",
      "599\n",
      "600\n",
      "601\n",
      "602\n",
      "603\n",
      "604\n",
      "605\n",
      "606\n",
      "607\n",
      "608\n",
      "609\n",
      "610\n",
      "611\n",
      "612\n",
      "613\n",
      "614\n",
      "615\n",
      "616\n",
      "617\n",
      "618\n",
      "619\n",
      "620\n",
      "621\n",
      "622\n",
      "623\n",
      "624\n",
      "625\n",
      "626\n",
      "627\n",
      "628\n",
      "629\n",
      "630\n",
      "631\n",
      "632\n",
      "633\n",
      "634\n",
      "635\n",
      "636\n",
      "637\n",
      "638\n",
      "639\n",
      "640\n",
      "641\n",
      "642\n",
      "643\n",
      "644\n",
      "645\n",
      "646\n",
      "647\n",
      "648\n",
      "649\n",
      "650\n",
      "651\n",
      "652\n",
      "653\n",
      "654\n",
      "655\n",
      "656\n",
      "657\n",
      "658\n",
      "659\n",
      "660\n",
      "661\n",
      "662\n",
      "663\n",
      "664\n",
      "665\n",
      "666\n",
      "667\n",
      "668\n",
      "669\n",
      "670\n",
      "671\n",
      "672\n",
      "673\n",
      "674\n",
      "675\n",
      "676\n",
      "677\n",
      "678\n",
      "679\n",
      "680\n",
      "681\n",
      "682\n",
      "683\n",
      "684\n",
      "685\n",
      "686\n",
      "687\n",
      "688\n",
      "689\n",
      "690\n",
      "691\n",
      "692\n",
      "693\n",
      "694\n",
      "695\n",
      "696\n",
      "697\n",
      "698\n",
      "699\n",
      "700\n",
      "701\n",
      "702\n",
      "703\n",
      "704\n",
      "705\n",
      "706\n",
      "707\n",
      "708\n",
      "709\n",
      "710\n",
      "711\n",
      "712\n",
      "713\n",
      "714\n",
      "715\n",
      "716\n",
      "717\n",
      "718\n",
      "719\n",
      "720\n",
      "721\n",
      "722\n",
      "723\n",
      "724\n",
      "725\n",
      "726\n",
      "727\n",
      "728\n",
      "729\n",
      "730\n",
      "731\n",
      "732\n",
      "733\n",
      "734\n",
      "735\n",
      "736\n",
      "737\n",
      "738\n",
      "739\n",
      "740\n",
      "741\n",
      "742\n",
      "743\n",
      "744\n",
      "745\n",
      "746\n",
      "747\n",
      "748\n",
      "749\n",
      "750\n",
      "751\n",
      "752\n",
      "753\n",
      "754\n",
      "755\n",
      "756\n",
      "757\n",
      "758\n",
      "759\n",
      "760\n",
      "761\n",
      "762\n",
      "763\n",
      "764\n",
      "765\n",
      "766\n",
      "767\n",
      "768\n",
      "769\n",
      "770\n",
      "771\n",
      "772\n",
      "773\n",
      "774\n",
      "775\n",
      "776\n",
      "777\n",
      "778\n",
      "779\n",
      "780\n",
      "781\n",
      "782\n",
      "783\n",
      "784\n",
      "785\n",
      "786\n",
      "787\n",
      "788\n",
      "789\n",
      "790\n",
      "791\n",
      "792\n",
      "793\n",
      "794\n",
      "795\n",
      "796\n",
      "797\n",
      "798\n",
      "799\n",
      "800\n",
      "801\n",
      "802\n",
      "803\n",
      "804\n",
      "805\n",
      "806\n",
      "807\n",
      "808\n",
      "809\n",
      "810\n",
      "811\n",
      "812\n",
      "813\n",
      "814\n",
      "815\n",
      "816\n",
      "817\n",
      "818\n",
      "819\n",
      "820\n",
      "821\n",
      "822\n",
      "823\n",
      "824\n",
      "825\n",
      "826\n",
      "827\n",
      "828\n",
      "829\n",
      "830\n",
      "831\n",
      "832\n",
      "833\n",
      "834\n",
      "835\n",
      "836\n",
      "837\n",
      "838\n",
      "839\n",
      "840\n",
      "841\n",
      "842\n",
      "843\n",
      "844\n",
      "845\n",
      "846\n",
      "847\n",
      "848\n",
      "849\n",
      "850\n",
      "851\n",
      "852\n",
      "853\n",
      "854\n",
      "855\n",
      "856\n",
      "857\n",
      "858\n",
      "859\n",
      "860\n",
      "861\n",
      "862\n",
      "863\n",
      "864\n",
      "865\n",
      "866\n",
      "867\n",
      "868\n",
      "869\n",
      "870\n",
      "871\n",
      "872\n",
      "873\n",
      "874\n",
      "875\n",
      "876\n",
      "877\n",
      "878\n",
      "879\n",
      "880\n",
      "881\n",
      "882\n",
      "883\n",
      "884\n",
      "885\n",
      "886\n",
      "887\n",
      "888\n",
      "889\n",
      "890\n",
      "891\n",
      "892\n",
      "893\n",
      "894\n",
      "895\n",
      "896\n",
      "897\n",
      "898\n",
      "899\n",
      "900\n",
      "901\n",
      "902\n",
      "903\n",
      "904\n",
      "905\n",
      "906\n",
      "907\n",
      "908\n",
      "909\n",
      "910\n",
      "911\n",
      "912\n",
      "913\n",
      "914\n",
      "915\n",
      "916\n",
      "917\n",
      "918\n",
      "919\n",
      "920\n",
      "921\n",
      "922\n",
      "923\n",
      "924\n",
      "925\n",
      "926\n",
      "927\n",
      "928\n",
      "929\n",
      "930\n",
      "931\n",
      "932\n",
      "933\n",
      "934\n",
      "935\n",
      "936\n",
      "937\n",
      "938\n",
      "939\n",
      "940\n",
      "941\n",
      "942\n",
      "943\n",
      "944\n",
      "945\n",
      "946\n",
      "947\n",
      "948\n",
      "949\n",
      "950\n",
      "951\n",
      "952\n",
      "953\n",
      "954\n",
      "955\n",
      "956\n",
      "957\n",
      "958\n",
      "959\n",
      "960\n",
      "961\n",
      "962\n",
      "963\n",
      "964\n",
      "965\n",
      "966\n",
      "967\n",
      "968\n",
      "969\n",
      "970\n",
      "971\n",
      "972\n",
      "973\n",
      "974\n",
      "975\n",
      "976\n",
      "977\n",
      "978\n",
      "979\n",
      "980\n",
      "981\n",
      "982\n",
      "983\n",
      "984\n",
      "985\n",
      "986\n",
      "987\n",
      "988\n",
      "989\n",
      "990\n",
      "991\n",
      "992\n",
      "993\n",
      "994\n",
      "995\n",
      "996\n",
      "997\n",
      "998\n",
      "999\n"
     ]
    }
   ],
   "source": [
    "sym_cr_rw3 = []\n",
    "for i in range(1000):\n",
    "    print(i)\n",
    "    rw2 = random_walk(datelist1.copy(), 10)\n",
    "    perm3_rw2 = count_permutation(rw2, 3)\n",
    "    sym_cr_rw3.append(symmetry_criterion(perm3_rw2))"
   ]
  },
  {
   "cell_type": "code",
   "execution_count": 24,
   "id": "c1bea899",
   "metadata": {},
   "outputs": [
    {
     "data": {
      "text/plain": [
       "(array([  1.,  10.,  33., 118., 212., 223., 232., 112.,  47.,  12.]),\n",
       " array([-0.17663421, -0.14520167, -0.11376912, -0.08233658, -0.05090403,\n",
       "        -0.01947149,  0.01196106,  0.0433936 ,  0.07482615,  0.10625869,\n",
       "         0.13769124]),\n",
       " <BarContainer object of 10 artists>)"
      ]
     },
     "execution_count": 24,
     "metadata": {},
     "output_type": "execute_result"
    },
    {
     "data": {
      "image/png": "[encoded data removed]",
      "text/plain": [
       "<Figure size 432x288 with 1 Axes>"
      ]
     },
     "metadata": {
      "needs_background": "light"
     },
     "output_type": "display_data"
    }
   ],
   "source": [
    "plt.hist(sym_cr_rw3)"
   ]
  },
  {
   "cell_type": "markdown",
   "id": "e66bbae7",
   "metadata": {},
   "source": [
    "Похоже, но не доказуемо"
   ]
  },
  {
   "cell_type": "code",
   "execution_count": 25,
   "id": "5c2c1563",
   "metadata": {},
   "outputs": [
    {
     "name": "stdout",
     "output_type": "stream",
     "text": [
      "0\n",
      "100\n",
      "200\n",
      "300\n",
      "400\n",
      "500\n",
      "600\n",
      "700\n",
      "800\n",
      "900\n"
     ]
    }
   ],
   "source": [
    "sym_cr_ts3 = []\n",
    "for i in range(1000):\n",
    "    if i%100 == 0:\n",
    "        print(i)\n",
    "    ts2 = fun(datelist1.copy(), 0.6, 0.4, 10, 2, 0)\n",
    "    perm3_ts2 = count_permutation(ts2, 3)\n",
    "    sym_cr_ts3.append(symmetry_criterion(perm3_ts2))"
   ]
  },
  {
   "cell_type": "code",
   "execution_count": 26,
   "id": "1c037d51",
   "metadata": {},
   "outputs": [
    {
     "data": {
      "text/plain": [
       "(array([ 10.,  18.,  96., 164., 221., 236., 154.,  81.,  12.,   8.]),\n",
       " array([0.44367177, 0.46536857, 0.48706537, 0.50876217, 0.53045897,\n",
       "        0.55215577, 0.57385257, 0.59554937, 0.61724618, 0.63894298,\n",
       "        0.66063978]),\n",
       " <BarContainer object of 10 artists>)"
      ]
     },
     "execution_count": 26,
     "metadata": {},
     "output_type": "execute_result"
    },
    {
     "data": {
      "image/png": "[encoded data removed]",
      "text/plain": [
       "<Figure size 432x288 with 1 Axes>"
      ]
     },
     "metadata": {
      "needs_background": "light"
     },
     "output_type": "display_data"
    }
   ],
   "source": [
    "plt.hist(sym_cr_ts3)"
   ]
  },
  {
   "cell_type": "markdown",
   "id": "e9b9acdd",
   "metadata": {},
   "source": [
    "Для несимметричных похоже на нормальное относительно 0.55 (для модуля). Неочевидно и не доказуемо."
   ]
  },
  {
   "cell_type": "code",
   "execution_count": 30,
   "id": "fbe3c302",
   "metadata": {},
   "outputs": [
    {
     "data": {
      "text/plain": [
       "(array([  1.,   8.,  21.,  65., 144., 202., 202., 194., 104.,  45.,  13.,\n",
       "          1.,   0.,   0.,   0.,   0.,   0.,   0.,   0.,   0.,   0.,   0.,\n",
       "         10.,  39., 144., 292., 286., 168.,  50.,  11.]),\n",
       " array([-0.17663421, -0.14872508, -0.12081595, -0.09290682, -0.06499768,\n",
       "        -0.03708855, -0.00917942,  0.01872972,  0.04663885,  0.07454798,\n",
       "         0.10245712,  0.13036625,  0.15827538,  0.18618452,  0.21409365,\n",
       "         0.24200278,  0.26991191,  0.29782105,  0.32573018,  0.35363931,\n",
       "         0.38154845,  0.40945758,  0.43736671,  0.46527585,  0.49318498,\n",
       "         0.52109411,  0.54900325,  0.57691238,  0.60482151,  0.63273064,\n",
       "         0.66063978]),\n",
       " <BarContainer object of 30 artists>)"
      ]
     },
     "execution_count": 30,
     "metadata": {},
     "output_type": "execute_result"
    },
    {
     "data": {
      "image/png": "[encoded data removed]",
      "text/plain": [
       "<Figure size 432x288 with 1 Axes>"
      ]
     },
     "metadata": {
      "needs_background": "light"
     },
     "output_type": "display_data"
    }
   ],
   "source": [
    "plt.hist(sym_cr_ts3, bins=30)"
   ]
  },
  {
   "cell_type": "code",
   "execution_count": 31,
   "id": "72364166",
   "metadata": {},
   "outputs": [
    {
     "name": "stdout",
     "output_type": "stream",
     "text": [
      "0\n",
      "100\n",
      "200\n",
      "300\n",
      "400\n",
      "500\n",
      "600\n",
      "700\n",
      "800\n",
      "900\n"
     ]
    }
   ],
   "source": [
    "sym_cr_ts3 = []\n",
    "for i in range(1000):\n",
    "    if i%100 == 0:\n",
    "        print(i)\n",
    "    a = rd.uniform(0,1)\n",
    "    ts2 = fun(datelist1.copy(), a, 1-a, 10, rd.uniform(-2,2), 0)\n",
    "    perm3_ts2 = count_permutation(ts2, 3)\n",
    "    sym_cr_ts3.append(symmetry_criterion(perm3_ts2))"
   ]
  },
  {
   "cell_type": "code",
   "execution_count": null,
   "id": "73623631",
   "metadata": {},
   "outputs": [],
   "source": [
    "plt.hist(sym_cr_ts3, bins=30)"
   ]
  },
  {
   "cell_type": "code",
   "execution_count": 32,
   "id": "d4bda3c4",
   "metadata": {},
   "outputs": [
    {
     "data": {
      "image/png": "[encoded data removed]",
      "text/plain": [
       "<Figure size 432x288 with 1 Axes>"
      ]
     },
     "metadata": {
      "needs_background": "light"
     },
     "output_type": "display_data"
    }
   ],
   "source": [
    "sym_cr = sym_cr_ts3.copy()\n",
    "sym_cr.extend(sym_cr_rw3)\n",
    "plt.hist(sym_cr, bins=50)\n",
    "plt.show()"
   ]
  },
  {
   "cell_type": "markdown",
   "id": "a5274652",
   "metadata": {},
   "source": [
    "Так выглядит общее распределение статистики. Попробуем преобразовать критерий Смирнова под наше категориальное распределение"
   ]
  },
  {
   "cell_type": "code",
   "execution_count": 26,
   "id": "78da45cf",
   "metadata": {},
   "outputs": [
    {
     "data": {
      "text/plain": [
       "('YES', 172, 191.09413666218717)"
      ]
     },
     "execution_count": 26,
     "metadata": {},
     "output_type": "execute_result"
    }
   ],
   "source": [
    "Smirnov_criterion(rw1, 4)"
   ]
  },
  {
   "cell_type": "code",
   "execution_count": 20,
   "id": "fb0c8c18",
   "metadata": {},
   "outputs": [
    {
     "data": {
      "text/plain": [
       "<Axes: >"
      ]
     },
     "execution_count": 20,
     "metadata": {},
     "output_type": "execute_result"
    },
    {
     "data": {
      "image/png": "[encoded data removed]",
      "text/plain": [
       "<Figure size 640x480 with 1 Axes>"
      ]
     },
     "metadata": {},
     "output_type": "display_data"
    }
   ],
   "source": [
    "rw1.plot()"
   ]
  },
  {
   "cell_type": "code",
   "execution_count": 27,
   "id": "e548ccf1",
   "metadata": {},
   "outputs": [],
   "source": [
    "sym_cr_rw4 = []\n",
    "for i in range(1000):\n",
    "    rw2 = random_walk(datelist1.copy(), 10)\n",
    "    sym_cr_rw4.append(list(Smirnov_criterion(rw2, 4)))\n",
    "sym_cr_rw4 = pd.DataFrame(sym_cr_rw4)"
   ]
  },
  {
   "cell_type": "code",
   "execution_count": 34,
   "id": "13fa6585",
   "metadata": {},
   "outputs": [],
   "source": [
    "sym_cr_rw4.columns = ['Sym',\"tau\",\"tau_crit\"]"
   ]
  },
  {
   "cell_type": "code",
   "execution_count": 37,
   "id": "f574fb37",
   "metadata": {},
   "outputs": [
    {
     "data": {
      "text/html": [
       "<div>\n",
       "<style scoped>\n",
       "    .dataframe tbody tr th:only-of-type {\n",
       "        vertical-align: middle;\n",
       "    }\n",
       "\n",
       "    .dataframe tbody tr th {\n",
       "        vertical-align: top;\n",
       "    }\n",
       "\n",
       "    .dataframe thead th {\n",
       "        text-align: right;\n",
       "    }\n",
       "</style>\n",
       "<table border=\"1\" class=\"dataframe\">\n",
       "  <thead>\n",
       "    <tr style=\"text-align: right;\">\n",
       "      <th></th>\n",
       "      <th>Sym</th>\n",
       "      <th>tau</th>\n",
       "      <th>tau_crit</th>\n",
       "    </tr>\n",
       "  </thead>\n",
       "  <tbody>\n",
       "    <tr>\n",
       "      <th>0</th>\n",
       "      <td>YES</td>\n",
       "      <td>51</td>\n",
       "      <td>52.653154</td>\n",
       "    </tr>\n",
       "    <tr>\n",
       "      <th>1</th>\n",
       "      <td>YES</td>\n",
       "      <td>39</td>\n",
       "      <td>52.653154</td>\n",
       "    </tr>\n",
       "    <tr>\n",
       "      <th>3</th>\n",
       "      <td>YES</td>\n",
       "      <td>28</td>\n",
       "      <td>52.653154</td>\n",
       "    </tr>\n",
       "    <tr>\n",
       "      <th>4</th>\n",
       "      <td>YES</td>\n",
       "      <td>35</td>\n",
       "      <td>52.653154</td>\n",
       "    </tr>\n",
       "    <tr>\n",
       "      <th>7</th>\n",
       "      <td>YES</td>\n",
       "      <td>27</td>\n",
       "      <td>52.653154</td>\n",
       "    </tr>\n",
       "    <tr>\n",
       "      <th>...</th>\n",
       "      <td>...</td>\n",
       "      <td>...</td>\n",
       "      <td>...</td>\n",
       "    </tr>\n",
       "    <tr>\n",
       "      <th>994</th>\n",
       "      <td>YES</td>\n",
       "      <td>43</td>\n",
       "      <td>52.653154</td>\n",
       "    </tr>\n",
       "    <tr>\n",
       "      <th>995</th>\n",
       "      <td>YES</td>\n",
       "      <td>32</td>\n",
       "      <td>52.653154</td>\n",
       "    </tr>\n",
       "    <tr>\n",
       "      <th>997</th>\n",
       "      <td>YES</td>\n",
       "      <td>23</td>\n",
       "      <td>52.653154</td>\n",
       "    </tr>\n",
       "    <tr>\n",
       "      <th>998</th>\n",
       "      <td>YES</td>\n",
       "      <td>32</td>\n",
       "      <td>52.653154</td>\n",
       "    </tr>\n",
       "    <tr>\n",
       "      <th>999</th>\n",
       "      <td>YES</td>\n",
       "      <td>41</td>\n",
       "      <td>52.653154</td>\n",
       "    </tr>\n",
       "  </tbody>\n",
       "</table>\n",
       "<p>616 rows × 3 columns</p>\n",
       "</div>"
      ],
      "text/plain": [
       "     Sym  tau   tau_crit\n",
       "0    YES   51  52.653154\n",
       "1    YES   39  52.653154\n",
       "3    YES   28  52.653154\n",
       "4    YES   35  52.653154\n",
       "7    YES   27  52.653154\n",
       "..   ...  ...        ...\n",
       "994  YES   43  52.653154\n",
       "995  YES   32  52.653154\n",
       "997  YES   23  52.653154\n",
       "998  YES   32  52.653154\n",
       "999  YES   41  52.653154\n",
       "\n",
       "[616 rows x 3 columns]"
      ]
     },
     "execution_count": 37,
     "metadata": {},
     "output_type": "execute_result"
    }
   ],
   "source": [
    "sym_cr_rw4[sym_cr_rw4.Sym == \"YES\"]"
   ]
  },
  {
   "cell_type": "markdown",
   "id": "c77f6198",
   "metadata": {},
   "source": [
    "Имеем плохую способность определять наше симметричное распределение. Проверяем как работает наш критерий симметричности, основанный на множественной проверки гипотез о равенстве вероятностей."
   ]
  },
  {
   "cell_type": "code",
   "execution_count": 22,
   "id": "54e82055",
   "metadata": {},
   "outputs": [],
   "source": [
    "rw = random_walk(datelist.copy(), 10)"
   ]
  },
  {
   "cell_type": "code",
   "execution_count": 23,
   "id": "ad1cf89d",
   "metadata": {},
   "outputs": [],
   "source": [
    "perm = count_permutation(rw, 3)"
   ]
  },
  {
   "cell_type": "code",
   "execution_count": 24,
   "id": "fd220598",
   "metadata": {},
   "outputs": [
    {
     "data": {
      "text/plain": [
       "<BarContainer object of 6 artists>"
      ]
     },
     "execution_count": 24,
     "metadata": {},
     "output_type": "execute_result"
    },
    {
     "data": {
      "image/png": "[encoded data removed]",
      "text/plain": [
       "<Figure size 640x480 with 1 Axes>"
      ]
     },
     "metadata": {},
     "output_type": "display_data"
    }
   ],
   "source": [
    "plt.bar(range(len(perm)),perm)"
   ]
  },
  {
   "cell_type": "code",
   "execution_count": 34,
   "id": "ec3dbba0",
   "metadata": {},
   "outputs": [
    {
     "data": {
      "text/plain": [
       "(-0.2018967566386016, 0.20999935942341091)"
      ]
     },
     "execution_count": 34,
     "metadata": {},
     "output_type": "execute_result"
    }
   ],
   "source": [
    "equals_criterion(perm[0],perm[5],sum(perm))"
   ]
  },
  {
   "cell_type": "code",
   "execution_count": 35,
   "id": "f7c1bdc0",
   "metadata": {},
   "outputs": [
    {
     "data": {
      "text/plain": [
       "(1.306085028569602, 0.047880910918024266)"
      ]
     },
     "execution_count": 35,
     "metadata": {},
     "output_type": "execute_result"
    }
   ],
   "source": [
    "equals_criterion(perm[1],perm[4],sum(perm))"
   ]
  },
  {
   "cell_type": "code",
   "execution_count": 36,
   "id": "ac6c6697",
   "metadata": {},
   "outputs": [
    {
     "data": {
      "text/plain": [
       "(1.3332897779635697, 0.04560918172637152)"
      ]
     },
     "execution_count": 36,
     "metadata": {},
     "output_type": "execute_result"
    }
   ],
   "source": [
    "equals_criterion(perm[2],perm[3],sum(perm))"
   ]
  },
  {
   "cell_type": "code",
   "execution_count": 37,
   "id": "98281058",
   "metadata": {},
   "outputs": [
    {
     "data": {
      "text/plain": [
       "(20.41094274236331, 0.0)"
      ]
     },
     "execution_count": 37,
     "metadata": {},
     "output_type": "execute_result"
    }
   ],
   "source": [
    "equals_criterion(perm[0],perm[1],sum(perm))"
   ]
  },
  {
   "cell_type": "code",
   "execution_count": 38,
   "id": "eadc737f",
   "metadata": {},
   "outputs": [
    {
     "data": {
      "text/plain": [
       "(21.66495364533908, 0.0)"
      ]
     },
     "execution_count": 38,
     "metadata": {},
     "output_type": "execute_result"
    }
   ],
   "source": [
    "equals_criterion(perm[0],perm[4],sum(perm))"
   ]
  },
  {
   "cell_type": "code",
   "execution_count": 39,
   "id": "9e1b70a0",
   "metadata": {},
   "outputs": [
    {
     "data": {
      "text/plain": [
       "(array([False, False, False]),\n",
       " array([0.20999936, 0.13068183, 0.13068183]),\n",
       " 0.016952427508441503,\n",
       " 0.016666666666666666)"
      ]
     },
     "execution_count": 39,
     "metadata": {},
     "output_type": "execute_result"
    }
   ],
   "source": [
    "multiply_equals_criterion(perm)"
   ]
  },
  {
   "cell_type": "code",
   "execution_count": 40,
   "id": "df37aece",
   "metadata": {},
   "outputs": [],
   "source": [
    "perm = count_permutation(rw, 4)"
   ]
  },
  {
   "cell_type": "code",
   "execution_count": 41,
   "id": "4ae256f7",
   "metadata": {},
   "outputs": [
    {
     "data": {
      "text/plain": [
       "<BarContainer object of 24 artists>"
      ]
     },
     "execution_count": 41,
     "metadata": {},
     "output_type": "execute_result"
    },
    {
     "data": {
      "image/png": "[encoded data removed]",
      "text/plain": [
       "<Figure size 640x480 with 1 Axes>"
      ]
     },
     "metadata": {},
     "output_type": "display_data"
    }
   ],
   "source": [
    "plt.bar(range(len(perm)),perm)"
   ]
  },
  {
   "cell_type": "code",
   "execution_count": 42,
   "id": "f33a18cf",
   "metadata": {},
   "outputs": [
    {
     "data": {
      "text/plain": [
       "(array([False, False, False, False, False, False, False, False, False,\n",
       "        False, False, False]),\n",
       " array([0.50894728, 0.38385839, 0.50894728, 0.49928078, 0.50894728,\n",
       "        0.38122767, 0.27102657, 0.28746054, 0.49928078, 0.368589  ,\n",
       "        0.41034361, 0.368589  ]),\n",
       " 0.004265318777560645,\n",
       " 0.004166666666666667)"
      ]
     },
     "execution_count": 42,
     "metadata": {},
     "output_type": "execute_result"
    }
   ],
   "source": [
    "multiply_equals_criterion(perm)"
   ]
  },
  {
   "cell_type": "code",
   "execution_count": 43,
   "id": "22c4aa8d",
   "metadata": {},
   "outputs": [],
   "source": [
    "ts = fun(datelist.copy(), 0.6, 0.4, 5, np.random.normal(0,2), 0)"
   ]
  },
  {
   "cell_type": "code",
   "execution_count": 44,
   "id": "23983402",
   "metadata": {},
   "outputs": [],
   "source": [
    "ts_perm = count_permutation(ts, 4)"
   ]
  },
  {
   "cell_type": "code",
   "execution_count": 45,
   "id": "c7d9b16e",
   "metadata": {},
   "outputs": [
    {
     "data": {
      "text/plain": [
       "<BarContainer object of 24 artists>"
      ]
     },
     "execution_count": 45,
     "metadata": {},
     "output_type": "execute_result"
    },
    {
     "data": {
      "image/png": "[encoded data removed]",
      "text/plain": [
       "<Figure size 640x480 with 1 Axes>"
      ]
     },
     "metadata": {},
     "output_type": "display_data"
    }
   ],
   "source": [
    "plt.bar(range(len(ts_perm)),ts_perm)"
   ]
  },
  {
   "cell_type": "code",
   "execution_count": 46,
   "id": "41918f60",
   "metadata": {},
   "outputs": [
    {
     "data": {
      "text/plain": [
       "(array([ True,  True,  True,  True,  True,  True,  True,  True,  True,\n",
       "         True,  True,  True]),\n",
       " array([0.00000000e+00, 0.00000000e+00, 0.00000000e+00, 0.00000000e+00,\n",
       "        0.00000000e+00, 1.66533454e-16, 0.00000000e+00, 0.00000000e+00,\n",
       "        0.00000000e+00, 0.00000000e+00, 9.47114609e-12, 1.54876112e-13]),\n",
       " 0.004265318777560645,\n",
       " 0.004166666666666667)"
      ]
     },
     "execution_count": 46,
     "metadata": {},
     "output_type": "execute_result"
    }
   ],
   "source": [
    "multiply_equals_criterion(ts_perm)"
   ]
  },
  {
   "cell_type": "code",
   "execution_count": 57,
   "id": "c09ab6e3",
   "metadata": {},
   "outputs": [
    {
     "name": "stdout",
     "output_type": "stream",
     "text": [
      "0\n"
     ]
    },
    {
     "name": "stderr",
     "output_type": "stream",
     "text": [
      "D:\\Programs\\Anac\\lib\\site-packages\\statsmodels\\stats\\multitest.py:186: RuntimeWarning: divide by zero encountered in log1p\n",
      "  np.log1p(-pvals))\n"
     ]
    },
    {
     "name": "stdout",
     "output_type": "stream",
     "text": [
      "(array([ True, False, False]), array([0.00132425, 0.64507947, 0.64507947]), 0.016952427508441503, 0.016666666666666666)\n",
      "(array([ True, False, False]), array([0.04186575, 0.93965935, 0.93965935]), 0.016952427508441503, 0.016666666666666666)\n",
      "(array([ True, False, False]), array([0.03938725, 0.75904575, 0.75904575]), 0.016952427508441503, 0.016666666666666666)\n",
      "(array([ True, False, False]), array([0.00280503, 0.76120083, 0.76120083]), 0.016952427508441503, 0.016666666666666666)\n",
      "(array([ True, False, False]), array([0.04547714, 0.7279452 , 0.7279452 ]), 0.016952427508441503, 0.016666666666666666)\n",
      "(array([ True, False, False]), array([0.00511079, 0.93858083, 0.93858083]), 0.016952427508441503, 0.016666666666666666)\n",
      "(array([ True, False, False]), array([0.03222404, 0.51819495, 0.51819495]), 0.016952427508441503, 0.016666666666666666)\n",
      "(array([False,  True,  True]), array([0.1649271 , 0.03674972, 0.03674972]), 0.016952427508441503, 0.016666666666666666)\n",
      "(array([ True, False, False]), array([0.00409305, 0.90619283, 0.90619283]), 0.016952427508441503, 0.016666666666666666)\n",
      "(array([ True, False, False]), array([0.02357729, 0.96510957, 0.96510957]), 0.016952427508441503, 0.016666666666666666)\n",
      "(array([ True, False, False]), array([0.02430769, 0.70457432, 0.70457432]), 0.016952427508441503, 0.016666666666666666)\n",
      "100\n",
      "(array([ True, False, False]), array([0.00521749, 0.72581035, 0.72581035]), 0.016952427508441503, 0.016666666666666666)\n",
      "(array([ True, False, False]), array([0.00110249, 0.23178687, 0.23178687]), 0.016952427508441503, 0.016666666666666666)\n",
      "(array([ True,  True,  True]), array([0.00028492, 0.0418272 , 0.0418272 ]), 0.016952427508441503, 0.016666666666666666)\n",
      "(array([ True, False, False]), array([0.00469248, 0.21265713, 0.21265713]), 0.016952427508441503, 0.016666666666666666)\n",
      "(array([ True, False, False]), array([0.00241301, 0.71915146, 0.71915146]), 0.016952427508441503, 0.016666666666666666)\n",
      "(array([ True, False, False]), array([0.00622729, 0.58306162, 0.58306162]), 0.016952427508441503, 0.016666666666666666)\n",
      "(array([ True, False, False]), array([0.00543333, 0.90276498, 0.90276498]), 0.016952427508441503, 0.016666666666666666)\n",
      "(array([ True, False, False]), array([0.03179558, 0.86844232, 0.86844232]), 0.016952427508441503, 0.016666666666666666)\n",
      "(array([ True, False, False]), array([0.00644109, 0.99578395, 0.99578395]), 0.016952427508441503, 0.016666666666666666)\n",
      "(array([ True, False, False]), array([0.01314292, 0.98349471, 0.98349471]), 0.016952427508441503, 0.016666666666666666)\n",
      "(array([ True, False, False]), array([0.0014342 , 0.72141467, 0.72141467]), 0.016952427508441503, 0.016666666666666666)\n",
      "(array([ True, False, False]), array([0.00182248, 0.16953835, 0.16953835]), 0.016952427508441503, 0.016666666666666666)\n",
      "(array([ True, False, False]), array([0.0012434 , 0.76937922, 0.76937922]), 0.016952427508441503, 0.016666666666666666)\n",
      "(array([ True, False, False]), array([0.02968819, 0.25405147, 0.25405147]), 0.016952427508441503, 0.016666666666666666)\n",
      "200\n",
      "(array([ True, False, False]), array([0.01230241, 0.96308376, 0.96308376]), 0.016952427508441503, 0.016666666666666666)\n",
      "(array([ True, False, False]), array([0.0407848 , 1.        , 0.99609473]), 0.016952427508441503, 0.016666666666666666)\n",
      "(array([ True, False, False]), array([0.00655637, 0.76331037, 0.76331037]), 0.016952427508441503, 0.016666666666666666)\n",
      "(array([False,  True,  True]), array([0.43570816, 0.0271682 , 0.02813504]), 0.016952427508441503, 0.016666666666666666)\n",
      "(array([ True, False, False]), array([0.02077325, 0.85313375, 0.85313375]), 0.016952427508441503, 0.016666666666666666)\n",
      "(array([ True, False, False]), array([0.00492241, 0.52126404, 0.52126404]), 0.016952427508441503, 0.016666666666666666)\n",
      "(array([ True, False, False]), array([1.29703505e-04, 8.90393973e-01, 8.90393973e-01]), 0.016952427508441503, 0.016666666666666666)\n",
      "(array([ True, False, False]), array([0.04564504, 0.34959651, 0.34959651]), 0.016952427508441503, 0.016666666666666666)\n",
      "(array([ True, False, False]), array([0.04461917, 0.13668268, 0.13668268]), 0.016952427508441503, 0.016666666666666666)\n",
      "(array([ True, False, False]), array([0.03843071, 0.65943941, 0.65943941]), 0.016952427508441503, 0.016666666666666666)\n",
      "(array([ True, False, False]), array([1.44902271e-04, 5.62988909e-01, 5.62988909e-01]), 0.016952427508441503, 0.016666666666666666)\n",
      "(array([ True, False, False]), array([0.01285807, 0.77870168, 0.77870168]), 0.016952427508441503, 0.016666666666666666)\n",
      "(array([ True, False, False]), array([0.02430769, 0.17243044, 0.17243044]), 0.016952427508441503, 0.016666666666666666)\n",
      "(array([ True, False, False]), array([0.00648027, 0.57188053, 0.57188053]), 0.016952427508441503, 0.016666666666666666)\n",
      "(array([ True, False, False]), array([0.00042741, 0.14484581, 0.14484581]), 0.016952427508441503, 0.016666666666666666)\n",
      "(array([ True, False, False]), array([0.0087774 , 0.96271831, 0.96271831]), 0.016952427508441503, 0.016666666666666666)\n",
      "(array([ True, False, False]), array([0.01356768, 0.98299055, 0.98299055]), 0.016952427508441503, 0.016666666666666666)\n",
      "(array([ True, False, False]), array([0.03221799, 0.43442252, 0.43442252]), 0.016952427508441503, 0.016666666666666666)\n",
      "(array([ True, False, False]), array([0.00091985, 0.89491455, 0.89491455]), 0.016952427508441503, 0.016666666666666666)\n",
      "(array([ True, False, False]), array([6.80379468e-04, 8.68442320e-01, 8.68442320e-01]), 0.016952427508441503, 0.016666666666666666)\n",
      "300\n",
      "(array([ True, False, False]), array([0.02332895, 0.61221015, 0.61221015]), 0.016952427508441503, 0.016666666666666666)\n",
      "(array([ True, False, False]), array([0.01332771, 0.36366845, 0.36366845]), 0.016952427508441503, 0.016666666666666666)\n",
      "(array([ True, False, False]), array([0.00786322, 0.93687247, 0.93687247]), 0.016952427508441503, 0.016666666666666666)\n",
      "(array([ True, False, False]), array([7.05095788e-06, 7.07129719e-01, 7.07129719e-01]), 0.016952427508441503, 0.016666666666666666)\n",
      "(array([ True, False, False]), array([0.01500388, 0.62063695, 0.62063695]), 0.016952427508441503, 0.016666666666666666)\n",
      "(array([ True, False, False]), array([4.29430385e-04, 9.84260867e-01, 9.84260867e-01]), 0.016952427508441503, 0.016666666666666666)\n",
      "(array([ True, False, False]), array([0.01696811, 0.0996571 , 0.0996571 ]), 0.016952427508441503, 0.016666666666666666)\n",
      "(array([ True, False, False]), array([0.02357729, 0.71915146, 0.71915146]), 0.016952427508441503, 0.016666666666666666)\n",
      "(array([ True, False, False]), array([7.88793600e-05, 4.11802198e-01, 4.11802198e-01]), 0.016952427508441503, 0.016666666666666666)\n",
      "(array([ True, False, False]), array([0.01963297, 0.76331037, 0.76331037]), 0.016952427508441503, 0.016666666666666666)\n",
      "(array([ True, False, False]), array([0.00500491, 0.86498146, 0.86498146]), 0.016952427508441503, 0.016666666666666666)\n",
      "(array([ True, False, False]), array([0.02504491, 0.86377811, 0.86377811]), 0.016952427508441503, 0.016666666666666666)\n",
      "400\n",
      "(array([ True, False, False]), array([0.03412758, 0.3252471 , 0.3252471 ]), 0.016952427508441503, 0.016666666666666666)\n",
      "(array([ True, False, False]), array([0.01420972, 0.46951634, 0.46951634]), 0.016952427508441503, 0.016666666666666666)\n",
      "(array([ True, False, False]), array([0.02278125, 0.42297731, 0.42297731]), 0.016952427508441503, 0.016666666666666666)\n",
      "(array([ True, False, False]), array([0.04725885, 0.677348  , 0.677348  ]), 0.016952427508441503, 0.016666666666666666)\n",
      "(array([ True, False, False]), array([0.01934912, 0.81546519, 0.81546519]), 0.016952427508441503, 0.016666666666666666)\n",
      "(array([ True, False, False]), array([0.0163814, 1.       , 1.       ]), 0.016952427508441503, 0.016666666666666666)\n",
      "(array([ True, False, False]), array([0.01106828, 0.69657793, 0.69657793]), 0.016952427508441503, 0.016666666666666666)\n",
      "(array([ True, False, False]), array([0.01380172, 0.99605889, 1.        ]), 0.016952427508441503, 0.016666666666666666)\n",
      "(array([ True, False, False]), array([0.03221799, 0.99586709, 1.        ]), 0.016952427508441503, 0.016666666666666666)\n",
      "(array([ True, False, False]), array([0.03412758, 0.55039856, 0.55039856]), 0.016952427508441503, 0.016666666666666666)\n",
      "(array([ True, False, False]), array([0.03603837, 0.93375595, 0.93375595]), 0.016952427508441503, 0.016666666666666666)\n"
     ]
    },
    {
     "name": "stdout",
     "output_type": "stream",
     "text": [
      "500\n",
      "(array([ True, False, False]), array([0.02267855, 0.62334688, 0.62334688]), 0.016952427508441503, 0.016666666666666666)\n",
      "(array([ True, False, False]), array([0.00686614, 0.73411127, 0.73411127]), 0.016952427508441503, 0.016666666666666666)\n",
      "(array([ True, False, False]), array([0.00246927, 0.05066208, 0.05066208]), 0.016952427508441503, 0.016666666666666666)\n",
      "(array([ True, False, False]), array([0.0087774 , 0.10408235, 0.10408235]), 0.016952427508441503, 0.016666666666666666)\n",
      "(array([ True, False, False]), array([0.02726538, 0.26646786, 0.26646786]), 0.016952427508441503, 0.016666666666666666)\n",
      "(array([ True, False, False]), array([0.00200132, 0.96075447, 0.96075447]), 0.016952427508441503, 0.016666666666666666)\n",
      "(array([ True, False, False]), array([0.04725885, 0.59064222, 0.59064222]), 0.016952427508441503, 0.016666666666666666)\n",
      "(array([ True, False, False]), array([8.20983685e-04, 9.38023834e-01, 9.38023834e-01]), 0.016952427508441503, 0.016666666666666666)\n",
      "(array([ True, False, False]), array([0.00987841, 0.99574087, 0.99574087]), 0.016952427508441503, 0.016666666666666666)\n",
      "(array([ True, False, False]), array([0.00169533, 0.96308376, 0.96308376]), 0.016952427508441503, 0.016666666666666666)\n",
      "(array([ True, False, False]), array([0.02393144, 0.99530092, 0.99530092]), 0.016952427508441503, 0.016666666666666666)\n",
      "(array([ True, False, False]), array([0.01549077, 0.33855164, 0.33855164]), 0.016952427508441503, 0.016666666666666666)\n",
      "(array([ True, False, False]), array([0.00786322, 0.77508468, 0.77508468]), 0.016952427508441503, 0.016666666666666666)\n",
      "(array([ True, False, False]), array([0.00106852, 0.96196105, 0.96196105]), 0.016952427508441503, 0.016666666666666666)\n",
      "(array([ True, False, False]), array([0.01272107, 0.98281429, 0.98281429]), 0.016952427508441503, 0.016666666666666666)\n",
      "(array([ True, False, False]), array([0.00336796, 0.9657272 , 0.9657272 ]), 0.016952427508441503, 0.016666666666666666)\n",
      "(array([ True, False, False]), array([0.01721637, 0.39057429, 0.39057429]), 0.016952427508441503, 0.016666666666666666)\n",
      "(array([ True, False, False]), array([0.02010198, 0.90365006, 0.90365006]), 0.016952427508441503, 0.016666666666666666)\n",
      "(array([False,  True,  True]), array([0.71126846, 0.02262485, 0.01855695]), 0.016952427508441503, 0.016666666666666666)\n",
      "600\n",
      "(array([ True, False, False]), array([0.00956052, 0.86000758, 0.86000758]), 0.016952427508441503, 0.016666666666666666)\n",
      "(array([ True, False, False]), array([0.01066509, 1.        , 1.        ]), 0.016952427508441503, 0.016666666666666666)\n",
      "(array([ True, False, False]), array([2.68952423e-05, 9.35668488e-01, 9.35668488e-01]), 0.016952427508441503, 0.016666666666666666)\n",
      "(array([ True, False, False]), array([0.01261137, 0.96234417, 0.96234417]), 0.016952427508441503, 0.016666666666666666)\n",
      "(array([ True, False, False]), array([0.02594428, 0.73464031, 0.73464031]), 0.016952427508441503, 0.016666666666666666)\n",
      "(array([ True, False, False]), array([0.0024675 , 0.65099512, 0.65099512]), 0.016952427508441503, 0.016666666666666666)\n",
      "(array([ True, False, False]), array([0.00118276, 0.86254857, 0.86254857]), 0.016952427508441503, 0.016666666666666666)\n",
      "(array([ True, False, False]), array([0.00459011, 0.96446436, 0.96446436]), 0.016952427508441503, 0.016666666666666666)\n",
      "(array([ True, False, False]), array([0.02106266, 0.98349471, 0.98349471]), 0.016952427508441503, 0.016666666666666666)\n",
      "(array([ True, False, False]), array([2.05509004e-04, 7.56843681e-01, 7.56843681e-01]), 0.016952427508441503, 0.016666666666666666)\n",
      "700\n",
      "(array([ True, False, False]), array([0.00048173, 0.48136993, 0.48136993]), 0.016952427508441503, 0.016666666666666666)\n",
      "(array([ True, False, False]), array([0.04456667, 0.65099512, 0.65099512]), 0.016952427508441503, 0.016666666666666666)\n",
      "(array([ True, False, False]), array([0.03264056, 0.98263369, 0.98263369]), 0.016952427508441503, 0.016666666666666666)\n",
      "(array([ True, False, False]), array([0.0347541 , 0.89597764, 0.89597764]), 0.016952427508441503, 0.016666666666666666)\n",
      "(array([ True, False, False]), array([0.00110249, 0.52976421, 0.52976421]), 0.016952427508441503, 0.016666666666666666)\n",
      "(array([ True, False, False]), array([0.00699639, 0.90093489, 0.90093489]), 0.016952427508441503, 0.016666666666666666)\n",
      "(array([ True, False, False]), array([0.00283775, 0.54035887, 0.54035887]), 0.016952427508441503, 0.016666666666666666)\n",
      "(array([ True, False, False]), array([0.00161866, 0.76937922, 0.76937922]), 0.016952427508441503, 0.016666666666666666)\n",
      "(array([ True, False, False]), array([0.01186496, 0.93375595, 0.93375595]), 0.016952427508441503, 0.016666666666666666)\n",
      "(array([ True, False, False]), array([1.24100733e-05, 5.68966703e-01, 5.68966703e-01]), 0.016952427508441503, 0.016666666666666666)\n",
      "(array([ True, False, False]), array([0.02176324, 0.33183014, 0.33183014]), 0.016952427508441503, 0.016666666666666666)\n",
      "(array([ True, False, False]), array([0.02170704, 0.99602224, 1.        ]), 0.016952427508441503, 0.016666666666666666)\n",
      "(array([ True, False, False]), array([0.02838107, 0.93098539, 0.93098539]), 0.016952427508441503, 0.016666666666666666)\n",
      "(array([ True, False, False]), array([0.00209738, 0.82026705, 0.82026705]), 0.016952427508441503, 0.016666666666666666)\n",
      "(array([ True, False, False]), array([0.04564504, 0.96413086, 0.96413086]), 0.016952427508441503, 0.016666666666666666)\n",
      "(array([ True, False, False]), array([0.03986519, 0.89902042, 0.89902042]), 0.016952427508441503, 0.016666666666666666)\n",
      "(array([ True, False, False]), array([0.01112788, 0.77691113, 0.77691113]), 0.016952427508441503, 0.016666666666666666)\n",
      "(array([ True, False, False]), array([0.00169533, 0.99569675, 0.99569675]), 0.016952427508441503, 0.016666666666666666)\n",
      "800\n",
      "(array([ True, False, False]), array([0.00147025, 0.72363389, 0.72363389]), 0.016952427508441503, 0.016666666666666666)\n",
      "(array([ True, False, False]), array([6.56242713e-04, 9.83162609e-01, 9.83162609e-01]), 0.016952427508441503, 0.016666666666666666)\n",
      "(array([ True, False, False]), array([0.04564504, 1.        , 0.9961298 ]), 0.016952427508441503, 0.016666666666666666)\n",
      "(array([ True, False, False]), array([0.02726538, 0.35672381, 0.35672381]), 0.016952427508441503, 0.016666666666666666)\n",
      "(array([ True, False, False]), array([0.00228326, 0.904516  , 0.904516  ]), 0.016952427508441503, 0.016666666666666666)\n",
      "(array([ True, False, False]), array([0.03010886, 0.96446436, 0.96446436]), 0.016952427508441503, 0.016666666666666666)\n",
      "(array([ True, False, False]), array([0.04913117, 0.86615944, 0.86615944]), 0.016952427508441503, 0.016666666666666666)\n",
      "(array([ True, False, False]), array([0.01906585, 0.81546519, 0.81546519]), 0.016952427508441503, 0.016666666666666666)\n",
      "(array([ True, False, False]), array([0.03348601, 0.93745451, 0.93745451]), 0.016952427508441503, 0.016666666666666666)\n",
      "(array([ True, False, False]), array([0.00387645, 1.        , 1.        ]), 0.016952427508441503, 0.016666666666666666)\n",
      "(array([ True, False, False]), array([4.04454842e-04, 4.98705725e-01, 4.98705725e-01]), 0.016952427508441503, 0.016666666666666666)\n",
      "(array([ True, False, False]), array([0.00436306, 0.98396479, 0.98396479]), 0.016952427508441503, 0.016666666666666666)\n",
      "(array([ True, False, False]), array([0.02170704, 0.96446436, 0.96446436]), 0.016952427508441503, 0.016666666666666666)\n",
      "(array([ True,  True,  True]), array([0.02010198, 0.03437961, 0.03437961]), 0.016952427508441503, 0.016666666666666666)\n",
      "(array([ True, False, False]), array([0.03010886, 0.82026705, 0.82026705]), 0.016952427508441503, 0.016666666666666666)\n",
      "(array([ True, False, False]), array([0.01112788, 0.96542173, 0.96542173]), 0.016952427508441503, 0.016666666666666666)\n",
      "(array([ True, False, False]), array([0.00445455, 0.0996571 , 0.0996571 ]), 0.016952427508441503, 0.016666666666666666)\n",
      "(array([ True, False, False]), array([0.0046971 , 0.95989884, 0.95989884]), 0.016952427508441503, 0.016666666666666666)\n",
      "900\n",
      "(array([ True, False, False]), array([0.02010198, 0.78874484, 0.78874484]), 0.016952427508441503, 0.016666666666666666)\n",
      "(array([ True, False, False]), array([5.41285799e-04, 5.62988909e-01, 5.62988909e-01]), 0.016952427508441503, 0.016666666666666666)\n",
      "(array([ True, False, False]), array([0.00296854, 0.4118022 , 0.4118022 ]), 0.016952427508441503, 0.016666666666666666)\n"
     ]
    },
    {
     "name": "stdout",
     "output_type": "stream",
     "text": [
      "(array([ True, False, False]), array([0.01066509, 0.82621993, 0.82621993]), 0.016952427508441503, 0.016666666666666666)\n",
      "(array([ True, False, False]), array([0.01035957, 0.25950488, 0.25950488]), 0.016952427508441503, 0.016666666666666666)\n",
      "(array([ True, False, False]), array([4.85206973e-07, 7.21414668e-01, 7.21414668e-01]), 0.016952427508441503, 0.016666666666666666)\n",
      "(array([ True, False, False]), array([0.01167974, 0.08359855, 0.08359855]), 0.016952427508441503, 0.016666666666666666)\n",
      "(array([ True, False, False]), array([5.53878199e-04, 8.40358818e-01, 8.40358818e-01]), 0.016952427508441503, 0.016666666666666666)\n",
      "(array([ True, False, False]), array([0.00092433, 0.77322128, 0.77322128]), 0.016952427508441503, 0.016666666666666666)\n",
      "(array([ True, False, False]), array([2.68245287e-04, 9.95605191e-01, 9.95605191e-01]), 0.016952427508441503, 0.016666666666666666)\n",
      "(array([ True, False, False]), array([0.00097493, 0.86377811, 0.86377811]), 0.016952427508441503, 0.016666666666666666)\n",
      "(array([ True, False, False]), array([0.01572696, 0.37703032, 0.37703032]), 0.016952427508441503, 0.016666666666666666)\n",
      "(array([ True,  True,  True]), array([0.00635125, 0.00635125, 0.00635125]), 0.016952427508441503, 0.016666666666666666)\n",
      "(array([ True, False, False]), array([1.29490556e-04, 5.53628686e-01, 5.53628686e-01]), 0.016952427508441503, 0.016666666666666666)\n",
      "(array([ True, False, False]), array([6.56242713e-04, 9.95826008e-01, 9.95826008e-01]), 0.016952427508441503, 0.016666666666666666)\n",
      "(array([ True, False, False]), array([0.00598626, 0.81379493, 0.81379493]), 0.016952427508441503, 0.016666666666666666)\n",
      "(array([ True, False, False]), array([0.00986611, 0.31160765, 0.31160765]), 0.016952427508441503, 0.016666666666666666)\n",
      "(array([ True, False, False]), array([1.15487481e-06, 7.54593125e-01, 7.54593125e-01]), 0.016952427508441503, 0.016666666666666666)\n",
      "(array([ True, False, False]), array([9.29660469e-05, 9.35668488e-01, 9.35668488e-01]), 0.016952427508441503, 0.016666666666666666)\n",
      "(array([ True, False, False]), array([0.00554243, 0.70963279, 0.70963279]), 0.016952427508441503, 0.016666666666666666)\n"
     ]
    }
   ],
   "source": [
    "not_simmetry = []\n",
    "for i in range(1000):\n",
    "    if i%100 == 0:\n",
    "        print(i)\n",
    "    rw2 = random_walk(datelist1.copy(), 10)\n",
    "    ts_perm = count_permutation(rw2, 3)\n",
    "    cr = multiply_equals_criterion(ts_perm)\n",
    "    if sum(cr[0]) != 0:\n",
    "        print(cr)\n",
    "        not_simmetry.append([rw2,ts_perm])"
   ]
  },
  {
   "cell_type": "code",
   "execution_count": 58,
   "id": "99c30957",
   "metadata": {},
   "outputs": [
    {
     "data": {
      "text/plain": [
       "0.153"
      ]
     },
     "execution_count": 58,
     "metadata": {},
     "output_type": "execute_result"
    }
   ],
   "source": [
    "len(not_simmetry)/1000"
   ]
  },
  {
   "cell_type": "code",
   "execution_count": 59,
   "id": "07f8ba94",
   "metadata": {},
   "outputs": [
    {
     "name": "stdout",
     "output_type": "stream",
     "text": [
      "0\n",
      "(array([False, False, False]), array([0.10149758, 0.10149758, 0.10149758]), 0.016952427508441503, 0.016666666666666666)\n",
      "(array([False, False, False]), array([1.        , 0.55726284, 0.55726284]), 0.016952427508441503, 0.016666666666666666)\n",
      "(array([False, False, False]), array([0.95097106, 0.95097106, 0.95097106]), 0.016952427508441503, 0.016666666666666666)\n",
      "(array([False, False, False]), array([0.54705152, 0.11135869, 0.11135869]), 0.016952427508441503, 0.016666666666666666)\n",
      "(array([False, False, False]), array([0.6848746, 0.6848746, 0.6848746]), 0.016952427508441503, 0.016666666666666666)\n",
      "(array([False, False, False]), array([0.35000472, 0.35000472, 0.35000472]), 0.016952427508441503, 0.016666666666666666)\n",
      "(array([False, False, False]), array([0.46554167, 0.97167656, 0.97167656]), 0.016952427508441503, 0.016666666666666666)\n",
      "(array([False, False, False]), array([0.20909504, 1.        , 0.99649792]), 0.016952427508441503, 0.016666666666666666)\n",
      "(array([False, False, False]), array([0.69758599, 0.69758599, 0.69758599]), 0.016952427508441503, 0.016666666666666666)\n",
      "100\n",
      "(array([False, False, False]), array([0.81878569, 0.08822431, 0.09603424]), 0.016952427508441503, 0.016666666666666666)\n",
      "(array([False, False, False]), array([0.33998369, 0.23103649, 0.23103649]), 0.016952427508441503, 0.016666666666666666)\n",
      "(array([False, False, False]), array([0.19622856, 0.93912588, 0.93912588]), 0.016952427508441503, 0.016666666666666666)\n",
      "(array([False, False, False]), array([0.89656006, 0.98454413, 0.98454413]), 0.016952427508441503, 0.016666666666666666)\n",
      "200\n",
      "(array([False, False, False]), array([0.49646517, 0.49646517, 0.49646517]), 0.016952427508441503, 0.016666666666666666)\n",
      "(array([False, False, False]), array([0.95016024, 0.95016024, 0.95016024]), 0.016952427508441503, 0.016666666666666666)\n",
      "(array([False, False, False]), array([0.15830237, 0.05112361, 0.07061417]), 0.016952427508441503, 0.016666666666666666)\n",
      "(array([False, False, False]), array([0.95670362, 0.95670362, 0.95670362]), 0.016952427508441503, 0.016666666666666666)\n",
      "(array([False, False, False]), array([0.94766653, 0.74723822, 0.74723822]), 0.016952427508441503, 0.016666666666666666)\n",
      "(array([False, False, False]), array([0.15279725, 0.99605889, 0.99605889]), 0.016952427508441503, 0.016666666666666666)\n",
      "(array([False, False, False]), array([0.40043136, 0.40043136, 0.40043136]), 0.016952427508441503, 0.016666666666666666)\n",
      "300\n",
      "(array([False, False, False]), array([0.0636429 , 0.96631895, 0.96631895]), 0.016952427508441503, 0.016666666666666666)\n",
      "(array([False, False, False]), array([0.29116852, 0.10978168, 0.10978168]), 0.016952427508441503, 0.016666666666666666)\n",
      "(array([False, False, False]), array([0.27951991, 0.1942031 , 0.1942031 ]), 0.016952427508441503, 0.016666666666666666)\n",
      "(array([False, False, False]), array([0.7670354, 1.       , 1.       ]), 0.016952427508441503, 0.016666666666666666)\n",
      "(array([False, False, False]), array([0.63453981, 0.55217435, 0.55217435]), 0.016952427508441503, 0.016666666666666666)\n",
      "(array([False, False, False]), array([0.88490725, 0.88490725, 0.88490725]), 0.016952427508441503, 0.016666666666666666)\n",
      "(array([False, False, False]), array([0.37199945, 1.        , 1.        ]), 0.016952427508441503, 0.016666666666666666)\n",
      "400\n",
      "(array([False, False, False]), array([0.13045721, 0.9666056 , 0.9666056 ]), 0.016952427508441503, 0.016666666666666666)\n",
      "(array([False, False, False]), array([0.67051015, 0.94216503, 0.94216503]), 0.016952427508441503, 0.016666666666666666)\n",
      "(array([False, False, False]), array([0.09021325, 0.14908727, 0.14908727]), 0.016952427508441503, 0.016666666666666666)\n",
      "(array([False, False, False]), array([0.98346841, 0.98346841, 0.98346841]), 0.016952427508441503, 0.016666666666666666)\n",
      "(array([False, False, False]), array([0.2011557 , 0.25410373, 0.25410373]), 0.016952427508441503, 0.016666666666666666)\n",
      "(array([False, False, False]), array([0.40436833, 0.40436833, 0.40436833]), 0.016952427508441503, 0.016666666666666666)\n",
      "(array([False, False, False]), array([0.50427929, 0.43938989, 0.43938989]), 0.016952427508441503, 0.016666666666666666)\n",
      "(array([False, False, False]), array([0.94856562, 0.92843886, 0.92843886]), 0.016952427508441503, 0.016666666666666666)\n",
      "500\n",
      "(array([False, False, False]), array([0.21858936, 0.87086097, 0.87086097]), 0.016952427508441503, 0.016666666666666666)\n",
      "(array([False, False, False]), array([0.4093945, 0.4093945, 0.4093945]), 0.016952427508441503, 0.016666666666666666)\n",
      "(array([False, False, False]), array([0.9018043 , 0.05704307, 0.05704307]), 0.016952427508441503, 0.016666666666666666)\n",
      "(array([False, False, False]), array([0.58136777, 0.97587479, 0.97587479]), 0.016952427508441503, 0.016666666666666666)\n",
      "(array([False, False, False]), array([0.70941865, 0.62087553, 0.62087553]), 0.016952427508441503, 0.016666666666666666)\n",
      "(array([False, False, False]), array([0.81587104, 0.49329494, 0.49329494]), 0.016952427508441503, 0.016666666666666666)\n",
      "(array([False, False, False]), array([0.40169049, 0.1991349 , 0.1991349 ]), 0.016952427508441503, 0.016666666666666666)\n",
      "(array([False, False, False]), array([0.97368963, 0.97368963, 0.97368963]), 0.016952427508441503, 0.016666666666666666)\n",
      "(array([False, False, False]), array([0.95770599, 0.99616412, 0.99616412]), 0.016952427508441503, 0.016666666666666666)\n",
      "600\n",
      "(array([False, False, False]), array([0.9962528, 0.9962528, 0.9962528]), 0.016952427508441503, 0.016666666666666666)\n",
      "(array([False, False, False]), array([0.74201217, 0.74201217, 0.74201217]), 0.016952427508441503, 0.016666666666666666)\n",
      "(array([False, False, False]), array([0.34187295, 0.96795372, 0.96795372]), 0.016952427508441503, 0.016666666666666666)\n",
      "(array([False, False, False]), array([0.49435565, 0.15198773, 0.15198773]), 0.016952427508441503, 0.016666666666666666)\n",
      "(array([False, False, False]), array([0.37886188, 0.39743093, 0.39743093]), 0.016952427508441503, 0.016666666666666666)\n",
      "700\n",
      "(array([False, False, False]), array([0.45961511, 0.90857868, 0.90857868]), 0.016952427508441503, 0.016666666666666666)\n",
      "(array([False, False, False]), array([0.2638627 , 0.88123466, 0.88123466]), 0.016952427508441503, 0.016666666666666666)\n",
      "(array([False, False, False]), array([0.28602569, 0.21966071, 0.21966071]), 0.016952427508441503, 0.016666666666666666)\n",
      "(array([False, False, False]), array([0.06208009, 0.23579898, 0.23579898]), 0.016952427508441503, 0.016666666666666666)\n",
      "(array([False, False, False]), array([0.68484457, 0.68484457, 0.68484457]), 0.016952427508441503, 0.016666666666666666)\n",
      "800\n",
      "(array([False, False, False]), array([0.74981018, 0.74981018, 0.74981018]), 0.016952427508441503, 0.016666666666666666)\n",
      "(array([False, False, False]), array([0.1242738 , 0.50942575, 0.50942575]), 0.016952427508441503, 0.016666666666666666)\n",
      "(array([False, False, False]), array([0.18436983, 0.60023239, 0.60023239]), 0.016952427508441503, 0.016666666666666666)\n",
      "(array([False, False, False]), array([0.23400989, 0.76937922, 0.76937922]), 0.016952427508441503, 0.016666666666666666)\n",
      "(array([False, False, False]), array([0.1551213, 0.1551213, 0.1551213]), 0.016952427508441503, 0.016666666666666666)\n",
      "900\n",
      "(array([False, False, False]), array([0.98113608, 0.98113608, 0.98113608]), 0.016952427508441503, 0.016666666666666666)\n",
      "(array([False, False, False]), array([0.67051015, 0.67051015, 0.67051015]), 0.016952427508441503, 0.016666666666666666)\n",
      "(array([False, False, False]), array([0.30931396, 0.05419358, 0.06294766]), 0.016952427508441503, 0.016666666666666666)\n",
      "(array([False, False, False]), array([0.0701667 , 0.64341001, 0.64341001]), 0.016952427508441503, 0.016666666666666666)\n"
     ]
    }
   ],
   "source": [
    "simmetry = []\n",
    "for i in range(1000):\n",
    "    if i%100 == 0:\n",
    "        print(i)\n",
    "    alp = np.random.rand()\n",
    "    ts = fun(datelist1.copy(), alp, 1-alp, np.random.uniform(1,10), np.random.normal(0,2), 0)\n",
    "    ts_perm = count_permutation(ts, 3)\n",
    "    cr = multiply_equals_criterion(ts_perm)\n",
    "    if sum(cr[0]) == 0:\n",
    "        print(cr)\n",
    "        simmetry.append([ts,ts_perm])"
   ]
  },
  {
   "cell_type": "code",
   "execution_count": 62,
   "id": "8c16d238",
   "metadata": {},
   "outputs": [
    {
     "data": {
      "text/plain": [
       "0.063"
      ]
     },
     "execution_count": 62,
     "metadata": {},
     "output_type": "execute_result"
    }
   ],
   "source": [
    "len(simmetry)/1000"
   ]
  },
  {
   "cell_type": "code",
   "execution_count": 60,
   "id": "854cac47",
   "metadata": {},
   "outputs": [
    {
     "name": "stdout",
     "output_type": "stream",
     "text": [
      "0\n",
      "(array([ True,  True,  True]), array([0.00016417, 0.03520035, 0.03520035]), 0.016952427508441503, 0.016666666666666666)\n",
      "(array([ True, False, False]), array([0.00708606, 0.43047661, 0.43047661]), 0.016952427508441503, 0.016666666666666666)\n",
      "(array([ True, False, False]), array([0.03669518, 0.95702742, 0.95702742]), 0.016952427508441503, 0.016666666666666666)\n",
      "(array([ True, False, False]), array([0.01714747, 0.49084162, 0.49084162]), 0.016952427508441503, 0.016666666666666666)\n",
      "(array([ True, False, False]), array([0.01266304, 0.82427733, 0.82427733]), 0.016952427508441503, 0.016666666666666666)\n",
      "(array([ True, False, False]), array([0.0109091 , 0.98468824, 0.98468824]), 0.016952427508441503, 0.016666666666666666)\n",
      "(array([ True, False, False]), array([3.17440843e-04, 9.97237045e-01, 9.97237045e-01]), 0.016952427508441503, 0.016666666666666666)\n",
      "(array([ True, False, False]), array([0.01711324, 0.07111308, 0.07111308]), 0.016952427508441503, 0.016666666666666666)\n",
      "(array([ True, False, False]), array([0.03771083, 0.8948496 , 0.8948496 ]), 0.016952427508441503, 0.016666666666666666)\n",
      "(array([ True, False, False]), array([0.04355646, 0.20483803, 0.20483803]), 0.016952427508441503, 0.016666666666666666)\n",
      "(array([ True, False, False]), array([0.02175816, 0.97476534, 0.97476534]), 0.016952427508441503, 0.016666666666666666)\n",
      "(array([ True, False, False]), array([0.03890769, 1.        , 1.        ]), 0.016952427508441503, 0.016666666666666666)\n",
      "(array([ True, False, False]), array([0.04124325, 0.1865574 , 0.1865574 ]), 0.016952427508441503, 0.016666666666666666)\n",
      "(array([ True, False, False]), array([0.00792166, 0.94238919, 0.94238919]), 0.016952427508441503, 0.016666666666666666)\n",
      "(array([ True, False, False]), array([0.03251808, 0.45593538, 0.45593538]), 0.016952427508441503, 0.016666666666666666)\n",
      "(array([ True, False, False]), array([0.01585025, 0.84829821, 0.84829821]), 0.016952427508441503, 0.016666666666666666)\n",
      "(array([ True, False, False]), array([0.03576596, 0.95711772, 0.95711772]), 0.016952427508441503, 0.016666666666666666)\n",
      "(array([ True, False, False]), array([0.00646401, 0.48031983, 0.48031983]), 0.016952427508441503, 0.016666666666666666)\n",
      "(array([ True, False, False]), array([0.01686578, 1.        , 1.        ]), 0.016952427508441503, 0.016666666666666666)\n",
      "(array([ True, False, False]), array([0.01458967, 0.77632451, 0.77632451]), 0.016952427508441503, 0.016666666666666666)\n",
      "(array([ True, False, False]), array([0.0046907 , 0.97538386, 0.97538386]), 0.016952427508441503, 0.016666666666666666)\n",
      "(array([ True, False, False]), array([6.14341159e-04, 8.62140127e-01, 8.62140127e-01]), 0.016952427508441503, 0.016666666666666666)\n",
      "(array([ True, False, False]), array([0.00295166, 0.63375417, 0.63375417]), 0.016952427508441503, 0.016666666666666666)\n",
      "(array([ True, False, False]), array([0.01838393, 0.9846425 , 0.9846425 ]), 0.016952427508441503, 0.016666666666666666)\n",
      "(array([ True, False, False]), array([0.00133316, 0.81418732, 0.81418732]), 0.016952427508441503, 0.016666666666666666)\n",
      "(array([ True, False, False]), array([0.00507233, 0.9152108 , 0.9152108 ]), 0.016952427508441503, 0.016666666666666666)\n",
      "(array([ True, False, False]), array([0.00316196, 0.88479362, 0.88479362]), 0.016952427508441503, 0.016666666666666666)\n"
     ]
    },
    {
     "ename": "KeyboardInterrupt",
     "evalue": "",
     "output_type": "error",
     "traceback": [
      "\u001B[1;31m---------------------------------------------------------------------------\u001B[0m",
      "\u001B[1;31mKeyboardInterrupt\u001B[0m                         Traceback (most recent call last)",
      "Cell \u001B[1;32mIn[60], line 6\u001B[0m\n\u001B[0;32m      4\u001B[0m     \u001B[38;5;28mprint\u001B[39m(i)\n\u001B[0;32m      5\u001B[0m rw2 \u001B[38;5;241m=\u001B[39m random_walk(datelist\u001B[38;5;241m.\u001B[39mcopy(), \u001B[38;5;241m10\u001B[39m)\n\u001B[1;32m----> 6\u001B[0m ts_perm \u001B[38;5;241m=\u001B[39m \u001B[43mcount_permutation\u001B[49m\u001B[43m(\u001B[49m\u001B[43mrw2\u001B[49m\u001B[43m,\u001B[49m\u001B[43m \u001B[49m\u001B[38;5;241;43m3\u001B[39;49m\u001B[43m)\u001B[49m\n\u001B[0;32m      7\u001B[0m cr \u001B[38;5;241m=\u001B[39m multiply_equals_criterion(ts_perm)\n\u001B[0;32m      8\u001B[0m \u001B[38;5;28;01mif\u001B[39;00m \u001B[38;5;28msum\u001B[39m(cr[\u001B[38;5;241m0\u001B[39m]) \u001B[38;5;241m!=\u001B[39m \u001B[38;5;241m0\u001B[39m:\n",
      "Cell \u001B[1;32mIn[2], line 20\u001B[0m, in \u001B[0;36mcount_permutation\u001B[1;34m(df, d)\u001B[0m\n\u001B[0;32m     18\u001B[0m     sort_slice \u001B[38;5;241m=\u001B[39m slice_df\u001B[38;5;241m.\u001B[39mcopy()\u001B[38;5;241m.\u001B[39msort_values()\n\u001B[0;32m     19\u001B[0m     \u001B[38;5;28;01mfor\u001B[39;00m j \u001B[38;5;129;01min\u001B[39;00m \u001B[38;5;28mrange\u001B[39m(d):\n\u001B[1;32m---> 20\u001B[0m         slice_df[\u001B[43mslice_df\u001B[49m\u001B[43m[\u001B[49m\u001B[43mslice_df\u001B[49m\u001B[43m \u001B[49m\u001B[38;5;241;43m==\u001B[39;49m\u001B[43m \u001B[49m\u001B[43msort_slice\u001B[49m\u001B[38;5;241;43m.\u001B[39;49m\u001B[43miloc\u001B[49m\u001B[43m[\u001B[49m\u001B[43mj\u001B[49m\u001B[43m]\u001B[49m\u001B[43m]\u001B[49m\u001B[38;5;241;43m.\u001B[39;49m\u001B[43mfirst_valid_index\u001B[49m\u001B[43m(\u001B[49m\u001B[43m)\u001B[49m] \u001B[38;5;241m=\u001B[39m  j\n\u001B[0;32m     21\u001B[0m     count_p[perm\u001B[38;5;241m.\u001B[39mindex(\u001B[38;5;28mtuple\u001B[39m(slice_df\u001B[38;5;241m.\u001B[39mtolist()))] \u001B[38;5;241m+\u001B[39m\u001B[38;5;241m=\u001B[39m \u001B[38;5;241m1\u001B[39m\n\u001B[0;32m     22\u001B[0m \u001B[38;5;28;01mreturn\u001B[39;00m count_p\n",
      "File \u001B[1;32mD:\\Programs\\Anac\\lib\\site-packages\\pandas\\core\\generic.py:11043\u001B[0m, in \u001B[0;36mNDFrame.first_valid_index\u001B[1;34m(self)\u001B[0m\n\u001B[0;32m  11028\u001B[0m \u001B[38;5;129m@final\u001B[39m\n\u001B[0;32m  11029\u001B[0m \u001B[38;5;129m@doc\u001B[39m(position\u001B[38;5;241m=\u001B[39m\u001B[38;5;124m\"\u001B[39m\u001B[38;5;124mfirst\u001B[39m\u001B[38;5;124m\"\u001B[39m, klass\u001B[38;5;241m=\u001B[39m_shared_doc_kwargs[\u001B[38;5;124m\"\u001B[39m\u001B[38;5;124mklass\u001B[39m\u001B[38;5;124m\"\u001B[39m])\n\u001B[0;32m  11030\u001B[0m \u001B[38;5;28;01mdef\u001B[39;00m \u001B[38;5;21mfirst_valid_index\u001B[39m(\u001B[38;5;28mself\u001B[39m) \u001B[38;5;241m-\u001B[39m\u001B[38;5;241m>\u001B[39m Hashable \u001B[38;5;241m|\u001B[39m \u001B[38;5;28;01mNone\u001B[39;00m:\n\u001B[0;32m  11031\u001B[0m \u001B[38;5;250m    \u001B[39m\u001B[38;5;124;03m\"\"\"\u001B[39;00m\n\u001B[0;32m  11032\u001B[0m \u001B[38;5;124;03m    Return index for {position} non-NA value or None, if no NA value is found.\u001B[39;00m\n\u001B[0;32m  11033\u001B[0m \n\u001B[1;32m   (...)\u001B[0m\n\u001B[0;32m  11041\u001B[0m \u001B[38;5;124;03m    Also returns None for empty {klass}.\u001B[39;00m\n\u001B[0;32m  11042\u001B[0m \u001B[38;5;124;03m    \"\"\"\u001B[39;00m\n\u001B[1;32m> 11043\u001B[0m     \u001B[38;5;28;01mreturn\u001B[39;00m \u001B[38;5;28;43mself\u001B[39;49m\u001B[38;5;241;43m.\u001B[39;49m\u001B[43m_find_valid_index\u001B[49m\u001B[43m(\u001B[49m\u001B[43mhow\u001B[49m\u001B[38;5;241;43m=\u001B[39;49m\u001B[38;5;124;43m\"\u001B[39;49m\u001B[38;5;124;43mfirst\u001B[39;49m\u001B[38;5;124;43m\"\u001B[39;49m\u001B[43m)\u001B[49m\n",
      "File \u001B[1;32mD:\\Programs\\Anac\\lib\\site-packages\\pandas\\core\\generic.py:11023\u001B[0m, in \u001B[0;36mNDFrame._find_valid_index\u001B[1;34m(self, how)\u001B[0m\n\u001B[0;32m  11009\u001B[0m \u001B[38;5;129m@final\u001B[39m\n\u001B[0;32m  11010\u001B[0m \u001B[38;5;28;01mdef\u001B[39;00m \u001B[38;5;21m_find_valid_index\u001B[39m(\u001B[38;5;28mself\u001B[39m, \u001B[38;5;241m*\u001B[39m, how: \u001B[38;5;28mstr\u001B[39m) \u001B[38;5;241m-\u001B[39m\u001B[38;5;241m>\u001B[39m Hashable \u001B[38;5;241m|\u001B[39m \u001B[38;5;28;01mNone\u001B[39;00m:\n\u001B[0;32m  11011\u001B[0m \u001B[38;5;250m    \u001B[39m\u001B[38;5;124;03m\"\"\"\u001B[39;00m\n\u001B[0;32m  11012\u001B[0m \u001B[38;5;124;03m    Retrieves the index of the first valid value.\u001B[39;00m\n\u001B[0;32m  11013\u001B[0m \n\u001B[1;32m   (...)\u001B[0m\n\u001B[0;32m  11021\u001B[0m \u001B[38;5;124;03m    idx_first_valid : type of index\u001B[39;00m\n\u001B[0;32m  11022\u001B[0m \u001B[38;5;124;03m    \"\"\"\u001B[39;00m\n\u001B[1;32m> 11023\u001B[0m     idxpos \u001B[38;5;241m=\u001B[39m \u001B[43mfind_valid_index\u001B[49m\u001B[43m(\u001B[49m\u001B[38;5;28;43mself\u001B[39;49m\u001B[38;5;241;43m.\u001B[39;49m\u001B[43m_values\u001B[49m\u001B[43m,\u001B[49m\u001B[43m \u001B[49m\u001B[43mhow\u001B[49m\u001B[38;5;241;43m=\u001B[39;49m\u001B[43mhow\u001B[49m\u001B[43m)\u001B[49m\n\u001B[0;32m  11024\u001B[0m     \u001B[38;5;28;01mif\u001B[39;00m idxpos \u001B[38;5;129;01mis\u001B[39;00m \u001B[38;5;28;01mNone\u001B[39;00m:\n\u001B[0;32m  11025\u001B[0m         \u001B[38;5;28;01mreturn\u001B[39;00m \u001B[38;5;28;01mNone\u001B[39;00m\n",
      "File \u001B[1;32mD:\\Programs\\Anac\\lib\\site-packages\\pandas\\core\\missing.py:192\u001B[0m, in \u001B[0;36mfind_valid_index\u001B[1;34m(values, how)\u001B[0m\n\u001B[0;32m    189\u001B[0m     is_valid \u001B[38;5;241m=\u001B[39m is_valid\u001B[38;5;241m.\u001B[39many(\u001B[38;5;241m1\u001B[39m)  \u001B[38;5;66;03m# reduce axis 1\u001B[39;00m\n\u001B[0;32m    191\u001B[0m \u001B[38;5;28;01mif\u001B[39;00m how \u001B[38;5;241m==\u001B[39m \u001B[38;5;124m\"\u001B[39m\u001B[38;5;124mfirst\u001B[39m\u001B[38;5;124m\"\u001B[39m:\n\u001B[1;32m--> 192\u001B[0m     idxpos \u001B[38;5;241m=\u001B[39m \u001B[43mis_valid\u001B[49m\u001B[43m[\u001B[49m\u001B[43m:\u001B[49m\u001B[43m:\u001B[49m\u001B[43m]\u001B[49m\u001B[38;5;241;43m.\u001B[39;49m\u001B[43margmax\u001B[49m\u001B[43m(\u001B[49m\u001B[43m)\u001B[49m\n\u001B[0;32m    194\u001B[0m \u001B[38;5;28;01melif\u001B[39;00m how \u001B[38;5;241m==\u001B[39m \u001B[38;5;124m\"\u001B[39m\u001B[38;5;124mlast\u001B[39m\u001B[38;5;124m\"\u001B[39m:\n\u001B[0;32m    195\u001B[0m     idxpos \u001B[38;5;241m=\u001B[39m \u001B[38;5;28mlen\u001B[39m(values) \u001B[38;5;241m-\u001B[39m \u001B[38;5;241m1\u001B[39m \u001B[38;5;241m-\u001B[39m is_valid[::\u001B[38;5;241m-\u001B[39m\u001B[38;5;241m1\u001B[39m]\u001B[38;5;241m.\u001B[39margmax()\n",
      "\u001B[1;31mKeyboardInterrupt\u001B[0m: "
     ]
    }
   ],
   "source": [
    "not_simmetry = []\n",
    "for i in range(200):\n",
    "    if i%500 == 0:\n",
    "        print(i)\n",
    "    rw2 = random_walk(datelist.copy(), 10)\n",
    "    ts_perm = count_permutation(rw2, 3)\n",
    "    cr = multiply_equals_criterion(ts_perm)\n",
    "    if sum(cr[0]) != 0:\n",
    "        print(cr)\n",
    "        not_simmetry.append([rw2,ts_perm])"
   ]
  },
  {
   "cell_type": "code",
   "execution_count": 61,
   "id": "d0edf257",
   "metadata": {},
   "outputs": [
    {
     "data": {
      "text/plain": [
       "0.15254237288135594"
      ]
     },
     "execution_count": 61,
     "metadata": {},
     "output_type": "execute_result"
    }
   ],
   "source": [
    "len(not_simmetry)/i"
   ]
  },
  {
   "cell_type": "code",
   "execution_count": null,
   "id": "1b64dbc4",
   "metadata": {},
   "outputs": [],
   "source": []
  }
 ],
 "metadata": {
  "kernelspec": {
   "display_name": "Python 3 (ipykernel)",
   "language": "python",
   "name": "python3"
  },
  "language_info": {
   "codemirror_mode": {
    "name": "ipython",
    "version": 3
   },
   "file_extension": ".py",
   "mimetype": "text/x-python",
   "name": "python",
   "nbconvert_exporter": "python",
   "pygments_lexer": "ipython3",
   "version": "3.9.18"
  }
 },
 "nbformat": 4,
 "nbformat_minor": 5
}
