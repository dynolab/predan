{
 "cells": [
  {
   "cell_type": "code",
   "execution_count": 1,
   "metadata": {
    "collapsed": true,
    "ExecuteTime": {
     "end_time": "2024-02-26T15:52:41.082705Z",
     "start_time": "2024-02-26T15:52:39.647995500Z"
    }
   },
   "outputs": [
    {
     "data": {
      "text/plain": "{'divide': 'warn', 'over': 'warn', 'under': 'ignore', 'invalid': 'warn'}"
     },
     "execution_count": 1,
     "metadata": {},
     "output_type": "execute_result"
    }
   ],
   "source": [
    "import sys\n",
    "import math\n",
    "import pandas as pd\n",
    "import matplotlib.pyplot as plt\n",
    "import seaborn as sns\n",
    "\n",
    "sys.path.append('../bin')\n",
    "from bin.functions import *\n",
    "np.seterr(divide = 'ignore')"
   ]
  },
  {
   "cell_type": "code",
   "execution_count": 2,
   "outputs": [
    {
     "data": {
      "text/plain": "         V1  perm_ent3  perm_ent4            mse      mape  sym_test  \\\n0        Y1   0.697843   0.539401    4993.838193  0.009190     False   \n1        Y2   0.816579   0.705971   12899.948420  0.084814     False   \n2        Y3   0.000000   0.000000    3476.611770  0.005390     False   \n3        Y4   0.166740   0.144179   16100.535285  0.010972     False   \n4        Y5   0.478736   0.395644   10617.608987  0.010394     False   \n...     ...        ...        ...            ...       ...       ...   \n4222  D4223        NaN   0.907049   33883.253502  0.051424      True   \n4223  D4224        NaN   0.933608    1112.812688  0.007694      True   \n4224  D4225        NaN   0.910326    1858.370496  0.007457     False   \n4225  D4226        NaN   0.946536      27.140520  0.003027      True   \n4226  D4227        NaN   0.931121  180646.444982  0.023135     False   \n\n      w_perm_ent4     smape      mase  \n0       -0.000000  0.009146  0.600416  \n1       -0.000000  0.088896  0.552155  \n2       -0.000000  0.005387  0.254877  \n3       -0.000000  0.010918  0.510635  \n4       -0.000000  0.010289  0.436703  \n...           ...       ...       ...  \n4222     0.175517  0.052152  3.794788  \n4223     0.572596  0.007734  0.500734  \n4224     0.552355  0.007506  0.022866  \n4225     0.666145  0.003028  0.340748  \n4226     0.386112  0.022877  3.221155  \n\n[100000 rows x 9 columns]",
      "text/html": "<div>\n<style scoped>\n    .dataframe tbody tr th:only-of-type {\n        vertical-align: middle;\n    }\n\n    .dataframe tbody tr th {\n        vertical-align: top;\n    }\n\n    .dataframe thead th {\n        text-align: right;\n    }\n</style>\n<table border=\"1\" class=\"dataframe\">\n  <thead>\n    <tr style=\"text-align: right;\">\n      <th></th>\n      <th>V1</th>\n      <th>perm_ent3</th>\n      <th>perm_ent4</th>\n      <th>mse</th>\n      <th>mape</th>\n      <th>sym_test</th>\n      <th>w_perm_ent4</th>\n      <th>smape</th>\n      <th>mase</th>\n    </tr>\n  </thead>\n  <tbody>\n    <tr>\n      <th>0</th>\n      <td>Y1</td>\n      <td>0.697843</td>\n      <td>0.539401</td>\n      <td>4993.838193</td>\n      <td>0.009190</td>\n      <td>False</td>\n      <td>-0.000000</td>\n      <td>0.009146</td>\n      <td>0.600416</td>\n    </tr>\n    <tr>\n      <th>1</th>\n      <td>Y2</td>\n      <td>0.816579</td>\n      <td>0.705971</td>\n      <td>12899.948420</td>\n      <td>0.084814</td>\n      <td>False</td>\n      <td>-0.000000</td>\n      <td>0.088896</td>\n      <td>0.552155</td>\n    </tr>\n    <tr>\n      <th>2</th>\n      <td>Y3</td>\n      <td>0.000000</td>\n      <td>0.000000</td>\n      <td>3476.611770</td>\n      <td>0.005390</td>\n      <td>False</td>\n      <td>-0.000000</td>\n      <td>0.005387</td>\n      <td>0.254877</td>\n    </tr>\n    <tr>\n      <th>3</th>\n      <td>Y4</td>\n      <td>0.166740</td>\n      <td>0.144179</td>\n      <td>16100.535285</td>\n      <td>0.010972</td>\n      <td>False</td>\n      <td>-0.000000</td>\n      <td>0.010918</td>\n      <td>0.510635</td>\n    </tr>\n    <tr>\n      <th>4</th>\n      <td>Y5</td>\n      <td>0.478736</td>\n      <td>0.395644</td>\n      <td>10617.608987</td>\n      <td>0.010394</td>\n      <td>False</td>\n      <td>-0.000000</td>\n      <td>0.010289</td>\n      <td>0.436703</td>\n    </tr>\n    <tr>\n      <th>...</th>\n      <td>...</td>\n      <td>...</td>\n      <td>...</td>\n      <td>...</td>\n      <td>...</td>\n      <td>...</td>\n      <td>...</td>\n      <td>...</td>\n      <td>...</td>\n    </tr>\n    <tr>\n      <th>4222</th>\n      <td>D4223</td>\n      <td>NaN</td>\n      <td>0.907049</td>\n      <td>33883.253502</td>\n      <td>0.051424</td>\n      <td>True</td>\n      <td>0.175517</td>\n      <td>0.052152</td>\n      <td>3.794788</td>\n    </tr>\n    <tr>\n      <th>4223</th>\n      <td>D4224</td>\n      <td>NaN</td>\n      <td>0.933608</td>\n      <td>1112.812688</td>\n      <td>0.007694</td>\n      <td>True</td>\n      <td>0.572596</td>\n      <td>0.007734</td>\n      <td>0.500734</td>\n    </tr>\n    <tr>\n      <th>4224</th>\n      <td>D4225</td>\n      <td>NaN</td>\n      <td>0.910326</td>\n      <td>1858.370496</td>\n      <td>0.007457</td>\n      <td>False</td>\n      <td>0.552355</td>\n      <td>0.007506</td>\n      <td>0.022866</td>\n    </tr>\n    <tr>\n      <th>4225</th>\n      <td>D4226</td>\n      <td>NaN</td>\n      <td>0.946536</td>\n      <td>27.140520</td>\n      <td>0.003027</td>\n      <td>True</td>\n      <td>0.666145</td>\n      <td>0.003028</td>\n      <td>0.340748</td>\n    </tr>\n    <tr>\n      <th>4226</th>\n      <td>D4227</td>\n      <td>NaN</td>\n      <td>0.931121</td>\n      <td>180646.444982</td>\n      <td>0.023135</td>\n      <td>False</td>\n      <td>0.386112</td>\n      <td>0.022877</td>\n      <td>3.221155</td>\n    </tr>\n  </tbody>\n</table>\n<p>100000 rows × 9 columns</p>\n</div>"
     },
     "execution_count": 2,
     "metadata": {},
     "output_type": "execute_result"
    }
   ],
   "source": [
    "df_res = pd.read_csv(\"all_result.csv\", index_col=0)\n",
    "df_res"
   ],
   "metadata": {
    "collapsed": false,
    "ExecuteTime": {
     "end_time": "2024-02-26T15:52:41.283326300Z",
     "start_time": "2024-02-26T15:52:41.064508100Z"
    }
   }
  },
  {
   "cell_type": "code",
   "execution_count": 3,
   "outputs": [
    {
     "data": {
      "text/plain": "       M4id category  Frequency  Horizon      SP    StartingDate\n0        Y1    Macro          1        6  Yearly  01-01-79 12:00\n1        Y2    Macro          1        6  Yearly  01-01-79 12:00\n2        Y3    Macro          1        6  Yearly  01-01-79 12:00\n3        Y4    Macro          1        6  Yearly  01-01-79 12:00\n4        Y5    Macro          1        6  Yearly  01-01-79 12:00\n...     ...      ...        ...      ...     ...             ...\n99995  H410    Other         24       48  Hourly  01-01-17 12:00\n99996  H411    Other         24       48  Hourly  01-01-17 12:00\n99997  H412    Other         24       48  Hourly  01-01-17 12:00\n99998  H413    Other         24       48  Hourly  12-06-17 12:00\n99999  H414    Other         24       48  Hourly  27-04-17 12:00\n\n[100000 rows x 6 columns]",
      "text/html": "<div>\n<style scoped>\n    .dataframe tbody tr th:only-of-type {\n        vertical-align: middle;\n    }\n\n    .dataframe tbody tr th {\n        vertical-align: top;\n    }\n\n    .dataframe thead th {\n        text-align: right;\n    }\n</style>\n<table border=\"1\" class=\"dataframe\">\n  <thead>\n    <tr style=\"text-align: right;\">\n      <th></th>\n      <th>M4id</th>\n      <th>category</th>\n      <th>Frequency</th>\n      <th>Horizon</th>\n      <th>SP</th>\n      <th>StartingDate</th>\n    </tr>\n  </thead>\n  <tbody>\n    <tr>\n      <th>0</th>\n      <td>Y1</td>\n      <td>Macro</td>\n      <td>1</td>\n      <td>6</td>\n      <td>Yearly</td>\n      <td>01-01-79 12:00</td>\n    </tr>\n    <tr>\n      <th>1</th>\n      <td>Y2</td>\n      <td>Macro</td>\n      <td>1</td>\n      <td>6</td>\n      <td>Yearly</td>\n      <td>01-01-79 12:00</td>\n    </tr>\n    <tr>\n      <th>2</th>\n      <td>Y3</td>\n      <td>Macro</td>\n      <td>1</td>\n      <td>6</td>\n      <td>Yearly</td>\n      <td>01-01-79 12:00</td>\n    </tr>\n    <tr>\n      <th>3</th>\n      <td>Y4</td>\n      <td>Macro</td>\n      <td>1</td>\n      <td>6</td>\n      <td>Yearly</td>\n      <td>01-01-79 12:00</td>\n    </tr>\n    <tr>\n      <th>4</th>\n      <td>Y5</td>\n      <td>Macro</td>\n      <td>1</td>\n      <td>6</td>\n      <td>Yearly</td>\n      <td>01-01-79 12:00</td>\n    </tr>\n    <tr>\n      <th>...</th>\n      <td>...</td>\n      <td>...</td>\n      <td>...</td>\n      <td>...</td>\n      <td>...</td>\n      <td>...</td>\n    </tr>\n    <tr>\n      <th>99995</th>\n      <td>H410</td>\n      <td>Other</td>\n      <td>24</td>\n      <td>48</td>\n      <td>Hourly</td>\n      <td>01-01-17 12:00</td>\n    </tr>\n    <tr>\n      <th>99996</th>\n      <td>H411</td>\n      <td>Other</td>\n      <td>24</td>\n      <td>48</td>\n      <td>Hourly</td>\n      <td>01-01-17 12:00</td>\n    </tr>\n    <tr>\n      <th>99997</th>\n      <td>H412</td>\n      <td>Other</td>\n      <td>24</td>\n      <td>48</td>\n      <td>Hourly</td>\n      <td>01-01-17 12:00</td>\n    </tr>\n    <tr>\n      <th>99998</th>\n      <td>H413</td>\n      <td>Other</td>\n      <td>24</td>\n      <td>48</td>\n      <td>Hourly</td>\n      <td>12-06-17 12:00</td>\n    </tr>\n    <tr>\n      <th>99999</th>\n      <td>H414</td>\n      <td>Other</td>\n      <td>24</td>\n      <td>48</td>\n      <td>Hourly</td>\n      <td>27-04-17 12:00</td>\n    </tr>\n  </tbody>\n</table>\n<p>100000 rows × 6 columns</p>\n</div>"
     },
     "execution_count": 3,
     "metadata": {},
     "output_type": "execute_result"
    }
   ],
   "source": [
    "ts_info = pd.read_csv(\"../src/M4-methods/Dataset/M4-info.csv\")\n",
    "ts_info"
   ],
   "metadata": {
    "collapsed": false,
    "ExecuteTime": {
     "end_time": "2024-02-26T15:53:08.057372300Z",
     "start_time": "2024-02-26T15:53:07.936392900Z"
    }
   }
  },
  {
   "cell_type": "code",
   "execution_count": 5,
   "outputs": [],
   "source": [
    "mse_list = pd.DataFrame([[0,0,0,0,0] for i in range(12)], ['Demographic','Demographic_sym', 'Finance','Finance_sym', 'Industry','Industry_sym', 'Macro','Macro_sym', 'Micro','Micro_sym', 'Other','Other_sym'], ['mean', 'q1', 'q3', 'ci_low','ci_high'])\n",
    "smape_list = pd.DataFrame([[0,0,0,0,0] for i in range(12)], ['Demographic','Demographic_sym', 'Finance','Finance_sym', 'Industry','Industry_sym', 'Macro','Macro_sym', 'Micro','Micro_sym', 'Other','Other_sym'], ['mean', 'q1', 'q3', 'ci_low','ci_high'])\n",
    "mase_list = pd.DataFrame([[0,0,0,0,0] for i in range(12)], ['Demographic','Demographic_sym', 'Finance','Finance_sym', 'Industry','Industry_sym', 'Macro','Macro_sym', 'Micro','Micro_sym', 'Other','Other_sym'], ['mean', 'q1', 'q3', 'ci_low','ci_high'])"
   ],
   "metadata": {
    "collapsed": false,
    "ExecuteTime": {
     "end_time": "2024-02-26T15:53:32.552905600Z",
     "start_time": "2024-02-26T15:53:32.530760Z"
    }
   }
  },
  {
   "cell_type": "code",
   "execution_count": 6,
   "outputs": [],
   "source": [
    "def count_statisctic(ts, type):\n",
    "    symmetry_ts = ts.loc[ts['sym_test']]\n",
    "    not_symmetry_ts = ts.loc[ts['sym_test'] == False]\n",
    "    mean = np.mean(not_symmetry_ts['mse'])\n",
    "    q1 = np.percentile(not_symmetry_ts['mse'], 25)\n",
    "    q3 = np.percentile(not_symmetry_ts['mse'], 75)\n",
    "    ci_low, ci_high = np.percentile(not_symmetry_ts['mse'], [2.5, 97.5])\n",
    "    mse_list.loc[type] = [mean, q1, q3, ci_low, ci_high]\n",
    "    mean = np.mean(symmetry_ts['mse'])\n",
    "    q1 = np.percentile(symmetry_ts['mse'], 25)\n",
    "    q3 = np.percentile(symmetry_ts['mse'], 75)\n",
    "    ci_low, ci_high = np.percentile(symmetry_ts['mse'], [2.5, 97.5])\n",
    "    mse_list.loc[type+\"_sym\"] = [mean, q1, q3, ci_low, ci_high]\n",
    "    mean = np.mean(not_symmetry_ts['smape'])\n",
    "    q1 = np.percentile(not_symmetry_ts['smape'], 25)\n",
    "    q3 = np.percentile(not_symmetry_ts['smape'], 75)\n",
    "    ci_low, ci_high = np.percentile(not_symmetry_ts['smape'], [2.5, 97.5])\n",
    "    smape_list.loc[type] = [mean, q1, q3, ci_low, ci_high]\n",
    "    mean = np.mean(symmetry_ts['smape'])\n",
    "    q1 = np.percentile(symmetry_ts['smape'], 25)\n",
    "    q3 = np.percentile(symmetry_ts['smape'], 75)\n",
    "    ci_low, ci_high = np.percentile(symmetry_ts['smape'], [2.5, 97.5])\n",
    "    smape_list.loc[type+\"_sym\"] = [mean, q1, q3, ci_low, ci_high]\n",
    "    mean = np.mean(not_symmetry_ts['mase'])\n",
    "    q1 = np.percentile(not_symmetry_ts['mase'], 25)\n",
    "    q3 = np.percentile(not_symmetry_ts['mase'], 75)\n",
    "    ci_low, ci_high = np.percentile(not_symmetry_ts['mase'], [2.5, 97.5])\n",
    "    mase_list.loc[type] = [mean, q1, q3, ci_low, ci_high]\n",
    "    mean = np.mean(symmetry_ts['mase'])\n",
    "    q1 = np.percentile(symmetry_ts['mase'], 25)\n",
    "    q3 = np.percentile(symmetry_ts['mase'], 75)\n",
    "    ci_low, ci_high = np.percentile(symmetry_ts['mase'], [2.5, 97.5])\n",
    "    mase_list.loc[type+\"_sym\"] = [mean, q1, q3, ci_low, ci_high]"
   ],
   "metadata": {
    "collapsed": false,
    "ExecuteTime": {
     "end_time": "2024-02-26T15:58:28.062843700Z",
     "start_time": "2024-02-26T15:58:28.028614Z"
    }
   }
  },
  {
   "cell_type": "code",
   "execution_count": 9,
   "outputs": [],
   "source": [
    "ts_macro = df_res[df_res[\"V1\"].isin(ts_info[ts_info[\"category\"] == \"Macro\"][\"M4id\"].values)]\n",
    "count_statisctic(ts_macro, \"Macro\")\n",
    "ts_demog = df_res[df_res[\"V1\"].isin(ts_info[ts_info[\"category\"] == \"Demographic\"][\"M4id\"].values)]\n",
    "count_statisctic(ts_demog, \"Demographic\")\n",
    "ts_finance = df_res[df_res[\"V1\"].isin(ts_info[ts_info[\"category\"] == \"Finance\"][\"M4id\"].values)]\n",
    "count_statisctic(ts_finance, \"Finance\")\n",
    "ts_industry = df_res[df_res[\"V1\"].isin(ts_info[ts_info[\"category\"] == \"Industry\"][\"M4id\"].values)]\n",
    "count_statisctic(ts_industry, \"Industry\")\n",
    "ts_micro = df_res[df_res[\"V1\"].isin(ts_info[ts_info[\"category\"] == \"Micro\"][\"M4id\"].values)]\n",
    "count_statisctic(ts_micro, \"Micro\")\n",
    "ts_other = df_res[df_res[\"V1\"].isin(ts_info[ts_info[\"category\"] == \"Other\"][\"M4id\"].values)]\n",
    "count_statisctic(ts_other, \"Other\")"
   ],
   "metadata": {
    "collapsed": false,
    "ExecuteTime": {
     "end_time": "2024-02-26T16:01:21.038148800Z",
     "start_time": "2024-02-26T16:01:20.885673300Z"
    }
   }
  },
  {
   "cell_type": "code",
   "execution_count": 12,
   "outputs": [
    {
     "data": {
      "text/plain": "                     mean        q1        q3    ci_low   ci_high\nDemographic      0.576846  0.273621  0.679395  0.082061  2.028135\nDemographic_sym  0.657126  0.364066  0.758669  0.149674  1.741530\nFinance          0.843729  0.234044  0.924929  0.053213  3.602180\nFinance_sym      0.830519  0.325365  0.902735  0.086732  3.144542\nIndustry         0.720916  0.236742  0.803503  0.060511  2.969414\nIndustry_sym     0.850095  0.372771  0.940996  0.107708  2.952942\nMacro            0.695426  0.219919  0.773224  0.052354  2.810607\nMacro_sym        0.695892  0.268853  0.809989  0.097920  2.685830\nMicro            0.737690  0.247646  0.893867  0.055917  2.847645\nMicro_sym        0.638344  0.232357  0.730198  0.079762  2.528116\nOther            0.931007  0.274391  1.087153  0.053864  4.107175\nOther_sym        0.986803  0.346596  1.062999  0.085313  4.265826",
      "text/html": "<div>\n<style scoped>\n    .dataframe tbody tr th:only-of-type {\n        vertical-align: middle;\n    }\n\n    .dataframe tbody tr th {\n        vertical-align: top;\n    }\n\n    .dataframe thead th {\n        text-align: right;\n    }\n</style>\n<table border=\"1\" class=\"dataframe\">\n  <thead>\n    <tr style=\"text-align: right;\">\n      <th></th>\n      <th>mean</th>\n      <th>q1</th>\n      <th>q3</th>\n      <th>ci_low</th>\n      <th>ci_high</th>\n    </tr>\n  </thead>\n  <tbody>\n    <tr>\n      <th>Demographic</th>\n      <td>0.576846</td>\n      <td>0.273621</td>\n      <td>0.679395</td>\n      <td>0.082061</td>\n      <td>2.028135</td>\n    </tr>\n    <tr>\n      <th>Demographic_sym</th>\n      <td>0.657126</td>\n      <td>0.364066</td>\n      <td>0.758669</td>\n      <td>0.149674</td>\n      <td>1.741530</td>\n    </tr>\n    <tr>\n      <th>Finance</th>\n      <td>0.843729</td>\n      <td>0.234044</td>\n      <td>0.924929</td>\n      <td>0.053213</td>\n      <td>3.602180</td>\n    </tr>\n    <tr>\n      <th>Finance_sym</th>\n      <td>0.830519</td>\n      <td>0.325365</td>\n      <td>0.902735</td>\n      <td>0.086732</td>\n      <td>3.144542</td>\n    </tr>\n    <tr>\n      <th>Industry</th>\n      <td>0.720916</td>\n      <td>0.236742</td>\n      <td>0.803503</td>\n      <td>0.060511</td>\n      <td>2.969414</td>\n    </tr>\n    <tr>\n      <th>Industry_sym</th>\n      <td>0.850095</td>\n      <td>0.372771</td>\n      <td>0.940996</td>\n      <td>0.107708</td>\n      <td>2.952942</td>\n    </tr>\n    <tr>\n      <th>Macro</th>\n      <td>0.695426</td>\n      <td>0.219919</td>\n      <td>0.773224</td>\n      <td>0.052354</td>\n      <td>2.810607</td>\n    </tr>\n    <tr>\n      <th>Macro_sym</th>\n      <td>0.695892</td>\n      <td>0.268853</td>\n      <td>0.809989</td>\n      <td>0.097920</td>\n      <td>2.685830</td>\n    </tr>\n    <tr>\n      <th>Micro</th>\n      <td>0.737690</td>\n      <td>0.247646</td>\n      <td>0.893867</td>\n      <td>0.055917</td>\n      <td>2.847645</td>\n    </tr>\n    <tr>\n      <th>Micro_sym</th>\n      <td>0.638344</td>\n      <td>0.232357</td>\n      <td>0.730198</td>\n      <td>0.079762</td>\n      <td>2.528116</td>\n    </tr>\n    <tr>\n      <th>Other</th>\n      <td>0.931007</td>\n      <td>0.274391</td>\n      <td>1.087153</td>\n      <td>0.053864</td>\n      <td>4.107175</td>\n    </tr>\n    <tr>\n      <th>Other_sym</th>\n      <td>0.986803</td>\n      <td>0.346596</td>\n      <td>1.062999</td>\n      <td>0.085313</td>\n      <td>4.265826</td>\n    </tr>\n  </tbody>\n</table>\n</div>"
     },
     "execution_count": 12,
     "metadata": {},
     "output_type": "execute_result"
    }
   ],
   "source": [
    "mase_list"
   ],
   "metadata": {
    "collapsed": false,
    "ExecuteTime": {
     "end_time": "2024-02-26T16:01:35.101781700Z",
     "start_time": "2024-02-26T16:01:35.063651500Z"
    }
   }
  },
  {
   "cell_type": "code",
   "execution_count": 13,
   "outputs": [
    {
     "data": {
      "text/plain": "                         mean            q1             q3      ci_low  \\\nDemographic      1.275524e+05    809.473445   23911.915507   35.074492   \nDemographic_sym  6.615895e+05   3041.596028   93238.032004  137.577112   \nFinance          5.724699e+05   2059.881298   89360.639137   46.366136   \nFinance_sym      2.184061e+06  13269.901928  574161.544415  207.431695   \nIndustry         4.360075e+05   1716.216602   85118.784515   46.731031   \nIndustry_sym     1.298358e+06  10045.989885  465821.644374  156.513535   \nMacro            3.229350e+05   1238.057414   61942.784915   31.012514   \nMacro_sym        1.199889e+06  10382.924839  377366.684339  239.203055   \nMicro            3.579551e+05   1373.108851   55443.091900   17.532116   \nMicro_sym        1.143931e+06   7561.506976  326724.040110   86.954702   \nOther            2.744143e+05    548.288088   45472.298044    0.003076   \nOther_sym        5.117331e+05   2451.297539  168252.047233   37.488604   \n\n                      ci_high  \nDemographic      8.888919e+05  \nDemographic_sym  2.156058e+06  \nFinance          3.245234e+06  \nFinance_sym      1.134871e+07  \nIndustry         3.129158e+06  \nIndustry_sym     9.143093e+06  \nMacro            2.211475e+06  \nMacro_sym        8.527685e+06  \nMicro            1.817191e+06  \nMicro_sym        5.853373e+06  \nOther            2.018406e+06  \nOther_sym        3.946271e+06  ",
      "text/html": "<div>\n<style scoped>\n    .dataframe tbody tr th:only-of-type {\n        vertical-align: middle;\n    }\n\n    .dataframe tbody tr th {\n        vertical-align: top;\n    }\n\n    .dataframe thead th {\n        text-align: right;\n    }\n</style>\n<table border=\"1\" class=\"dataframe\">\n  <thead>\n    <tr style=\"text-align: right;\">\n      <th></th>\n      <th>mean</th>\n      <th>q1</th>\n      <th>q3</th>\n      <th>ci_low</th>\n      <th>ci_high</th>\n    </tr>\n  </thead>\n  <tbody>\n    <tr>\n      <th>Demographic</th>\n      <td>1.275524e+05</td>\n      <td>809.473445</td>\n      <td>23911.915507</td>\n      <td>35.074492</td>\n      <td>8.888919e+05</td>\n    </tr>\n    <tr>\n      <th>Demographic_sym</th>\n      <td>6.615895e+05</td>\n      <td>3041.596028</td>\n      <td>93238.032004</td>\n      <td>137.577112</td>\n      <td>2.156058e+06</td>\n    </tr>\n    <tr>\n      <th>Finance</th>\n      <td>5.724699e+05</td>\n      <td>2059.881298</td>\n      <td>89360.639137</td>\n      <td>46.366136</td>\n      <td>3.245234e+06</td>\n    </tr>\n    <tr>\n      <th>Finance_sym</th>\n      <td>2.184061e+06</td>\n      <td>13269.901928</td>\n      <td>574161.544415</td>\n      <td>207.431695</td>\n      <td>1.134871e+07</td>\n    </tr>\n    <tr>\n      <th>Industry</th>\n      <td>4.360075e+05</td>\n      <td>1716.216602</td>\n      <td>85118.784515</td>\n      <td>46.731031</td>\n      <td>3.129158e+06</td>\n    </tr>\n    <tr>\n      <th>Industry_sym</th>\n      <td>1.298358e+06</td>\n      <td>10045.989885</td>\n      <td>465821.644374</td>\n      <td>156.513535</td>\n      <td>9.143093e+06</td>\n    </tr>\n    <tr>\n      <th>Macro</th>\n      <td>3.229350e+05</td>\n      <td>1238.057414</td>\n      <td>61942.784915</td>\n      <td>31.012514</td>\n      <td>2.211475e+06</td>\n    </tr>\n    <tr>\n      <th>Macro_sym</th>\n      <td>1.199889e+06</td>\n      <td>10382.924839</td>\n      <td>377366.684339</td>\n      <td>239.203055</td>\n      <td>8.527685e+06</td>\n    </tr>\n    <tr>\n      <th>Micro</th>\n      <td>3.579551e+05</td>\n      <td>1373.108851</td>\n      <td>55443.091900</td>\n      <td>17.532116</td>\n      <td>1.817191e+06</td>\n    </tr>\n    <tr>\n      <th>Micro_sym</th>\n      <td>1.143931e+06</td>\n      <td>7561.506976</td>\n      <td>326724.040110</td>\n      <td>86.954702</td>\n      <td>5.853373e+06</td>\n    </tr>\n    <tr>\n      <th>Other</th>\n      <td>2.744143e+05</td>\n      <td>548.288088</td>\n      <td>45472.298044</td>\n      <td>0.003076</td>\n      <td>2.018406e+06</td>\n    </tr>\n    <tr>\n      <th>Other_sym</th>\n      <td>5.117331e+05</td>\n      <td>2451.297539</td>\n      <td>168252.047233</td>\n      <td>37.488604</td>\n      <td>3.946271e+06</td>\n    </tr>\n  </tbody>\n</table>\n</div>"
     },
     "execution_count": 13,
     "metadata": {},
     "output_type": "execute_result"
    }
   ],
   "source": [
    "mse_list"
   ],
   "metadata": {
    "collapsed": false,
    "ExecuteTime": {
     "end_time": "2024-02-26T16:01:39.827732500Z",
     "start_time": "2024-02-26T16:01:39.802609300Z"
    }
   }
  },
  {
   "cell_type": "code",
   "execution_count": 14,
   "outputs": [
    {
     "data": {
      "text/plain": "                     mean        q1        q3    ci_low   ci_high\nDemographic      0.023849  0.006262  0.027996  0.002155  0.107589\nDemographic_sym  0.046520  0.012622  0.055438  0.004192  0.211702\nFinance          0.040370  0.008186  0.041946  0.002078  0.234677\nFinance_sym      0.109290  0.028563  0.148339  0.005751  0.428723\nIndustry         0.040305  0.008093  0.040054  0.002255  0.226972\nIndustry_sym     0.110348  0.027591  0.144273  0.005741  0.467867\nMacro            0.035359  0.007122  0.038588  0.001607  0.177672\nMacro_sym        0.096611  0.029156  0.127758  0.005678  0.369617\nMicro            0.031595  0.007955  0.033750  0.000948  0.157127\nMicro_sym        0.095051  0.026373  0.129487  0.003401  0.358290\nOther            0.036631  0.006763  0.035464  0.001593  0.224802\nOther_sym        0.063197  0.014741  0.072095  0.002430  0.300775",
      "text/html": "<div>\n<style scoped>\n    .dataframe tbody tr th:only-of-type {\n        vertical-align: middle;\n    }\n\n    .dataframe tbody tr th {\n        vertical-align: top;\n    }\n\n    .dataframe thead th {\n        text-align: right;\n    }\n</style>\n<table border=\"1\" class=\"dataframe\">\n  <thead>\n    <tr style=\"text-align: right;\">\n      <th></th>\n      <th>mean</th>\n      <th>q1</th>\n      <th>q3</th>\n      <th>ci_low</th>\n      <th>ci_high</th>\n    </tr>\n  </thead>\n  <tbody>\n    <tr>\n      <th>Demographic</th>\n      <td>0.023849</td>\n      <td>0.006262</td>\n      <td>0.027996</td>\n      <td>0.002155</td>\n      <td>0.107589</td>\n    </tr>\n    <tr>\n      <th>Demographic_sym</th>\n      <td>0.046520</td>\n      <td>0.012622</td>\n      <td>0.055438</td>\n      <td>0.004192</td>\n      <td>0.211702</td>\n    </tr>\n    <tr>\n      <th>Finance</th>\n      <td>0.040370</td>\n      <td>0.008186</td>\n      <td>0.041946</td>\n      <td>0.002078</td>\n      <td>0.234677</td>\n    </tr>\n    <tr>\n      <th>Finance_sym</th>\n      <td>0.109290</td>\n      <td>0.028563</td>\n      <td>0.148339</td>\n      <td>0.005751</td>\n      <td>0.428723</td>\n    </tr>\n    <tr>\n      <th>Industry</th>\n      <td>0.040305</td>\n      <td>0.008093</td>\n      <td>0.040054</td>\n      <td>0.002255</td>\n      <td>0.226972</td>\n    </tr>\n    <tr>\n      <th>Industry_sym</th>\n      <td>0.110348</td>\n      <td>0.027591</td>\n      <td>0.144273</td>\n      <td>0.005741</td>\n      <td>0.467867</td>\n    </tr>\n    <tr>\n      <th>Macro</th>\n      <td>0.035359</td>\n      <td>0.007122</td>\n      <td>0.038588</td>\n      <td>0.001607</td>\n      <td>0.177672</td>\n    </tr>\n    <tr>\n      <th>Macro_sym</th>\n      <td>0.096611</td>\n      <td>0.029156</td>\n      <td>0.127758</td>\n      <td>0.005678</td>\n      <td>0.369617</td>\n    </tr>\n    <tr>\n      <th>Micro</th>\n      <td>0.031595</td>\n      <td>0.007955</td>\n      <td>0.033750</td>\n      <td>0.000948</td>\n      <td>0.157127</td>\n    </tr>\n    <tr>\n      <th>Micro_sym</th>\n      <td>0.095051</td>\n      <td>0.026373</td>\n      <td>0.129487</td>\n      <td>0.003401</td>\n      <td>0.358290</td>\n    </tr>\n    <tr>\n      <th>Other</th>\n      <td>0.036631</td>\n      <td>0.006763</td>\n      <td>0.035464</td>\n      <td>0.001593</td>\n      <td>0.224802</td>\n    </tr>\n    <tr>\n      <th>Other_sym</th>\n      <td>0.063197</td>\n      <td>0.014741</td>\n      <td>0.072095</td>\n      <td>0.002430</td>\n      <td>0.300775</td>\n    </tr>\n  </tbody>\n</table>\n</div>"
     },
     "execution_count": 14,
     "metadata": {},
     "output_type": "execute_result"
    }
   ],
   "source": [
    "smape_list"
   ],
   "metadata": {
    "collapsed": false,
    "ExecuteTime": {
     "end_time": "2024-02-26T16:01:45.587556800Z",
     "start_time": "2024-02-26T16:01:45.534136Z"
    }
   }
  },
  {
   "cell_type": "code",
   "execution_count": null,
   "outputs": [],
   "source": [],
   "metadata": {
    "collapsed": false
   }
  }
 ],
 "metadata": {
  "kernelspec": {
   "display_name": "Python 3",
   "language": "python",
   "name": "python3"
  },
  "language_info": {
   "codemirror_mode": {
    "name": "ipython",
    "version": 2
   },
   "file_extension": ".py",
   "mimetype": "text/x-python",
   "name": "python",
   "nbconvert_exporter": "python",
   "pygments_lexer": "ipython2",
   "version": "2.7.6"
  }
 },
 "nbformat": 4,
 "nbformat_minor": 0
}
