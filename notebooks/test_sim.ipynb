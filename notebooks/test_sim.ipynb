{
 "cells": [
  {
   "cell_type": "code",
   "execution_count": 49,
   "metadata": {
    "collapsed": true,
    "ExecuteTime": {
     "end_time": "2024-02-02T15:52:31.408659200Z",
     "start_time": "2024-02-02T15:52:30.799150200Z"
    }
   },
   "outputs": [
    {
     "data": {
      "text/plain": "{'divide': 'ignore', 'over': 'warn', 'under': 'ignore', 'invalid': 'warn'}"
     },
     "execution_count": 49,
     "metadata": {},
     "output_type": "execute_result"
    }
   ],
   "source": [
    "import sys\n",
    "sys.path.append('../bin')\n",
    "from bin.functions import *\n",
    "# import pandas as pd\n",
    "# import numpy as np\n",
    "# import sklearn as sk\n",
    "# import statsmodels.api as sm\n",
    "import matplotlib.pyplot as plt\n",
    "# import datetime as dt\n",
    "# from statsmodels.iolib.table import SimpleTable\n",
    "# from sklearn.metrics import r2_score\n",
    "# import matplotlib\n",
    "# import random as rd\n",
    "# from sklearn import metrics\n",
    "# from sklearn.metrics import mean_squared_error, mean_absolute_percentage_error\n",
    "# import math\n",
    "# import itertools as it\n",
    "# import seaborn as sn\n",
    "# import scipy as sp\n",
    "#\n",
    "# import plotly\n",
    "# import plotly.graph_objs as go\n",
    "# import plotly.express as px\n",
    "# from plotly.subplots import make_subplots\n",
    "np.seterr(divide = 'ignore')"
   ]
  },
  {
   "cell_type": "code",
   "execution_count": 2,
   "outputs": [],
   "source": [
    "not_simmetry3 = []\n",
    "not_simmetry4 = []"
   ],
   "metadata": {
    "collapsed": false,
    "ExecuteTime": {
     "end_time": "2024-02-02T09:08:48.030725100Z",
     "start_time": "2024-02-02T09:08:47.987723300Z"
    }
   }
  },
  {
   "cell_type": "code",
   "execution_count": 3,
   "outputs": [
    {
     "name": "stdout",
     "output_type": "stream",
     "text": [
      "0\n"
     ]
    },
    {
     "name": "stderr",
     "output_type": "stream",
     "text": [
      "C:\\Users\\vitya\\AppData\\Roaming\\Python\\Python310\\site-packages\\statsmodels\\stats\\multitest.py:186: RuntimeWarning: divide by zero encountered in log1p\n",
      "  np.log1p(-pvals))\n",
      "C:\\Users\\vitya\\AppData\\Roaming\\Python\\Python310\\site-packages\\statsmodels\\stats\\multitest.py:186: RuntimeWarning: divide by zero encountered in log1p\n",
      "  np.log1p(-pvals))\n"
     ]
    },
    {
     "name": "stdout",
     "output_type": "stream",
     "text": [
      "(array([ True, False, False]), array([0.02800121, 0.92191375, 0.92191375]), 0.016952427508441503, 0.016666666666666666)\n"
     ]
    },
    {
     "name": "stderr",
     "output_type": "stream",
     "text": [
      "C:\\Users\\vitya\\AppData\\Roaming\\Python\\Python310\\site-packages\\statsmodels\\stats\\multitest.py:186: RuntimeWarning: divide by zero encountered in log1p\n",
      "  np.log1p(-pvals))\n"
     ]
    },
    {
     "name": "stdout",
     "output_type": "stream",
     "text": [
      "(array([ True, False, False]), array([0.04046517, 0.82977486, 0.82977486]), 0.016952427508441503, 0.016666666666666666)\n",
      "(array([ True, False, False]), array([0.00952535, 0.66724453, 0.66724453]), 0.016952427508441503, 0.016666666666666666)\n",
      "(array([ True, False, False, False, False, False, False, False, False,\n",
      "       False, False, False]), array([0.00480949, 0.99958163, 0.99958163, 0.99958163, 1.        ,\n",
      "       0.98765599, 0.99958163, 0.99618693, 1.        , 0.53394536,\n",
      "       0.99958163, 0.99958163]), 0.004265318777560645, 0.004166666666666667)\n"
     ]
    },
    {
     "name": "stderr",
     "output_type": "stream",
     "text": [
      "C:\\Users\\vitya\\AppData\\Roaming\\Python\\Python310\\site-packages\\statsmodels\\stats\\multitest.py:186: RuntimeWarning: divide by zero encountered in log1p\n",
      "  np.log1p(-pvals))\n",
      "C:\\Users\\vitya\\AppData\\Roaming\\Python\\Python310\\site-packages\\statsmodels\\stats\\multitest.py:186: RuntimeWarning: divide by zero encountered in log1p\n",
      "  np.log1p(-pvals))\n",
      "C:\\Users\\vitya\\AppData\\Roaming\\Python\\Python310\\site-packages\\statsmodels\\stats\\multitest.py:186: RuntimeWarning: divide by zero encountered in log1p\n",
      "  np.log1p(-pvals))\n"
     ]
    },
    {
     "name": "stdout",
     "output_type": "stream",
     "text": [
      "(array([ True, False, False, False, False, False, False, False, False,\n",
      "       False, False, False]), array([0.02477334, 0.96294422, 0.99051233, 0.99923605, 0.99923605,\n",
      "       0.99051233, 0.99923605, 0.99923605, 0.96117311, 0.99051233,\n",
      "       0.72439412, 0.99923605]), 0.004265318777560645, 0.004166666666666667)\n",
      "20\n"
     ]
    },
    {
     "name": "stderr",
     "output_type": "stream",
     "text": [
      "C:\\Users\\vitya\\AppData\\Roaming\\Python\\Python310\\site-packages\\statsmodels\\stats\\multitest.py:186: RuntimeWarning: divide by zero encountered in log1p\n",
      "  np.log1p(-pvals))\n"
     ]
    },
    {
     "name": "stdout",
     "output_type": "stream",
     "text": [
      "(array([ True, False, False]), array([7.59340656e-06, 8.27394453e-01, 8.27394453e-01]), 0.016952427508441503, 0.016666666666666666)\n",
      "(array([ True, False, False, False, False, False, False, False, False,\n",
      "       False, False, False]), array([5.44431312e-05, 9.95338336e-01, 9.42813240e-01, 9.95338336e-01,\n",
      "       9.95338336e-01, 9.95338336e-01, 9.86175096e-01, 9.86344502e-01,\n",
      "       9.95338336e-01, 2.62405753e-01, 6.72506541e-01, 5.60202660e-01]), 0.004265318777560645, 0.004166666666666667)\n",
      "(array([ True, False, False]), array([0.00402805, 0.98926341, 0.98926341]), 0.016952427508441503, 0.016666666666666666)\n",
      "(array([ True, False, False]), array([8.01953424e-06, 2.68914496e-01, 2.68914496e-01]), 0.016952427508441503, 0.016666666666666666)\n",
      "(array([ True, False, False, False, False, False, False, False, False,\n",
      "       False, False, False]), array([1.76799649e-05, 4.39870055e-01, 2.46434927e-01, 9.84519272e-01,\n",
      "       7.36440930e-01, 9.84519272e-01, 8.90394997e-01, 8.34542343e-01,\n",
      "       9.84848055e-01, 9.80110250e-01, 9.84848055e-01, 9.84519272e-01]), 0.004265318777560645, 0.004166666666666667)\n",
      "(array([ True, False, False]), array([0.00730683, 0.92262372, 0.92262372]), 0.016952427508441503, 0.016666666666666666)\n"
     ]
    },
    {
     "name": "stderr",
     "output_type": "stream",
     "text": [
      "C:\\Users\\vitya\\AppData\\Roaming\\Python\\Python310\\site-packages\\statsmodels\\stats\\multitest.py:186: RuntimeWarning: divide by zero encountered in log1p\n",
      "  np.log1p(-pvals))\n"
     ]
    },
    {
     "name": "stdout",
     "output_type": "stream",
     "text": [
      "(array([ True, False, False]), array([0.02670446, 0.7630692 , 0.7630692 ]), 0.016952427508441503, 0.016666666666666666)\n",
      "(array([False, False, False, False, False,  True, False, False, False,\n",
      "       False, False, False]), array([0.60283024, 0.95684333, 0.95827922, 0.95827922, 0.99645416,\n",
      "       0.00900383, 0.95684333, 0.2521784 , 0.99645416, 0.83835301,\n",
      "       0.95827922, 0.95684333]), 0.004265318777560645, 0.004166666666666667)\n"
     ]
    },
    {
     "name": "stderr",
     "output_type": "stream",
     "text": [
      "C:\\Users\\vitya\\AppData\\Roaming\\Python\\Python310\\site-packages\\statsmodels\\stats\\multitest.py:186: RuntimeWarning: divide by zero encountered in log1p\n",
      "  np.log1p(-pvals))\n"
     ]
    },
    {
     "name": "stdout",
     "output_type": "stream",
     "text": [
      "40\n"
     ]
    },
    {
     "name": "stderr",
     "output_type": "stream",
     "text": [
      "C:\\Users\\vitya\\AppData\\Roaming\\Python\\Python310\\site-packages\\statsmodels\\stats\\multitest.py:186: RuntimeWarning: divide by zero encountered in log1p\n",
      "  np.log1p(-pvals))\n"
     ]
    },
    {
     "name": "stdout",
     "output_type": "stream",
     "text": [
      "(array([ True, False, False]), array([2.30386914e-05, 7.93662394e-01, 7.93662394e-01]), 0.016952427508441503, 0.016666666666666666)\n",
      "(array([ True, False, False, False, False, False, False, False, False,\n",
      "       False, False, False]), array([1.54388918e-04, 8.55448063e-01, 4.48360920e-01, 9.68884331e-01,\n",
      "       9.23210731e-01, 9.23210731e-01, 9.23210731e-01, 9.23210731e-01,\n",
      "       9.68884331e-01, 9.23210731e-01, 8.55448063e-01, 9.23210731e-01]), 0.004265318777560645, 0.004166666666666667)\n"
     ]
    },
    {
     "name": "stderr",
     "output_type": "stream",
     "text": [
      "C:\\Users\\vitya\\AppData\\Roaming\\Python\\Python310\\site-packages\\statsmodels\\stats\\multitest.py:186: RuntimeWarning: divide by zero encountered in log1p\n",
      "  np.log1p(-pvals))\n"
     ]
    },
    {
     "name": "stdout",
     "output_type": "stream",
     "text": [
      "(array([ True, False, False]), array([0.00211917, 0.70743856, 0.70743856]), 0.016952427508441503, 0.016666666666666666)\n",
      "(array([ True, False, False, False, False, False, False, False, False,\n",
      "       False, False, False]), array([0.00409262, 0.92227306, 0.89652474, 0.99708366, 0.89652474,\n",
      "       0.997523  , 0.49247309, 0.93908977, 0.997523  , 0.997523  ,\n",
      "       0.997523  , 0.89652474]), 0.004265318777560645, 0.004166666666666667)\n"
     ]
    },
    {
     "name": "stderr",
     "output_type": "stream",
     "text": [
      "C:\\Users\\vitya\\AppData\\Roaming\\Python\\Python310\\site-packages\\statsmodels\\stats\\multitest.py:186: RuntimeWarning: divide by zero encountered in log1p\n",
      "  np.log1p(-pvals))\n"
     ]
    },
    {
     "name": "stdout",
     "output_type": "stream",
     "text": [
      "(array([ True, False, False]), array([0.00950782, 0.92343274, 0.92343274]), 0.016952427508441503, 0.016666666666666666)\n",
      "60\n"
     ]
    },
    {
     "name": "stderr",
     "output_type": "stream",
     "text": [
      "C:\\Users\\vitya\\AppData\\Roaming\\Python\\Python310\\site-packages\\statsmodels\\stats\\multitest.py:186: RuntimeWarning: divide by zero encountered in log1p\n",
      "  np.log1p(-pvals))\n",
      "C:\\Users\\vitya\\AppData\\Roaming\\Python\\Python310\\site-packages\\statsmodels\\stats\\multitest.py:186: RuntimeWarning: divide by zero encountered in log1p\n",
      "  np.log1p(-pvals))\n"
     ]
    },
    {
     "name": "stdout",
     "output_type": "stream",
     "text": [
      "(array([ True, False, False]), array([0.00165545, 0.7695038 , 0.7695038 ]), 0.016952427508441503, 0.016666666666666666)\n",
      "(array([ True, False, False, False, False, False, False, False, False,\n",
      "       False, False, False]), array([0.00378607, 0.98216722, 0.69410805, 0.98216722, 0.36189983,\n",
      "       0.58633143, 0.98216722, 0.58633143, 0.58633143, 0.98216722,\n",
      "       0.58633143, 0.98216722]), 0.004265318777560645, 0.004166666666666667)\n"
     ]
    },
    {
     "name": "stderr",
     "output_type": "stream",
     "text": [
      "C:\\Users\\vitya\\AppData\\Roaming\\Python\\Python310\\site-packages\\statsmodels\\stats\\multitest.py:186: RuntimeWarning: divide by zero encountered in log1p\n",
      "  np.log1p(-pvals))\n",
      "C:\\Users\\vitya\\AppData\\Roaming\\Python\\Python310\\site-packages\\statsmodels\\stats\\multitest.py:186: RuntimeWarning: divide by zero encountered in log1p\n",
      "  np.log1p(-pvals))\n"
     ]
    },
    {
     "name": "stdout",
     "output_type": "stream",
     "text": [
      "(array([False, False, False, False, False, False, False,  True, False,\n",
      "       False, False, False]), array([0.98971383, 0.98971383, 0.90171437, 0.8718179 , 0.98971383,\n",
      "       0.94162506, 0.98971383, 0.00998184, 0.98971383, 0.99715023,\n",
      "       1.        , 0.98971383]), 0.004265318777560645, 0.004166666666666667)\n",
      "(array([ True, False, False]), array([0.01698042, 0.5996518 , 0.5996518 ]), 0.016952427508441503, 0.016666666666666666)\n",
      "(array([False, False, False, False, False, False, False, False, False,\n",
      "        True, False, False]), array([0.92057769, 0.18101712, 0.92057769, 0.99569714, 0.54569962,\n",
      "       0.99569714, 0.96155571, 0.77999386, 0.92057769, 0.03085395,\n",
      "       0.99569714, 0.98589972]), 0.004265318777560645, 0.004166666666666667)\n",
      "(array([ True, False, False]), array([0.02300208, 0.9245539 , 0.9245539 ]), 0.016952427508441503, 0.016666666666666666)\n",
      "(array([ True, False, False]), array([0.00983765, 0.12057441, 0.12057441]), 0.016952427508441503, 0.016666666666666666)\n",
      "(array([ True, False, False, False, False, False, False, False, False,\n",
      "       False, False, False]), array([0.00791406, 0.97664919, 0.70941547, 0.99716935, 0.96394471,\n",
      "       0.96394471, 0.99716935, 0.70941547, 0.99716935, 0.70941547,\n",
      "       0.06774036, 0.99716935]), 0.004265318777560645, 0.004166666666666667)\n"
     ]
    },
    {
     "name": "stderr",
     "output_type": "stream",
     "text": [
      "C:\\Users\\vitya\\AppData\\Roaming\\Python\\Python310\\site-packages\\statsmodels\\stats\\multitest.py:186: RuntimeWarning: divide by zero encountered in log1p\n",
      "  np.log1p(-pvals))\n"
     ]
    },
    {
     "name": "stdout",
     "output_type": "stream",
     "text": [
      "80\n"
     ]
    },
    {
     "name": "stderr",
     "output_type": "stream",
     "text": [
      "C:\\Users\\vitya\\AppData\\Roaming\\Python\\Python310\\site-packages\\statsmodels\\stats\\multitest.py:186: RuntimeWarning: divide by zero encountered in log1p\n",
      "  np.log1p(-pvals))\n",
      "C:\\Users\\vitya\\AppData\\Roaming\\Python\\Python310\\site-packages\\statsmodels\\stats\\multitest.py:186: RuntimeWarning: divide by zero encountered in log1p\n",
      "  np.log1p(-pvals))\n"
     ]
    },
    {
     "name": "stdout",
     "output_type": "stream",
     "text": [
      "(array([ True, False, False]), array([0.02358937, 0.9373458 , 0.9373458 ]), 0.016952427508441503, 0.016666666666666666)\n",
      "(array([False, False, False, False, False, False, False,  True, False,\n",
      "       False, False, False]), array([0.14235765, 0.96578964, 0.99993172, 0.99993172, 0.99993172,\n",
      "       0.99993172, 0.9731655 , 0.0402465 , 0.99993172, 0.99993172,\n",
      "       0.99721623, 0.99993172]), 0.004265318777560645, 0.004166666666666667)\n"
     ]
    },
    {
     "name": "stderr",
     "output_type": "stream",
     "text": [
      "C:\\Users\\vitya\\AppData\\Roaming\\Python\\Python310\\site-packages\\statsmodels\\stats\\multitest.py:186: RuntimeWarning: divide by zero encountered in log1p\n",
      "  np.log1p(-pvals))\n"
     ]
    },
    {
     "name": "stdout",
     "output_type": "stream",
     "text": [
      "(array([ True, False, False]), array([0.03767744, 0.4690707 , 0.4690707 ]), 0.016952427508441503, 0.016666666666666666)\n"
     ]
    },
    {
     "name": "stderr",
     "output_type": "stream",
     "text": [
      "C:\\Users\\vitya\\AppData\\Roaming\\Python\\Python310\\site-packages\\statsmodels\\stats\\multitest.py:186: RuntimeWarning: divide by zero encountered in log1p\n",
      "  np.log1p(-pvals))\n",
      "C:\\Users\\vitya\\AppData\\Roaming\\Python\\Python310\\site-packages\\statsmodels\\stats\\multitest.py:186: RuntimeWarning: divide by zero encountered in log1p\n",
      "  np.log1p(-pvals))\n",
      "C:\\Users\\vitya\\AppData\\Roaming\\Python\\Python310\\site-packages\\statsmodels\\stats\\multitest.py:186: RuntimeWarning: divide by zero encountered in log1p\n",
      "  np.log1p(-pvals))\n"
     ]
    },
    {
     "name": "stdout",
     "output_type": "stream",
     "text": [
      "(array([ True, False, False]), array([0.00292453, 0.50591575, 0.50591575]), 0.016952427508441503, 0.016666666666666666)\n",
      "(array([ True, False, False, False, False, False, False, False, False,\n",
      "       False, False, False]), array([3.15840293e-05, 9.99998483e-01, 9.63842750e-01, 9.99998483e-01,\n",
      "       9.99998483e-01, 9.99998483e-01, 9.99998483e-01, 8.95371375e-01,\n",
      "       9.99949779e-01, 9.95627961e-01, 9.08362572e-01, 9.93167334e-01]), 0.004265318777560645, 0.004166666666666667)\n"
     ]
    }
   ],
   "source": [
    "for i in range(100):\n",
    "    if i%20 == 0:\n",
    "        print(i)\n",
    "    rw = random_walk(date_end=\"30/12/2023 00:00:00\")\n",
    "    ts_perm3 = count_permutation(rw, 3)\n",
    "    ts_perm4 = count_permutation(rw, 4)\n",
    "    cr3 = multiply_equals_test(ts_perm3)\n",
    "    if sum(cr3[0]) != 0:\n",
    "        print(cr3)\n",
    "        not_simmetry3.append([rw,ts_perm3])\n",
    "    cr4 = multiply_equals_test(ts_perm4)\n",
    "    if sum(cr4[0]) != 0:\n",
    "        print(cr4)\n",
    "        not_simmetry4.append([rw,ts_perm4])"
   ],
   "metadata": {
    "collapsed": false,
    "ExecuteTime": {
     "end_time": "2024-02-02T09:23:16.847259700Z",
     "start_time": "2024-02-02T09:08:49.555743500Z"
    }
   }
  },
  {
   "cell_type": "code",
   "execution_count": 4,
   "outputs": [
    {
     "data": {
      "text/plain": "0.18"
     },
     "execution_count": 4,
     "metadata": {},
     "output_type": "execute_result"
    }
   ],
   "source": [
    "len(not_simmetry3)/100"
   ],
   "metadata": {
    "collapsed": false,
    "ExecuteTime": {
     "end_time": "2024-02-02T09:57:10.579417300Z",
     "start_time": "2024-02-02T09:57:10.528340600Z"
    }
   }
  },
  {
   "cell_type": "code",
   "execution_count": 5,
   "outputs": [
    {
     "data": {
      "text/plain": "0.13"
     },
     "execution_count": 5,
     "metadata": {},
     "output_type": "execute_result"
    }
   ],
   "source": [
    "len(not_simmetry4)/100"
   ],
   "metadata": {
    "collapsed": false,
    "ExecuteTime": {
     "end_time": "2024-02-02T09:57:19.949446500Z",
     "start_time": "2024-02-02T09:57:19.851887100Z"
    }
   }
  },
  {
   "cell_type": "code",
   "execution_count": 9,
   "outputs": [],
   "source": [
    "simmetry3 = []\n",
    "simmetry4 = []"
   ],
   "metadata": {
    "collapsed": false,
    "ExecuteTime": {
     "end_time": "2024-02-02T10:09:33.473272Z",
     "start_time": "2024-02-02T10:09:33.442383700Z"
    }
   }
  },
  {
   "cell_type": "code",
   "execution_count": 11,
   "outputs": [
    {
     "name": "stdout",
     "output_type": "stream",
     "text": [
      "0\n",
      "20\n",
      "40\n",
      "60\n",
      "80\n"
     ]
    }
   ],
   "source": [
    "for i in range(100):\n",
    "    if i%20 == 0:\n",
    "        print(i)\n",
    "    ts = generate_ts(date_end=\"30/12/2023 00:00:00\")\n",
    "    ts_perm3 = count_permutation(ts, 3)\n",
    "    ts_perm4 = count_permutation(ts, 4)\n",
    "    cr3 = multiply_equals_test(ts_perm3)\n",
    "    if sum(cr3[0]) == 0:\n",
    "        print(cr3)\n",
    "        simmetry3.append([ts,ts_perm3])\n",
    "    cr4 = multiply_equals_test(ts_perm4)\n",
    "    if sum(cr4[0]) == 0:\n",
    "        print(cr4)\n",
    "        simmetry4.append([ts,ts_perm4])"
   ],
   "metadata": {
    "collapsed": false,
    "ExecuteTime": {
     "end_time": "2024-02-02T10:32:36.945812700Z",
     "start_time": "2024-02-02T10:13:17.475765Z"
    }
   }
  },
  {
   "cell_type": "code",
   "execution_count": 12,
   "outputs": [
    {
     "data": {
      "text/plain": "0.14"
     },
     "execution_count": 12,
     "metadata": {},
     "output_type": "execute_result"
    }
   ],
   "source": [
    "len(simmetry3)/100"
   ],
   "metadata": {
    "collapsed": false,
    "ExecuteTime": {
     "end_time": "2024-02-02T10:32:36.973887900Z",
     "start_time": "2024-02-02T10:32:36.947338300Z"
    }
   }
  },
  {
   "cell_type": "code",
   "execution_count": 13,
   "outputs": [
    {
     "data": {
      "text/plain": "0.14"
     },
     "execution_count": 13,
     "metadata": {},
     "output_type": "execute_result"
    }
   ],
   "source": [
    "len(simmetry4)/100"
   ],
   "metadata": {
    "collapsed": false,
    "ExecuteTime": {
     "end_time": "2024-02-02T10:32:36.991424200Z",
     "start_time": "2024-02-02T10:32:36.973887900Z"
    }
   }
  },
  {
   "cell_type": "code",
   "execution_count": 32,
   "outputs": [],
   "source": [
    "not_simmetry3_hs = []\n",
    "not_simmetry3_hb = []\n",
    "not_simmetry3_sh = []\n",
    "not_simmetry3_hommel = []"
   ],
   "metadata": {
    "collapsed": false,
    "ExecuteTime": {
     "end_time": "2024-02-02T11:44:18.849799100Z",
     "start_time": "2024-02-02T11:44:18.841051900Z"
    }
   }
  },
  {
   "cell_type": "code",
   "execution_count": 33,
   "outputs": [],
   "source": [
    "simmetry3_hs = []\n",
    "simmetry3_hb = []\n",
    "simmetry3_sh = []\n",
    "simmetry3_hommel = []"
   ],
   "metadata": {
    "collapsed": false,
    "ExecuteTime": {
     "end_time": "2024-02-02T11:44:19.129007400Z",
     "start_time": "2024-02-02T11:44:19.106400800Z"
    }
   }
  },
  {
   "cell_type": "code",
   "execution_count": 34,
   "outputs": [
    {
     "name": "stdout",
     "output_type": "stream",
     "text": [
      "0\n",
      "10\n",
      "20\n",
      "30\n",
      "40\n",
      "50\n",
      "60\n",
      "70\n",
      "80\n",
      "90\n"
     ]
    }
   ],
   "source": [
    "for i in range(100):\n",
    "    if i%10 == 0:\n",
    "        print(i)\n",
    "    ts = generate_ts(date_end=\"30/10/2023 00:00:00\")\n",
    "    ts_perm3 = count_permutation(ts, 3)\n",
    "    cr = multiply_equals_test(ts_perm3)\n",
    "    if sum(cr[0]) == 0:\n",
    "        simmetry3_hs.append([ts,ts_perm3])\n",
    "    cr_hb = multiply_equals_test(ts_perm3, method=\"holm\")\n",
    "    if sum(cr_hb[0]) == 0:\n",
    "        simmetry3_hb.append([ts,ts_perm3])\n",
    "    cr_sh = multiply_equals_test(ts_perm3, method=\"simes-hochberg\")\n",
    "    if sum(cr_sh[0]) == 0:\n",
    "        simmetry3_sh.append([ts,ts_perm3])\n",
    "    cr_hommel = multiply_equals_test(ts_perm3, method=\"hommel\")\n",
    "    if sum(cr_hommel[0]) == 0:\n",
    "        simmetry3_hommel.append([ts,ts_perm3])\n",
    "    rw = random_walk(date_end=\"30/10/2023 00:00:00\")\n",
    "    ts_perm3 = count_permutation(rw, 3)\n",
    "    cr = multiply_equals_test(ts_perm3)\n",
    "    if sum(cr[0]) != 0:\n",
    "        not_simmetry3_hs.append([ts,ts_perm3])\n",
    "    cr_hb = multiply_equals_test(ts_perm3, method=\"holm\")\n",
    "    if sum(cr_hb[0]) != 0:\n",
    "        not_simmetry3_hb.append([ts,ts_perm3])\n",
    "    cr_sh = multiply_equals_test(ts_perm3, method=\"simes-hochberg\")\n",
    "    if sum(cr_sh[0]) != 0:\n",
    "        not_simmetry3_sh.append([ts,ts_perm3])\n",
    "    cr_hommel = multiply_equals_test(ts_perm3, method=\"hommel\")\n",
    "    if sum(cr_hommel[0]) != 0:\n",
    "        not_simmetry3_hommel.append([ts,ts_perm3])"
   ],
   "metadata": {
    "collapsed": false,
    "ExecuteTime": {
     "end_time": "2024-02-02T11:52:55.749650100Z",
     "start_time": "2024-02-02T11:44:20.041460500Z"
    }
   }
  },
  {
   "cell_type": "code",
   "execution_count": 40,
   "outputs": [
    {
     "name": "stdout",
     "output_type": "stream",
     "text": [
      "Holm-Sidak: FNR: 0.09; FPR: 0.0\n",
      "Holm-Benferonni: FNR: 0.08; FPR: 0.0\n",
      "Simes-Hochberg: FNR: 0.08; FPR: 0.0\n",
      "Hommel: FNR: 0.08; FPR: 0.0\n"
     ]
    }
   ],
   "source": [
    "print(f\"Holm-Sidak: FNR: {len(not_simmetry3_hs)/100}; FPR: {len(simmetry3_hs)/100}\")\n",
    "print(f\"Holm-Benferonni: FNR: {len(not_simmetry3_hb)/100}; FPR: {len(simmetry3_hb)/100}\")\n",
    "print(f\"Simes-Hochberg: FNR: {len(not_simmetry3_sh)/100}; FPR: {len(simmetry3_sh)/100}\")\n",
    "print(f\"Hommel: FNR: {len(not_simmetry3_hommel)/100}; FPR: {len(simmetry3_hommel)/100}\")"
   ],
   "metadata": {
    "collapsed": false,
    "ExecuteTime": {
     "end_time": "2024-02-02T12:29:36.830358200Z",
     "start_time": "2024-02-02T12:29:36.813630100Z"
    }
   }
  },
  {
   "cell_type": "code",
   "execution_count": 36,
   "outputs": [],
   "source": [
    "not_simmetry4_hs = []\n",
    "not_simmetry4_hb = []\n",
    "not_simmetry4_sh = []\n",
    "not_simmetry4_hommel = []"
   ],
   "metadata": {
    "collapsed": false,
    "ExecuteTime": {
     "end_time": "2024-02-02T11:52:55.821461300Z",
     "start_time": "2024-02-02T11:52:55.767210300Z"
    }
   }
  },
  {
   "cell_type": "code",
   "execution_count": 37,
   "outputs": [],
   "source": [
    "simmetry4_hs = []\n",
    "simmetry4_hb = []\n",
    "simmetry4_sh = []\n",
    "simmetry4_hommel = []"
   ],
   "metadata": {
    "collapsed": false,
    "ExecuteTime": {
     "end_time": "2024-02-02T11:52:55.829670600Z",
     "start_time": "2024-02-02T11:52:55.781667800Z"
    }
   }
  },
  {
   "cell_type": "code",
   "execution_count": 38,
   "outputs": [
    {
     "name": "stdout",
     "output_type": "stream",
     "text": [
      "0\n",
      "10\n",
      "20\n",
      "30\n",
      "40\n",
      "50\n",
      "60\n",
      "70\n",
      "80\n",
      "90\n"
     ]
    }
   ],
   "source": [
    "for i in range(100):\n",
    "    if i%10 == 0:\n",
    "        print(i)\n",
    "    ts = generate_ts(date_end=\"30/10/2023 00:00:00\")\n",
    "    ts_perm4 = count_permutation(ts, 4)\n",
    "    cr = multiply_equals_test(ts_perm4)\n",
    "    if sum(cr[0]) == 0:\n",
    "        simmetry4_hs.append([ts,ts_perm4])\n",
    "    cr_hb = multiply_equals_test(ts_perm4, method=\"holm\")\n",
    "    if sum(cr_hb[0]) == 0:\n",
    "        simmetry4_hb.append([ts,ts_perm4])\n",
    "    cr_sh = multiply_equals_test(ts_perm4, method=\"simes-hochberg\")\n",
    "    if sum(cr_sh[0]) == 0:\n",
    "        simmetry4_sh.append([ts,ts_perm4])\n",
    "    cr_hommel = multiply_equals_test(ts_perm4, method=\"hommel\")\n",
    "    if sum(cr_hommel[0]) == 0:\n",
    "        simmetry4_hommel.append([ts,ts_perm4])\n",
    "    rw = random_walk(date_end=\"30/10/2023 00:00:00\")\n",
    "    ts_perm4 = count_permutation(rw, 4)\n",
    "    cr = multiply_equals_test(ts_perm4)\n",
    "    if sum(cr[0]) != 0:\n",
    "        not_simmetry4_hs.append([ts,ts_perm4])\n",
    "    cr_hb = multiply_equals_test(ts_perm4, method=\"holm\")\n",
    "    if sum(cr_hb[0]) != 0:\n",
    "        not_simmetry4_hb.append([ts,ts_perm4])\n",
    "    cr_sh = multiply_equals_test(ts_perm4, method=\"simes-hochberg\")\n",
    "    if sum(cr_sh[0]) != 0:\n",
    "        not_simmetry4_sh.append([ts,ts_perm4])\n",
    "    cr_hommel = multiply_equals_test(ts_perm4, method=\"hommel\")\n",
    "    if sum(cr_hommel[0]) != 0:\n",
    "        not_simmetry4_hommel.append([ts,ts_perm4])"
   ],
   "metadata": {
    "collapsed": false,
    "ExecuteTime": {
     "end_time": "2024-02-02T12:03:19.159562100Z",
     "start_time": "2024-02-02T11:52:55.798864600Z"
    }
   }
  },
  {
   "cell_type": "code",
   "execution_count": 42,
   "outputs": [
    {
     "name": "stdout",
     "output_type": "stream",
     "text": [
      "Holm-Sidak: FNR: 0.12; FPR: 0.0\n",
      "Holm-Benferonni: FNR: 0.12; FPR: 0.0\n",
      "Simes-Hochberg: FNR: 0.12; FPR: 0.0\n",
      "Hommel: FNR: 0.12; FPR: 0.0\n"
     ]
    }
   ],
   "source": [
    "print(f\"Holm-Sidak: FNR: {len(not_simmetry4_hs)/100}; FPR: {len(simmetry4_hs)/100}\")\n",
    "print(f\"Holm-Benferonni: FNR: {len(not_simmetry4_hb)/100}; FPR: {len(simmetry4_hb)/100}\")\n",
    "print(f\"Simes-Hochberg: FNR: {len(not_simmetry4_sh)/100}; FPR: {len(simmetry4_sh)/100}\")\n",
    "print(f\"Hommel: FNR: {len(not_simmetry4_hommel)/100}; FPR: {len(simmetry4_hommel)/100}\")"
   ],
   "metadata": {
    "collapsed": false,
    "ExecuteTime": {
     "end_time": "2024-02-02T12:30:14.024808Z",
     "start_time": "2024-02-02T12:30:14.003377200Z"
    }
   }
  },
  {
   "cell_type": "code",
   "execution_count": 45,
   "outputs": [],
   "source": [
    "result_hs = []\n",
    "result_hb = []\n",
    "result_sh = []\n",
    "result_hommel = []"
   ],
   "metadata": {
    "collapsed": false,
    "ExecuteTime": {
     "end_time": "2024-02-02T14:55:29.100240200Z",
     "start_time": "2024-02-02T14:55:29.084286Z"
    }
   }
  },
  {
   "cell_type": "code",
   "execution_count": 47,
   "outputs": [
    {
     "name": "stdout",
     "output_type": "stream",
     "text": [
      "0 0.01\n",
      "50 0.01\n",
      "0 0.02\n",
      "50 0.02\n",
      "0 0.03\n",
      "50 0.03\n",
      "0 0.04\n",
      "50 0.04\n",
      "0 0.05\n",
      "50 0.05\n",
      "0 0.06\n",
      "50 0.06\n",
      "0 0.07\n",
      "50 0.07\n",
      "0 0.08\n",
      "50 0.08\n",
      "0 0.09\n"
     ]
    },
    {
     "ename": "KeyboardInterrupt",
     "evalue": "",
     "output_type": "error",
     "traceback": [
      "\u001B[1;31m---------------------------------------------------------------------------\u001B[0m",
      "\u001B[1;31mKeyboardInterrupt\u001B[0m                         Traceback (most recent call last)",
      "Cell \u001B[1;32mIn[47], line 8\u001B[0m\n\u001B[0;32m      6\u001B[0m     \u001B[38;5;28mprint\u001B[39m(i, alpha)\n\u001B[0;32m      7\u001B[0m ts \u001B[38;5;241m=\u001B[39m generate_ts(date_end\u001B[38;5;241m=\u001B[39m\u001B[38;5;124m\"\u001B[39m\u001B[38;5;124m30/09/2023 00:00:00\u001B[39m\u001B[38;5;124m\"\u001B[39m)\n\u001B[1;32m----> 8\u001B[0m ts_perm3 \u001B[38;5;241m=\u001B[39m \u001B[43mcount_permutation\u001B[49m\u001B[43m(\u001B[49m\u001B[43mts\u001B[49m\u001B[43m,\u001B[49m\u001B[43m \u001B[49m\u001B[38;5;241;43m3\u001B[39;49m\u001B[43m)\u001B[49m\n\u001B[0;32m      9\u001B[0m \u001B[38;5;28;01mfor\u001B[39;00m method \u001B[38;5;129;01min\u001B[39;00m [\u001B[38;5;124m\"\u001B[39m\u001B[38;5;124mholm-sidak\u001B[39m\u001B[38;5;124m\"\u001B[39m, \u001B[38;5;124m'\u001B[39m\u001B[38;5;124mholm\u001B[39m\u001B[38;5;124m'\u001B[39m,\u001B[38;5;124m\"\u001B[39m\u001B[38;5;124msimes-hochberg\u001B[39m\u001B[38;5;124m\"\u001B[39m,\u001B[38;5;124m\"\u001B[39m\u001B[38;5;124mhommel\u001B[39m\u001B[38;5;124m\"\u001B[39m]:\n\u001B[0;32m     10\u001B[0m     cr \u001B[38;5;241m=\u001B[39m multiply_equals_test(ts_perm3, alpha\u001B[38;5;241m=\u001B[39malpha, method\u001B[38;5;241m=\u001B[39mmethod)\n",
      "File \u001B[1;32m~\\Analis\\predan\\bin\\functions.py:80\u001B[0m, in \u001B[0;36mcount_permutation\u001B[1;34m(ts, window)\u001B[0m\n\u001B[0;32m     78\u001B[0m     sort_slice \u001B[38;5;241m=\u001B[39m slice_df\u001B[38;5;241m.\u001B[39mcopy()\u001B[38;5;241m.\u001B[39msort_values()\n\u001B[0;32m     79\u001B[0m     \u001B[38;5;28;01mfor\u001B[39;00m j \u001B[38;5;129;01min\u001B[39;00m \u001B[38;5;28mrange\u001B[39m(window):\n\u001B[1;32m---> 80\u001B[0m         slice_df[\u001B[43mslice_df\u001B[49m\u001B[43m[\u001B[49m\u001B[43mslice_df\u001B[49m\u001B[43m \u001B[49m\u001B[38;5;241;43m==\u001B[39;49m\u001B[43m \u001B[49m\u001B[43msort_slice\u001B[49m\u001B[38;5;241;43m.\u001B[39;49m\u001B[43miloc\u001B[49m\u001B[43m[\u001B[49m\u001B[43mj\u001B[49m\u001B[43m]\u001B[49m\u001B[43m]\u001B[49m\u001B[38;5;241;43m.\u001B[39;49m\u001B[43mfirst_valid_index\u001B[49m\u001B[43m(\u001B[49m\u001B[43m)\u001B[49m] \u001B[38;5;241m=\u001B[39m j\n\u001B[0;32m     81\u001B[0m     count_p[permutation_list\u001B[38;5;241m.\u001B[39mindex(\u001B[38;5;28mtuple\u001B[39m(slice_df\u001B[38;5;241m.\u001B[39mtolist()))] \u001B[38;5;241m+\u001B[39m\u001B[38;5;241m=\u001B[39m \u001B[38;5;241m1\u001B[39m\n\u001B[0;32m     82\u001B[0m \u001B[38;5;28;01mreturn\u001B[39;00m count_p\n",
      "File \u001B[1;32mC:\\Program Files\\Python310\\lib\\site-packages\\pandas\\core\\generic.py:12175\u001B[0m, in \u001B[0;36mNDFrame.first_valid_index\u001B[1;34m(self)\u001B[0m\n\u001B[0;32m  12160\u001B[0m \u001B[38;5;129m@final\u001B[39m\n\u001B[0;32m  12161\u001B[0m \u001B[38;5;129m@doc\u001B[39m(position\u001B[38;5;241m=\u001B[39m\u001B[38;5;124m\"\u001B[39m\u001B[38;5;124mfirst\u001B[39m\u001B[38;5;124m\"\u001B[39m, klass\u001B[38;5;241m=\u001B[39m_shared_doc_kwargs[\u001B[38;5;124m\"\u001B[39m\u001B[38;5;124mklass\u001B[39m\u001B[38;5;124m\"\u001B[39m])\n\u001B[0;32m  12162\u001B[0m \u001B[38;5;28;01mdef\u001B[39;00m \u001B[38;5;21mfirst_valid_index\u001B[39m(\u001B[38;5;28mself\u001B[39m) \u001B[38;5;241m-\u001B[39m\u001B[38;5;241m>\u001B[39m Hashable \u001B[38;5;241m|\u001B[39m \u001B[38;5;28;01mNone\u001B[39;00m:\n\u001B[0;32m  12163\u001B[0m \u001B[38;5;250m    \u001B[39m\u001B[38;5;124;03m\"\"\"\u001B[39;00m\n\u001B[0;32m  12164\u001B[0m \u001B[38;5;124;03m    Return index for {position} non-NA value or None, if no non-NA value is found.\u001B[39;00m\n\u001B[0;32m  12165\u001B[0m \n\u001B[1;32m   (...)\u001B[0m\n\u001B[0;32m  12173\u001B[0m \u001B[38;5;124;03m    Also returns None for empty {klass}.\u001B[39;00m\n\u001B[0;32m  12174\u001B[0m \u001B[38;5;124;03m    \"\"\"\u001B[39;00m\n\u001B[1;32m> 12175\u001B[0m     \u001B[38;5;28;01mreturn\u001B[39;00m \u001B[38;5;28;43mself\u001B[39;49m\u001B[38;5;241;43m.\u001B[39;49m\u001B[43m_find_valid_index\u001B[49m\u001B[43m(\u001B[49m\u001B[43mhow\u001B[49m\u001B[38;5;241;43m=\u001B[39;49m\u001B[38;5;124;43m\"\u001B[39;49m\u001B[38;5;124;43mfirst\u001B[39;49m\u001B[38;5;124;43m\"\u001B[39;49m\u001B[43m)\u001B[49m\n",
      "File \u001B[1;32mC:\\Program Files\\Python310\\lib\\site-packages\\pandas\\core\\generic.py:12141\u001B[0m, in \u001B[0;36mNDFrame._find_valid_index\u001B[1;34m(self, how)\u001B[0m\n\u001B[0;32m  12136\u001B[0m     \u001B[38;5;28;01mreturn\u001B[39;00m \u001B[38;5;28mself\u001B[39m\u001B[38;5;241m.\u001B[39m_inplace_method(other, \u001B[38;5;28mtype\u001B[39m(\u001B[38;5;28mself\u001B[39m)\u001B[38;5;241m.\u001B[39m\u001B[38;5;21m__xor__\u001B[39m)  \u001B[38;5;66;03m# type: ignore[operator]\u001B[39;00m\n\u001B[0;32m  12138\u001B[0m \u001B[38;5;66;03m# ----------------------------------------------------------------------\u001B[39;00m\n\u001B[0;32m  12139\u001B[0m \u001B[38;5;66;03m# Misc methods\u001B[39;00m\n\u001B[1;32m> 12141\u001B[0m \u001B[38;5;129m@final\u001B[39m\n\u001B[0;32m  12142\u001B[0m \u001B[38;5;28;01mdef\u001B[39;00m \u001B[38;5;21m_find_valid_index\u001B[39m(\u001B[38;5;28mself\u001B[39m, \u001B[38;5;241m*\u001B[39m, how: \u001B[38;5;28mstr\u001B[39m) \u001B[38;5;241m-\u001B[39m\u001B[38;5;241m>\u001B[39m Hashable \u001B[38;5;241m|\u001B[39m \u001B[38;5;28;01mNone\u001B[39;00m:\n\u001B[0;32m  12143\u001B[0m \u001B[38;5;250m    \u001B[39m\u001B[38;5;124;03m\"\"\"\u001B[39;00m\n\u001B[0;32m  12144\u001B[0m \u001B[38;5;124;03m    Retrieves the index of the first valid value.\u001B[39;00m\n\u001B[0;32m  12145\u001B[0m \n\u001B[1;32m   (...)\u001B[0m\n\u001B[0;32m  12153\u001B[0m \u001B[38;5;124;03m    idx_first_valid : type of index\u001B[39;00m\n\u001B[0;32m  12154\u001B[0m \u001B[38;5;124;03m    \"\"\"\u001B[39;00m\n\u001B[0;32m  12155\u001B[0m     idxpos \u001B[38;5;241m=\u001B[39m find_valid_index(\u001B[38;5;28mself\u001B[39m\u001B[38;5;241m.\u001B[39m_values, how\u001B[38;5;241m=\u001B[39mhow)\n",
      "\u001B[1;31mKeyboardInterrupt\u001B[0m: "
     ]
    }
   ],
   "source": [
    "for alpha in [0.01*k for k in range(1, 100)]:\n",
    "        fp = {\"holm-sidak\":0,'holm':0,\"simes-hochberg\":0,\"hommel\":0}\n",
    "        fn = {\"holm-sidak\":0,'holm':0,\"simes-hochberg\":0,\"hommel\":0}\n",
    "        for i in range(100):\n",
    "            if i%50 == 0:\n",
    "                print(i, alpha)\n",
    "            ts = generate_ts(date_end=\"30/09/2023 00:00:00\")\n",
    "            ts_perm3 = count_permutation(ts, 3)\n",
    "            for method in [\"holm-sidak\", 'holm',\"simes-hochberg\",\"hommel\"]:\n",
    "                cr = multiply_equals_test(ts_perm3, alpha=alpha, method=method)\n",
    "                if sum(cr[0]) == 0:\n",
    "                    fp[method]+=1\n",
    "\n",
    "            rw = random_walk(date_end=\"30/09/2023 00:00:00\")\n",
    "            ts_perm3 = count_permutation(rw, 3)\n",
    "            for method in [\"holm-sidak\", 'holm',\"simes-hochberg\",\"hommel\"]:\n",
    "                cr = multiply_equals_test(ts_perm3, alpha=alpha, method=method)\n",
    "                if sum(cr[0]) != 0:\n",
    "                    fn[method]+=1\n",
    "        result_hs.append([alpha, fp[\"holm-sidak\"], fn[\"holm-sidak\"]])\n",
    "        result_hb.append([alpha, fp[\"holm\"], fn[\"holm\"]])\n",
    "        result_sh.append([alpha, fp[\"simes-hochberg\"], fn[\"simes-hochberg\"]])\n",
    "        result_hommel.append([alpha, fp[\"hommel\"], fn[\"hommel\"]])\n"
   ],
   "metadata": {
    "collapsed": false,
    "ExecuteTime": {
     "end_time": "2024-02-02T15:52:22.383139400Z",
     "start_time": "2024-02-02T14:56:08.615993100Z"
    }
   }
  },
  {
   "cell_type": "code",
   "execution_count": 50,
   "outputs": [
    {
     "data": {
      "text/plain": "<Figure size 800x600 with 1 Axes>",
      "image/png": "[encoded data removed]"
     },
     "metadata": {},
     "output_type": "display_data"
    }
   ],
   "source": [
    "fpr = []\n",
    "tpr = []\n",
    "for res in result_hb:\n",
    "    fpr.append(res[1]/100)\n",
    "    tpr.append(1-res[2]/100)\n",
    "plt.figure(figsize=(8, 6))\n",
    "plt.plot(fpr, tpr, color='darkorange', lw=2, label='ROC curve')\n",
    "plt.plot([0, 1], [0, 1], color='navy', lw=2, linestyle='--')\n",
    "plt.xlabel('False Positive Rate')\n",
    "plt.ylabel('True Positive Rate')\n",
    "plt.title('Receiver Operating Characteristic (ROC) Curve')\n",
    "plt.legend(loc='lower right')\n",
    "plt.show()"
   ],
   "metadata": {
    "collapsed": false,
    "ExecuteTime": {
     "end_time": "2024-02-02T15:52:36.192452700Z",
     "start_time": "2024-02-02T15:52:36.012861600Z"
    }
   }
  },
  {
   "cell_type": "code",
   "execution_count": 51,
   "outputs": [
    {
     "data": {
      "text/plain": "<Figure size 800x600 with 1 Axes>",
      "image/png": "[encoded data removed]"
     },
     "metadata": {},
     "output_type": "display_data"
    }
   ],
   "source": [
    "fpr = []\n",
    "tpr = []\n",
    "for res in result_hs:\n",
    "    fpr.append(res[1]/100)\n",
    "    tpr.append(1-res[2]/100)\n",
    "plt.figure(figsize=(8, 6))\n",
    "plt.plot(fpr, tpr, color='darkorange', lw=2, label='ROC curve')\n",
    "plt.plot([0, 1], [0, 1], color='navy', lw=2, linestyle='--')\n",
    "plt.xlabel('False Positive Rate')\n",
    "plt.ylabel('True Positive Rate')\n",
    "plt.title('Receiver Operating Characteristic (ROC) Curve')\n",
    "plt.legend(loc='lower right')\n",
    "plt.show()"
   ],
   "metadata": {
    "collapsed": false,
    "ExecuteTime": {
     "end_time": "2024-02-02T15:53:11.489252600Z",
     "start_time": "2024-02-02T15:53:11.348466300Z"
    }
   }
  },
  {
   "cell_type": "code",
   "execution_count": 52,
   "outputs": [
    {
     "data": {
      "text/plain": "<Figure size 800x600 with 1 Axes>",
      "image/png": "[encoded data removed]"
     },
     "metadata": {},
     "output_type": "display_data"
    }
   ],
   "source": [
    "fpr = []\n",
    "tpr = []\n",
    "for res in result_sh:\n",
    "    fpr.append(res[1]/100)\n",
    "    tpr.append(1-res[2]/100)\n",
    "plt.figure(figsize=(8, 6))\n",
    "plt.plot(fpr, tpr, color='darkorange', lw=2, label='ROC curve')\n",
    "plt.plot([0, 1], [0, 1], color='navy', lw=2, linestyle='--')\n",
    "plt.xlabel('False Positive Rate')\n",
    "plt.ylabel('True Positive Rate')\n",
    "plt.title('Receiver Operating Characteristic (ROC) Curve')\n",
    "plt.legend(loc='lower right')\n",
    "plt.show()"
   ],
   "metadata": {
    "collapsed": false,
    "ExecuteTime": {
     "end_time": "2024-02-02T15:53:24.058316500Z",
     "start_time": "2024-02-02T15:53:23.927796Z"
    }
   }
  },
  {
   "cell_type": "code",
   "execution_count": 53,
   "outputs": [
    {
     "data": {
      "text/plain": "<Figure size 800x600 with 1 Axes>",
      "image/png": "[encoded data removed]"
     },
     "metadata": {},
     "output_type": "display_data"
    }
   ],
   "source": [
    "fpr = []\n",
    "tpr = []\n",
    "for res in result_hommel:\n",
    "    fpr.append(res[1]/100)\n",
    "    tpr.append(1-res[2]/100)\n",
    "plt.figure(figsize=(8, 6))\n",
    "plt.plot(fpr, tpr, color='darkorange', lw=2, label='ROC curve')\n",
    "plt.plot([0, 1], [0, 1], color='navy', lw=2, linestyle='--')\n",
    "plt.xlabel('False Positive Rate')\n",
    "plt.ylabel('True Positive Rate')\n",
    "plt.title('Receiver Operating Characteristic (ROC) Curve')\n",
    "plt.legend(loc='lower right')\n",
    "plt.show()"
   ],
   "metadata": {
    "collapsed": false,
    "ExecuteTime": {
     "end_time": "2024-02-02T15:53:42.166567600Z",
     "start_time": "2024-02-02T15:53:42.027236500Z"
    }
   }
  },
  {
   "cell_type": "code",
   "execution_count": null,
   "outputs": [],
   "source": [],
   "metadata": {
    "collapsed": false
   }
  }
 ],
 "metadata": {
  "kernelspec": {
   "display_name": "Python 3",
   "language": "python",
   "name": "python3"
  },
  "language_info": {
   "codemirror_mode": {
    "name": "ipython",
    "version": 2
   },
   "file_extension": ".py",
   "mimetype": "text/x-python",
   "name": "python",
   "nbconvert_exporter": "python",
   "pygments_lexer": "ipython2",
   "version": "2.7.6"
  }
 },
 "nbformat": 4,
 "nbformat_minor": 0
}
