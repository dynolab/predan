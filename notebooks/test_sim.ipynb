{
 "cells": [
  {
   "cell_type": "code",
   "execution_count": 49,
   "metadata": {
    "collapsed": true,
    "ExecuteTime": {
     "end_time": "2024-02-02T15:52:31.408659200Z",
     "start_time": "2024-02-02T15:52:30.799150200Z"
    }
   },
   "outputs": [
    {
     "data": {
      "text/plain": "{'divide': 'ignore', 'over': 'warn', 'under': 'ignore', 'invalid': 'warn'}"
     },
     "execution_count": 49,
     "metadata": {},
     "output_type": "execute_result"
    }
   ],
   "source": [
    "import sys\n",
    "sys.path.append('../bin')\n",
    "from bin.functions import *\n",
    "# import pandas as pd\n",
    "# import numpy as np\n",
    "# import sklearn as sk\n",
    "# import statsmodels.api as sm\n",
    "import matplotlib.pyplot as plt\n",
    "# import datetime as dt\n",
    "# from statsmodels.iolib.table import SimpleTable\n",
    "# from sklearn.metrics import r2_score\n",
    "# import matplotlib\n",
    "# import random as rd\n",
    "# from sklearn import metrics\n",
    "# from sklearn.metrics import mean_squared_error, mean_absolute_percentage_error\n",
    "# import math\n",
    "# import itertools as it\n",
    "# import seaborn as sn\n",
    "# import scipy as sp\n",
    "#\n",
    "# import plotly\n",
    "# import plotly.graph_objs as go\n",
    "# import plotly.express as px\n",
    "# from plotly.subplots import make_subplots\n",
    "np.seterr(divide = 'ignore')"
   ]
  },
  {
   "cell_type": "code",
   "execution_count": 2,
   "outputs": [],
   "source": [
    "not_simmetry3 = []\n",
    "not_simmetry4 = []"
   ],
   "metadata": {
    "collapsed": false,
    "ExecuteTime": {
     "end_time": "2024-02-02T09:08:48.030725100Z",
     "start_time": "2024-02-02T09:08:47.987723300Z"
    }
   }
  },
  {
   "cell_type": "code",
   "execution_count": 3,
   "outputs": [
    {
     "name": "stdout",
     "output_type": "stream",
     "text": [
      "0\n"
     ]
    },
    {
     "name": "stderr",
     "output_type": "stream",
     "text": [
      "C:\\Users\\vitya\\AppData\\Roaming\\Python\\Python310\\site-packages\\statsmodels\\stats\\multitest.py:186: RuntimeWarning: divide by zero encountered in log1p\n",
      "  np.log1p(-pvals))\n",
      "C:\\Users\\vitya\\AppData\\Roaming\\Python\\Python310\\site-packages\\statsmodels\\stats\\multitest.py:186: RuntimeWarning: divide by zero encountered in log1p\n",
      "  np.log1p(-pvals))\n"
     ]
    },
    {
     "name": "stdout",
     "output_type": "stream",
     "text": [
      "(array([ True, False, False]), array([0.02800121, 0.92191375, 0.92191375]), 0.016952427508441503, 0.016666666666666666)\n"
     ]
    },
    {
     "name": "stderr",
     "output_type": "stream",
     "text": [
      "C:\\Users\\vitya\\AppData\\Roaming\\Python\\Python310\\site-packages\\statsmodels\\stats\\multitest.py:186: RuntimeWarning: divide by zero encountered in log1p\n",
      "  np.log1p(-pvals))\n"
     ]
    },
    {
     "name": "stdout",
     "output_type": "stream",
     "text": [
      "(array([ True, False, False]), array([0.04046517, 0.82977486, 0.82977486]), 0.016952427508441503, 0.016666666666666666)\n",
      "(array([ True, False, False]), array([0.00952535, 0.66724453, 0.66724453]), 0.016952427508441503, 0.016666666666666666)\n",
      "(array([ True, False, False, False, False, False, False, False, False,\n",
      "       False, False, False]), array([0.00480949, 0.99958163, 0.99958163, 0.99958163, 1.        ,\n",
      "       0.98765599, 0.99958163, 0.99618693, 1.        , 0.53394536,\n",
      "       0.99958163, 0.99958163]), 0.004265318777560645, 0.004166666666666667)\n"
     ]
    },
    {
     "name": "stderr",
     "output_type": "stream",
     "text": [
      "C:\\Users\\vitya\\AppData\\Roaming\\Python\\Python310\\site-packages\\statsmodels\\stats\\multitest.py:186: RuntimeWarning: divide by zero encountered in log1p\n",
      "  np.log1p(-pvals))\n",
      "C:\\Users\\vitya\\AppData\\Roaming\\Python\\Python310\\site-packages\\statsmodels\\stats\\multitest.py:186: RuntimeWarning: divide by zero encountered in log1p\n",
      "  np.log1p(-pvals))\n",
      "C:\\Users\\vitya\\AppData\\Roaming\\Python\\Python310\\site-packages\\statsmodels\\stats\\multitest.py:186: RuntimeWarning: divide by zero encountered in log1p\n",
      "  np.log1p(-pvals))\n"
     ]
    },
    {
     "name": "stdout",
     "output_type": "stream",
     "text": [
      "(array([ True, False, False, False, False, False, False, False, False,\n",
      "       False, False, False]), array([0.02477334, 0.96294422, 0.99051233, 0.99923605, 0.99923605,\n",
      "       0.99051233, 0.99923605, 0.99923605, 0.96117311, 0.99051233,\n",
      "       0.72439412, 0.99923605]), 0.004265318777560645, 0.004166666666666667)\n",
      "20\n"
     ]
    },
    {
     "name": "stderr",
     "output_type": "stream",
     "text": [
      "C:\\Users\\vitya\\AppData\\Roaming\\Python\\Python310\\site-packages\\statsmodels\\stats\\multitest.py:186: RuntimeWarning: divide by zero encountered in log1p\n",
      "  np.log1p(-pvals))\n"
     ]
    },
    {
     "name": "stdout",
     "output_type": "stream",
     "text": [
      "(array([ True, False, False]), array([7.59340656e-06, 8.27394453e-01, 8.27394453e-01]), 0.016952427508441503, 0.016666666666666666)\n",
      "(array([ True, False, False, False, False, False, False, False, False,\n",
      "       False, False, False]), array([5.44431312e-05, 9.95338336e-01, 9.42813240e-01, 9.95338336e-01,\n",
      "       9.95338336e-01, 9.95338336e-01, 9.86175096e-01, 9.86344502e-01,\n",
      "       9.95338336e-01, 2.62405753e-01, 6.72506541e-01, 5.60202660e-01]), 0.004265318777560645, 0.004166666666666667)\n",
      "(array([ True, False, False]), array([0.00402805, 0.98926341, 0.98926341]), 0.016952427508441503, 0.016666666666666666)\n",
      "(array([ True, False, False]), array([8.01953424e-06, 2.68914496e-01, 2.68914496e-01]), 0.016952427508441503, 0.016666666666666666)\n",
      "(array([ True, False, False, False, False, False, False, False, False,\n",
      "       False, False, False]), array([1.76799649e-05, 4.39870055e-01, 2.46434927e-01, 9.84519272e-01,\n",
      "       7.36440930e-01, 9.84519272e-01, 8.90394997e-01, 8.34542343e-01,\n",
      "       9.84848055e-01, 9.80110250e-01, 9.84848055e-01, 9.84519272e-01]), 0.004265318777560645, 0.004166666666666667)\n",
      "(array([ True, False, False]), array([0.00730683, 0.92262372, 0.92262372]), 0.016952427508441503, 0.016666666666666666)\n"
     ]
    },
    {
     "name": "stderr",
     "output_type": "stream",
     "text": [
      "C:\\Users\\vitya\\AppData\\Roaming\\Python\\Python310\\site-packages\\statsmodels\\stats\\multitest.py:186: RuntimeWarning: divide by zero encountered in log1p\n",
      "  np.log1p(-pvals))\n"
     ]
    },
    {
     "name": "stdout",
     "output_type": "stream",
     "text": [
      "(array([ True, False, False]), array([0.02670446, 0.7630692 , 0.7630692 ]), 0.016952427508441503, 0.016666666666666666)\n",
      "(array([False, False, False, False, False,  True, False, False, False,\n",
      "       False, False, False]), array([0.60283024, 0.95684333, 0.95827922, 0.95827922, 0.99645416,\n",
      "       0.00900383, 0.95684333, 0.2521784 , 0.99645416, 0.83835301,\n",
      "       0.95827922, 0.95684333]), 0.004265318777560645, 0.004166666666666667)\n"
     ]
    },
    {
     "name": "stderr",
     "output_type": "stream",
     "text": [
      "C:\\Users\\vitya\\AppData\\Roaming\\Python\\Python310\\site-packages\\statsmodels\\stats\\multitest.py:186: RuntimeWarning: divide by zero encountered in log1p\n",
      "  np.log1p(-pvals))\n"
     ]
    },
    {
     "name": "stdout",
     "output_type": "stream",
     "text": [
      "40\n"
     ]
    },
    {
     "name": "stderr",
     "output_type": "stream",
     "text": [
      "C:\\Users\\vitya\\AppData\\Roaming\\Python\\Python310\\site-packages\\statsmodels\\stats\\multitest.py:186: RuntimeWarning: divide by zero encountered in log1p\n",
      "  np.log1p(-pvals))\n"
     ]
    },
    {
     "name": "stdout",
     "output_type": "stream",
     "text": [
      "(array([ True, False, False]), array([2.30386914e-05, 7.93662394e-01, 7.93662394e-01]), 0.016952427508441503, 0.016666666666666666)\n",
      "(array([ True, False, False, False, False, False, False, False, False,\n",
      "       False, False, False]), array([1.54388918e-04, 8.55448063e-01, 4.48360920e-01, 9.68884331e-01,\n",
      "       9.23210731e-01, 9.23210731e-01, 9.23210731e-01, 9.23210731e-01,\n",
      "       9.68884331e-01, 9.23210731e-01, 8.55448063e-01, 9.23210731e-01]), 0.004265318777560645, 0.004166666666666667)\n"
     ]
    },
    {
     "name": "stderr",
     "output_type": "stream",
     "text": [
      "C:\\Users\\vitya\\AppData\\Roaming\\Python\\Python310\\site-packages\\statsmodels\\stats\\multitest.py:186: RuntimeWarning: divide by zero encountered in log1p\n",
      "  np.log1p(-pvals))\n"
     ]
    },
    {
     "name": "stdout",
     "output_type": "stream",
     "text": [
      "(array([ True, False, False]), array([0.00211917, 0.70743856, 0.70743856]), 0.016952427508441503, 0.016666666666666666)\n",
      "(array([ True, False, False, False, False, False, False, False, False,\n",
      "       False, False, False]), array([0.00409262, 0.92227306, 0.89652474, 0.99708366, 0.89652474,\n",
      "       0.997523  , 0.49247309, 0.93908977, 0.997523  , 0.997523  ,\n",
      "       0.997523  , 0.89652474]), 0.004265318777560645, 0.004166666666666667)\n"
     ]
    },
    {
     "name": "stderr",
     "output_type": "stream",
     "text": [
      "C:\\Users\\vitya\\AppData\\Roaming\\Python\\Python310\\site-packages\\statsmodels\\stats\\multitest.py:186: RuntimeWarning: divide by zero encountered in log1p\n",
      "  np.log1p(-pvals))\n"
     ]
    },
    {
     "name": "stdout",
     "output_type": "stream",
     "text": [
      "(array([ True, False, False]), array([0.00950782, 0.92343274, 0.92343274]), 0.016952427508441503, 0.016666666666666666)\n",
      "60\n"
     ]
    },
    {
     "name": "stderr",
     "output_type": "stream",
     "text": [
      "C:\\Users\\vitya\\AppData\\Roaming\\Python\\Python310\\site-packages\\statsmodels\\stats\\multitest.py:186: RuntimeWarning: divide by zero encountered in log1p\n",
      "  np.log1p(-pvals))\n",
      "C:\\Users\\vitya\\AppData\\Roaming\\Python\\Python310\\site-packages\\statsmodels\\stats\\multitest.py:186: RuntimeWarning: divide by zero encountered in log1p\n",
      "  np.log1p(-pvals))\n"
     ]
    },
    {
     "name": "stdout",
     "output_type": "stream",
     "text": [
      "(array([ True, False, False]), array([0.00165545, 0.7695038 , 0.7695038 ]), 0.016952427508441503, 0.016666666666666666)\n",
      "(array([ True, False, False, False, False, False, False, False, False,\n",
      "       False, False, False]), array([0.00378607, 0.98216722, 0.69410805, 0.98216722, 0.36189983,\n",
      "       0.58633143, 0.98216722, 0.58633143, 0.58633143, 0.98216722,\n",
      "       0.58633143, 0.98216722]), 0.004265318777560645, 0.004166666666666667)\n"
     ]
    },
    {
     "name": "stderr",
     "output_type": "stream",
     "text": [
      "C:\\Users\\vitya\\AppData\\Roaming\\Python\\Python310\\site-packages\\statsmodels\\stats\\multitest.py:186: RuntimeWarning: divide by zero encountered in log1p\n",
      "  np.log1p(-pvals))\n",
      "C:\\Users\\vitya\\AppData\\Roaming\\Python\\Python310\\site-packages\\statsmodels\\stats\\multitest.py:186: RuntimeWarning: divide by zero encountered in log1p\n",
      "  np.log1p(-pvals))\n"
     ]
    },
    {
     "name": "stdout",
     "output_type": "stream",
     "text": [
      "(array([False, False, False, False, False, False, False,  True, False,\n",
      "       False, False, False]), array([0.98971383, 0.98971383, 0.90171437, 0.8718179 , 0.98971383,\n",
      "       0.94162506, 0.98971383, 0.00998184, 0.98971383, 0.99715023,\n",
      "       1.        , 0.98971383]), 0.004265318777560645, 0.004166666666666667)\n",
      "(array([ True, False, False]), array([0.01698042, 0.5996518 , 0.5996518 ]), 0.016952427508441503, 0.016666666666666666)\n",
      "(array([False, False, False, False, False, False, False, False, False,\n",
      "        True, False, False]), array([0.92057769, 0.18101712, 0.92057769, 0.99569714, 0.54569962,\n",
      "       0.99569714, 0.96155571, 0.77999386, 0.92057769, 0.03085395,\n",
      "       0.99569714, 0.98589972]), 0.004265318777560645, 0.004166666666666667)\n",
      "(array([ True, False, False]), array([0.02300208, 0.9245539 , 0.9245539 ]), 0.016952427508441503, 0.016666666666666666)\n",
      "(array([ True, False, False]), array([0.00983765, 0.12057441, 0.12057441]), 0.016952427508441503, 0.016666666666666666)\n",
      "(array([ True, False, False, False, False, False, False, False, False,\n",
      "       False, False, False]), array([0.00791406, 0.97664919, 0.70941547, 0.99716935, 0.96394471,\n",
      "       0.96394471, 0.99716935, 0.70941547, 0.99716935, 0.70941547,\n",
      "       0.06774036, 0.99716935]), 0.004265318777560645, 0.004166666666666667)\n"
     ]
    },
    {
     "name": "stderr",
     "output_type": "stream",
     "text": [
      "C:\\Users\\vitya\\AppData\\Roaming\\Python\\Python310\\site-packages\\statsmodels\\stats\\multitest.py:186: RuntimeWarning: divide by zero encountered in log1p\n",
      "  np.log1p(-pvals))\n"
     ]
    },
    {
     "name": "stdout",
     "output_type": "stream",
     "text": [
      "80\n"
     ]
    },
    {
     "name": "stderr",
     "output_type": "stream",
     "text": [
      "C:\\Users\\vitya\\AppData\\Roaming\\Python\\Python310\\site-packages\\statsmodels\\stats\\multitest.py:186: RuntimeWarning: divide by zero encountered in log1p\n",
      "  np.log1p(-pvals))\n",
      "C:\\Users\\vitya\\AppData\\Roaming\\Python\\Python310\\site-packages\\statsmodels\\stats\\multitest.py:186: RuntimeWarning: divide by zero encountered in log1p\n",
      "  np.log1p(-pvals))\n"
     ]
    },
    {
     "name": "stdout",
     "output_type": "stream",
     "text": [
      "(array([ True, False, False]), array([0.02358937, 0.9373458 , 0.9373458 ]), 0.016952427508441503, 0.016666666666666666)\n",
      "(array([False, False, False, False, False, False, False,  True, False,\n",
      "       False, False, False]), array([0.14235765, 0.96578964, 0.99993172, 0.99993172, 0.99993172,\n",
      "       0.99993172, 0.9731655 , 0.0402465 , 0.99993172, 0.99993172,\n",
      "       0.99721623, 0.99993172]), 0.004265318777560645, 0.004166666666666667)\n"
     ]
    },
    {
     "name": "stderr",
     "output_type": "stream",
     "text": [
      "C:\\Users\\vitya\\AppData\\Roaming\\Python\\Python310\\site-packages\\statsmodels\\stats\\multitest.py:186: RuntimeWarning: divide by zero encountered in log1p\n",
      "  np.log1p(-pvals))\n"
     ]
    },
    {
     "name": "stdout",
     "output_type": "stream",
     "text": [
      "(array([ True, False, False]), array([0.03767744, 0.4690707 , 0.4690707 ]), 0.016952427508441503, 0.016666666666666666)\n"
     ]
    },
    {
     "name": "stderr",
     "output_type": "stream",
     "text": [
      "C:\\Users\\vitya\\AppData\\Roaming\\Python\\Python310\\site-packages\\statsmodels\\stats\\multitest.py:186: RuntimeWarning: divide by zero encountered in log1p\n",
      "  np.log1p(-pvals))\n",
      "C:\\Users\\vitya\\AppData\\Roaming\\Python\\Python310\\site-packages\\statsmodels\\stats\\multitest.py:186: RuntimeWarning: divide by zero encountered in log1p\n",
      "  np.log1p(-pvals))\n",
      "C:\\Users\\vitya\\AppData\\Roaming\\Python\\Python310\\site-packages\\statsmodels\\stats\\multitest.py:186: RuntimeWarning: divide by zero encountered in log1p\n",
      "  np.log1p(-pvals))\n"
     ]
    },
    {
     "name": "stdout",
     "output_type": "stream",
     "text": [
      "(array([ True, False, False]), array([0.00292453, 0.50591575, 0.50591575]), 0.016952427508441503, 0.016666666666666666)\n",
      "(array([ True, False, False, False, False, False, False, False, False,\n",
      "       False, False, False]), array([3.15840293e-05, 9.99998483e-01, 9.63842750e-01, 9.99998483e-01,\n",
      "       9.99998483e-01, 9.99998483e-01, 9.99998483e-01, 8.95371375e-01,\n",
      "       9.99949779e-01, 9.95627961e-01, 9.08362572e-01, 9.93167334e-01]), 0.004265318777560645, 0.004166666666666667)\n"
     ]
    }
   ],
   "source": [
    "for i in range(100):\n",
    "    if i%20 == 0:\n",
    "        print(i)\n",
    "    rw = random_walk(date_end=\"30/12/2023 00:00:00\")\n",
    "    ts_perm3 = count_permutation(rw, 3)\n",
    "    ts_perm4 = count_permutation(rw, 4)\n",
    "    cr3 = multiply_equals_test(ts_perm3)\n",
    "    if sum(cr3[0]) != 0:\n",
    "        print(cr3)\n",
    "        not_simmetry3.append([rw,ts_perm3])\n",
    "    cr4 = multiply_equals_test(ts_perm4)\n",
    "    if sum(cr4[0]) != 0:\n",
    "        print(cr4)\n",
    "        not_simmetry4.append([rw,ts_perm4])"
   ],
   "metadata": {
    "collapsed": false,
    "ExecuteTime": {
     "end_time": "2024-02-02T09:23:16.847259700Z",
     "start_time": "2024-02-02T09:08:49.555743500Z"
    }
   }
  },
  {
   "cell_type": "code",
   "execution_count": 4,
   "outputs": [
    {
     "data": {
      "text/plain": "0.18"
     },
     "execution_count": 4,
     "metadata": {},
     "output_type": "execute_result"
    }
   ],
   "source": [
    "len(not_simmetry3)/100"
   ],
   "metadata": {
    "collapsed": false,
    "ExecuteTime": {
     "end_time": "2024-02-02T09:57:10.579417300Z",
     "start_time": "2024-02-02T09:57:10.528340600Z"
    }
   }
  },
  {
   "cell_type": "code",
   "execution_count": 5,
   "outputs": [
    {
     "data": {
      "text/plain": "0.13"
     },
     "execution_count": 5,
     "metadata": {},
     "output_type": "execute_result"
    }
   ],
   "source": [
    "len(not_simmetry4)/100"
   ],
   "metadata": {
    "collapsed": false,
    "ExecuteTime": {
     "end_time": "2024-02-02T09:57:19.949446500Z",
     "start_time": "2024-02-02T09:57:19.851887100Z"
    }
   }
  },
  {
   "cell_type": "code",
   "execution_count": 9,
   "outputs": [],
   "source": [
    "simmetry3 = []\n",
    "simmetry4 = []"
   ],
   "metadata": {
    "collapsed": false,
    "ExecuteTime": {
     "end_time": "2024-02-02T10:09:33.473272Z",
     "start_time": "2024-02-02T10:09:33.442383700Z"
    }
   }
  },
  {
   "cell_type": "code",
   "execution_count": 11,
   "outputs": [
    {
     "name": "stdout",
     "output_type": "stream",
     "text": [
      "0\n",
      "20\n",
      "40\n",
      "60\n",
      "80\n"
     ]
    }
   ],
   "source": [
    "for i in range(100):\n",
    "    if i%20 == 0:\n",
    "        print(i)\n",
    "    ts = generate_ts(date_end=\"30/12/2023 00:00:00\")\n",
    "    ts_perm3 = count_permutation(ts, 3)\n",
    "    ts_perm4 = count_permutation(ts, 4)\n",
    "    cr3 = multiply_equals_test(ts_perm3)\n",
    "    if sum(cr3[0]) == 0:\n",
    "        print(cr3)\n",
    "        simmetry3.append([ts,ts_perm3])\n",
    "    cr4 = multiply_equals_test(ts_perm4)\n",
    "    if sum(cr4[0]) == 0:\n",
    "        print(cr4)\n",
    "        simmetry4.append([ts,ts_perm4])"
   ],
   "metadata": {
    "collapsed": false,
    "ExecuteTime": {
     "end_time": "2024-02-02T10:32:36.945812700Z",
     "start_time": "2024-02-02T10:13:17.475765Z"
    }
   }
  },
  {
   "cell_type": "code",
   "execution_count": 12,
   "outputs": [
    {
     "data": {
      "text/plain": "0.14"
     },
     "execution_count": 12,
     "metadata": {},
     "output_type": "execute_result"
    }
   ],
   "source": [
    "len(simmetry3)/100"
   ],
   "metadata": {
    "collapsed": false,
    "ExecuteTime": {
     "end_time": "2024-02-02T10:32:36.973887900Z",
     "start_time": "2024-02-02T10:32:36.947338300Z"
    }
   }
  },
  {
   "cell_type": "code",
   "execution_count": 13,
   "outputs": [
    {
     "data": {
      "text/plain": "0.14"
     },
     "execution_count": 13,
     "metadata": {},
     "output_type": "execute_result"
    }
   ],
   "source": [
    "len(simmetry4)/100"
   ],
   "metadata": {
    "collapsed": false,
    "ExecuteTime": {
     "end_time": "2024-02-02T10:32:36.991424200Z",
     "start_time": "2024-02-02T10:32:36.973887900Z"
    }
   }
  },
  {
   "cell_type": "code",
   "execution_count": 32,
   "outputs": [],
   "source": [
    "not_simmetry3_hs = []\n",
    "not_simmetry3_hb = []\n",
    "not_simmetry3_sh = []\n",
    "not_simmetry3_hommel = []"
   ],
   "metadata": {
    "collapsed": false,
    "ExecuteTime": {
     "end_time": "2024-02-02T11:44:18.849799100Z",
     "start_time": "2024-02-02T11:44:18.841051900Z"
    }
   }
  },
  {
   "cell_type": "code",
   "execution_count": 33,
   "outputs": [],
   "source": [
    "simmetry3_hs = []\n",
    "simmetry3_hb = []\n",
    "simmetry3_sh = []\n",
    "simmetry3_hommel = []"
   ],
   "metadata": {
    "collapsed": false,
    "ExecuteTime": {
     "end_time": "2024-02-02T11:44:19.129007400Z",
     "start_time": "2024-02-02T11:44:19.106400800Z"
    }
   }
  },
  {
   "cell_type": "code",
   "execution_count": 34,
   "outputs": [
    {
     "name": "stdout",
     "output_type": "stream",
     "text": [
      "0\n",
      "10\n",
      "20\n",
      "30\n",
      "40\n",
      "50\n",
      "60\n",
      "70\n",
      "80\n",
      "90\n"
     ]
    }
   ],
   "source": [
    "for i in range(100):\n",
    "    if i%10 == 0:\n",
    "        print(i)\n",
    "    ts = generate_ts(date_end=\"30/10/2023 00:00:00\")\n",
    "    ts_perm3 = count_permutation(ts, 3)\n",
    "    cr = multiply_equals_test(ts_perm3)\n",
    "    if sum(cr[0]) == 0:\n",
    "        simmetry3_hs.append([ts,ts_perm3])\n",
    "    cr_hb = multiply_equals_test(ts_perm3, method=\"holm\")\n",
    "    if sum(cr_hb[0]) == 0:\n",
    "        simmetry3_hb.append([ts,ts_perm3])\n",
    "    cr_sh = multiply_equals_test(ts_perm3, method=\"simes-hochberg\")\n",
    "    if sum(cr_sh[0]) == 0:\n",
    "        simmetry3_sh.append([ts,ts_perm3])\n",
    "    cr_hommel = multiply_equals_test(ts_perm3, method=\"hommel\")\n",
    "    if sum(cr_hommel[0]) == 0:\n",
    "        simmetry3_hommel.append([ts,ts_perm3])\n",
    "    rw = random_walk(date_end=\"30/10/2023 00:00:00\")\n",
    "    ts_perm3 = count_permutation(rw, 3)\n",
    "    cr = multiply_equals_test(ts_perm3)\n",
    "    if sum(cr[0]) != 0:\n",
    "        not_simmetry3_hs.append([ts,ts_perm3])\n",
    "    cr_hb = multiply_equals_test(ts_perm3, method=\"holm\")\n",
    "    if sum(cr_hb[0]) != 0:\n",
    "        not_simmetry3_hb.append([ts,ts_perm3])\n",
    "    cr_sh = multiply_equals_test(ts_perm3, method=\"simes-hochberg\")\n",
    "    if sum(cr_sh[0]) != 0:\n",
    "        not_simmetry3_sh.append([ts,ts_perm3])\n",
    "    cr_hommel = multiply_equals_test(ts_perm3, method=\"hommel\")\n",
    "    if sum(cr_hommel[0]) != 0:\n",
    "        not_simmetry3_hommel.append([ts,ts_perm3])"
   ],
   "metadata": {
    "collapsed": false,
    "ExecuteTime": {
     "end_time": "2024-02-02T11:52:55.749650100Z",
     "start_time": "2024-02-02T11:44:20.041460500Z"
    }
   }
  },
  {
   "cell_type": "code",
   "execution_count": 40,
   "outputs": [
    {
     "name": "stdout",
     "output_type": "stream",
     "text": [
      "Holm-Sidak: FNR: 0.09; FPR: 0.0\n",
      "Holm-Benferonni: FNR: 0.08; FPR: 0.0\n",
      "Simes-Hochberg: FNR: 0.08; FPR: 0.0\n",
      "Hommel: FNR: 0.08; FPR: 0.0\n"
     ]
    }
   ],
   "source": [
    "print(f\"Holm-Sidak: FNR: {len(not_simmetry3_hs)/100}; FPR: {len(simmetry3_hs)/100}\")\n",
    "print(f\"Holm-Benferonni: FNR: {len(not_simmetry3_hb)/100}; FPR: {len(simmetry3_hb)/100}\")\n",
    "print(f\"Simes-Hochberg: FNR: {len(not_simmetry3_sh)/100}; FPR: {len(simmetry3_sh)/100}\")\n",
    "print(f\"Hommel: FNR: {len(not_simmetry3_hommel)/100}; FPR: {len(simmetry3_hommel)/100}\")"
   ],
   "metadata": {
    "collapsed": false,
    "ExecuteTime": {
     "end_time": "2024-02-02T12:29:36.830358200Z",
     "start_time": "2024-02-02T12:29:36.813630100Z"
    }
   }
  },
  {
   "cell_type": "code",
   "execution_count": 36,
   "outputs": [],
   "source": [
    "not_simmetry4_hs = []\n",
    "not_simmetry4_hb = []\n",
    "not_simmetry4_sh = []\n",
    "not_simmetry4_hommel = []"
   ],
   "metadata": {
    "collapsed": false,
    "ExecuteTime": {
     "end_time": "2024-02-02T11:52:55.821461300Z",
     "start_time": "2024-02-02T11:52:55.767210300Z"
    }
   }
  },
  {
   "cell_type": "code",
   "execution_count": 37,
   "outputs": [],
   "source": [
    "simmetry4_hs = []\n",
    "simmetry4_hb = []\n",
    "simmetry4_sh = []\n",
    "simmetry4_hommel = []"
   ],
   "metadata": {
    "collapsed": false,
    "ExecuteTime": {
     "end_time": "2024-02-02T11:52:55.829670600Z",
     "start_time": "2024-02-02T11:52:55.781667800Z"
    }
   }
  },
  {
   "cell_type": "code",
   "execution_count": 38,
   "outputs": [
    {
     "name": "stdout",
     "output_type": "stream",
     "text": [
      "0\n",
      "10\n",
      "20\n",
      "30\n",
      "40\n",
      "50\n",
      "60\n",
      "70\n",
      "80\n",
      "90\n"
     ]
    }
   ],
   "source": [
    "for i in range(100):\n",
    "    if i%10 == 0:\n",
    "        print(i)\n",
    "    ts = generate_ts(date_end=\"30/10/2023 00:00:00\")\n",
    "    ts_perm4 = count_permutation(ts, 4)\n",
    "    cr = multiply_equals_test(ts_perm4)\n",
    "    if sum(cr[0]) == 0:\n",
    "        simmetry4_hs.append([ts,ts_perm4])\n",
    "    cr_hb = multiply_equals_test(ts_perm4, method=\"holm\")\n",
    "    if sum(cr_hb[0]) == 0:\n",
    "        simmetry4_hb.append([ts,ts_perm4])\n",
    "    cr_sh = multiply_equals_test(ts_perm4, method=\"simes-hochberg\")\n",
    "    if sum(cr_sh[0]) == 0:\n",
    "        simmetry4_sh.append([ts,ts_perm4])\n",
    "    cr_hommel = multiply_equals_test(ts_perm4, method=\"hommel\")\n",
    "    if sum(cr_hommel[0]) == 0:\n",
    "        simmetry4_hommel.append([ts,ts_perm4])\n",
    "    rw = random_walk(date_end=\"30/10/2023 00:00:00\")\n",
    "    ts_perm4 = count_permutation(rw, 4)\n",
    "    cr = multiply_equals_test(ts_perm4)\n",
    "    if sum(cr[0]) != 0:\n",
    "        not_simmetry4_hs.append([ts,ts_perm4])\n",
    "    cr_hb = multiply_equals_test(ts_perm4, method=\"holm\")\n",
    "    if sum(cr_hb[0]) != 0:\n",
    "        not_simmetry4_hb.append([ts,ts_perm4])\n",
    "    cr_sh = multiply_equals_test(ts_perm4, method=\"simes-hochberg\")\n",
    "    if sum(cr_sh[0]) != 0:\n",
    "        not_simmetry4_sh.append([ts,ts_perm4])\n",
    "    cr_hommel = multiply_equals_test(ts_perm4, method=\"hommel\")\n",
    "    if sum(cr_hommel[0]) != 0:\n",
    "        not_simmetry4_hommel.append([ts,ts_perm4])"
   ],
   "metadata": {
    "collapsed": false,
    "ExecuteTime": {
     "end_time": "2024-02-02T12:03:19.159562100Z",
     "start_time": "2024-02-02T11:52:55.798864600Z"
    }
   }
  },
  {
   "cell_type": "code",
   "execution_count": 42,
   "outputs": [
    {
     "name": "stdout",
     "output_type": "stream",
     "text": [
      "Holm-Sidak: FNR: 0.12; FPR: 0.0\n",
      "Holm-Benferonni: FNR: 0.12; FPR: 0.0\n",
      "Simes-Hochberg: FNR: 0.12; FPR: 0.0\n",
      "Hommel: FNR: 0.12; FPR: 0.0\n"
     ]
    }
   ],
   "source": [
    "print(f\"Holm-Sidak: FNR: {len(not_simmetry4_hs)/100}; FPR: {len(simmetry4_hs)/100}\")\n",
    "print(f\"Holm-Benferonni: FNR: {len(not_simmetry4_hb)/100}; FPR: {len(simmetry4_hb)/100}\")\n",
    "print(f\"Simes-Hochberg: FNR: {len(not_simmetry4_sh)/100}; FPR: {len(simmetry4_sh)/100}\")\n",
    "print(f\"Hommel: FNR: {len(not_simmetry4_hommel)/100}; FPR: {len(simmetry4_hommel)/100}\")"
   ],
   "metadata": {
    "collapsed": false,
    "ExecuteTime": {
     "end_time": "2024-02-02T12:30:14.024808Z",
     "start_time": "2024-02-02T12:30:14.003377200Z"
    }
   }
  },
  {
   "cell_type": "code",
   "execution_count": 45,
   "outputs": [],
   "source": [
    "result_hs = []\n",
    "result_hb = []\n",
    "result_sh = []\n",
    "result_hommel = []"
   ],
   "metadata": {
    "collapsed": false,
    "ExecuteTime": {
     "end_time": "2024-02-02T14:55:29.100240200Z",
     "start_time": "2024-02-02T14:55:29.084286Z"
    }
   }
  },
  {
   "cell_type": "code",
   "execution_count": 54,
   "outputs": [
    {
     "name": "stdout",
     "output_type": "stream",
     "text": [
      "0 0.09\n",
      "50 0.09\n",
      "0 0.14\n",
      "50 0.14\n",
      "0 0.19\n",
      "50 0.19\n",
      "0 0.24\n",
      "50 0.24\n",
      "0 0.29\n",
      "50 0.29\n",
      "0 0.34\n"
     ]
    },
    {
     "ename": "KeyboardInterrupt",
     "evalue": "",
     "output_type": "error",
     "traceback": [
      "\u001B[1;31m---------------------------------------------------------------------------\u001B[0m",
      "\u001B[1;31mKeyboardInterrupt\u001B[0m                         Traceback (most recent call last)",
      "Cell \u001B[1;32mIn[54], line 15\u001B[0m\n\u001B[0;32m     12\u001B[0m         fp[method]\u001B[38;5;241m+\u001B[39m\u001B[38;5;241m=\u001B[39m\u001B[38;5;241m1\u001B[39m\n\u001B[0;32m     14\u001B[0m rw \u001B[38;5;241m=\u001B[39m random_walk(date_end\u001B[38;5;241m=\u001B[39m\u001B[38;5;124m\"\u001B[39m\u001B[38;5;124m30/09/2023 00:00:00\u001B[39m\u001B[38;5;124m\"\u001B[39m)\n\u001B[1;32m---> 15\u001B[0m ts_perm3 \u001B[38;5;241m=\u001B[39m \u001B[43mcount_permutation\u001B[49m\u001B[43m(\u001B[49m\u001B[43mrw\u001B[49m\u001B[43m,\u001B[49m\u001B[43m \u001B[49m\u001B[38;5;241;43m3\u001B[39;49m\u001B[43m)\u001B[49m\n\u001B[0;32m     16\u001B[0m \u001B[38;5;28;01mfor\u001B[39;00m method \u001B[38;5;129;01min\u001B[39;00m [\u001B[38;5;124m\"\u001B[39m\u001B[38;5;124mholm-sidak\u001B[39m\u001B[38;5;124m\"\u001B[39m, \u001B[38;5;124m'\u001B[39m\u001B[38;5;124mholm\u001B[39m\u001B[38;5;124m'\u001B[39m,\u001B[38;5;124m\"\u001B[39m\u001B[38;5;124msimes-hochberg\u001B[39m\u001B[38;5;124m\"\u001B[39m,\u001B[38;5;124m\"\u001B[39m\u001B[38;5;124mhommel\u001B[39m\u001B[38;5;124m\"\u001B[39m]:\n\u001B[0;32m     17\u001B[0m     cr \u001B[38;5;241m=\u001B[39m multiply_equals_test(ts_perm3, alpha\u001B[38;5;241m=\u001B[39malpha, method\u001B[38;5;241m=\u001B[39mmethod)\n",
      "File \u001B[1;32m~\\Analis\\predan\\bin\\functions.py:77\u001B[0m, in \u001B[0;36mcount_permutation\u001B[1;34m(ts, window)\u001B[0m\n\u001B[0;32m     75\u001B[0m count_p \u001B[38;5;241m=\u001B[39m [\u001B[38;5;241m0\u001B[39m] \u001B[38;5;241m*\u001B[39m \u001B[38;5;28mlen\u001B[39m(permutation_list)\n\u001B[0;32m     76\u001B[0m \u001B[38;5;28;01mfor\u001B[39;00m i \u001B[38;5;129;01min\u001B[39;00m \u001B[38;5;28mrange\u001B[39m(ts\u001B[38;5;241m.\u001B[39msize \u001B[38;5;241m-\u001B[39m window \u001B[38;5;241m+\u001B[39m \u001B[38;5;241m1\u001B[39m):\n\u001B[1;32m---> 77\u001B[0m     slice_df \u001B[38;5;241m=\u001B[39m \u001B[43mts\u001B[49m\u001B[38;5;241;43m.\u001B[39;49m\u001B[43mcopy\u001B[49m\u001B[43m(\u001B[49m\u001B[43m)\u001B[49m\u001B[38;5;241m.\u001B[39miloc[i:i \u001B[38;5;241m+\u001B[39m window]\n\u001B[0;32m     78\u001B[0m     sort_slice \u001B[38;5;241m=\u001B[39m slice_df\u001B[38;5;241m.\u001B[39mcopy()\u001B[38;5;241m.\u001B[39msort_values()\n\u001B[0;32m     79\u001B[0m     \u001B[38;5;28;01mfor\u001B[39;00m j \u001B[38;5;129;01min\u001B[39;00m \u001B[38;5;28mrange\u001B[39m(window):\n",
      "File \u001B[1;32mC:\\Program Files\\Python310\\lib\\site-packages\\pandas\\core\\generic.py:6368\u001B[0m, in \u001B[0;36mNDFrame.copy\u001B[1;34m(self, deep)\u001B[0m\n\u001B[0;32m   6258\u001B[0m \u001B[38;5;129m@final\u001B[39m\n\u001B[0;32m   6259\u001B[0m \u001B[38;5;28;01mdef\u001B[39;00m \u001B[38;5;21mcopy\u001B[39m(\u001B[38;5;28mself\u001B[39m: NDFrameT, deep: bool_t \u001B[38;5;241m|\u001B[39m \u001B[38;5;28;01mNone\u001B[39;00m \u001B[38;5;241m=\u001B[39m \u001B[38;5;28;01mTrue\u001B[39;00m) \u001B[38;5;241m-\u001B[39m\u001B[38;5;241m>\u001B[39m NDFrameT:\n\u001B[0;32m   6260\u001B[0m \u001B[38;5;250m    \u001B[39m\u001B[38;5;124;03m\"\"\"\u001B[39;00m\n\u001B[0;32m   6261\u001B[0m \u001B[38;5;124;03m    Make a copy of this object's indices and data.\u001B[39;00m\n\u001B[0;32m   6262\u001B[0m \n\u001B[1;32m   (...)\u001B[0m\n\u001B[0;32m   6366\u001B[0m \u001B[38;5;124;03m    dtype: object\u001B[39;00m\n\u001B[0;32m   6367\u001B[0m \u001B[38;5;124;03m    \"\"\"\u001B[39;00m\n\u001B[1;32m-> 6368\u001B[0m     data \u001B[38;5;241m=\u001B[39m \u001B[38;5;28;43mself\u001B[39;49m\u001B[38;5;241;43m.\u001B[39;49m\u001B[43m_mgr\u001B[49m\u001B[38;5;241;43m.\u001B[39;49m\u001B[43mcopy\u001B[49m\u001B[43m(\u001B[49m\u001B[43mdeep\u001B[49m\u001B[38;5;241;43m=\u001B[39;49m\u001B[43mdeep\u001B[49m\u001B[43m)\u001B[49m\n\u001B[0;32m   6369\u001B[0m     \u001B[38;5;28mself\u001B[39m\u001B[38;5;241m.\u001B[39m_clear_item_cache()\n\u001B[0;32m   6370\u001B[0m     \u001B[38;5;28;01mreturn\u001B[39;00m \u001B[38;5;28mself\u001B[39m\u001B[38;5;241m.\u001B[39m_constructor(data)\u001B[38;5;241m.\u001B[39m__finalize__(\u001B[38;5;28mself\u001B[39m, method\u001B[38;5;241m=\u001B[39m\u001B[38;5;124m\"\u001B[39m\u001B[38;5;124mcopy\u001B[39m\u001B[38;5;124m\"\u001B[39m)\n",
      "File \u001B[1;32mC:\\Program Files\\Python310\\lib\\site-packages\\pandas\\core\\internals\\managers.py:651\u001B[0m, in \u001B[0;36mBaseBlockManager.copy\u001B[1;34m(self, deep)\u001B[0m\n\u001B[0;32m    648\u001B[0m \u001B[38;5;28;01melse\u001B[39;00m:\n\u001B[0;32m    649\u001B[0m     new_axes \u001B[38;5;241m=\u001B[39m \u001B[38;5;28mlist\u001B[39m(\u001B[38;5;28mself\u001B[39m\u001B[38;5;241m.\u001B[39maxes)\n\u001B[1;32m--> 651\u001B[0m res \u001B[38;5;241m=\u001B[39m \u001B[38;5;28;43mself\u001B[39;49m\u001B[38;5;241;43m.\u001B[39;49m\u001B[43mapply\u001B[49m\u001B[43m(\u001B[49m\u001B[38;5;124;43m\"\u001B[39;49m\u001B[38;5;124;43mcopy\u001B[39;49m\u001B[38;5;124;43m\"\u001B[39;49m\u001B[43m,\u001B[49m\u001B[43m \u001B[49m\u001B[43mdeep\u001B[49m\u001B[38;5;241;43m=\u001B[39;49m\u001B[43mdeep\u001B[49m\u001B[43m)\u001B[49m\n\u001B[0;32m    652\u001B[0m new_refs: \u001B[38;5;28mlist\u001B[39m[weakref\u001B[38;5;241m.\u001B[39mref \u001B[38;5;241m|\u001B[39m \u001B[38;5;28;01mNone\u001B[39;00m] \u001B[38;5;241m|\u001B[39m \u001B[38;5;28;01mNone\u001B[39;00m\n\u001B[0;32m    653\u001B[0m \u001B[38;5;28;01mif\u001B[39;00m deep:\n",
      "File \u001B[1;32mC:\\Program Files\\Python310\\lib\\site-packages\\pandas\\core\\internals\\managers.py:352\u001B[0m, in \u001B[0;36mBaseBlockManager.apply\u001B[1;34m(self, f, align_keys, ignore_failures, **kwargs)\u001B[0m\n\u001B[0;32m    350\u001B[0m         applied \u001B[38;5;241m=\u001B[39m b\u001B[38;5;241m.\u001B[39mapply(f, \u001B[38;5;241m*\u001B[39m\u001B[38;5;241m*\u001B[39mkwargs)\n\u001B[0;32m    351\u001B[0m     \u001B[38;5;28;01melse\u001B[39;00m:\n\u001B[1;32m--> 352\u001B[0m         applied \u001B[38;5;241m=\u001B[39m \u001B[38;5;28mgetattr\u001B[39m(b, f)(\u001B[38;5;241m*\u001B[39m\u001B[38;5;241m*\u001B[39mkwargs)\n\u001B[0;32m    353\u001B[0m \u001B[38;5;28;01mexcept\u001B[39;00m (\u001B[38;5;167;01mTypeError\u001B[39;00m, \u001B[38;5;167;01mNotImplementedError\u001B[39;00m):\n\u001B[0;32m    354\u001B[0m     \u001B[38;5;28;01mif\u001B[39;00m \u001B[38;5;129;01mnot\u001B[39;00m ignore_failures:\n",
      "File \u001B[1;32mC:\\Program Files\\Python310\\lib\\site-packages\\pandas\\core\\internals\\blocks.py:549\u001B[0m, in \u001B[0;36mBlock.copy\u001B[1;34m(self, deep)\u001B[0m\n\u001B[0;32m    547\u001B[0m values \u001B[38;5;241m=\u001B[39m \u001B[38;5;28mself\u001B[39m\u001B[38;5;241m.\u001B[39mvalues\n\u001B[0;32m    548\u001B[0m \u001B[38;5;28;01mif\u001B[39;00m deep:\n\u001B[1;32m--> 549\u001B[0m     values \u001B[38;5;241m=\u001B[39m \u001B[43mvalues\u001B[49m\u001B[38;5;241;43m.\u001B[39;49m\u001B[43mcopy\u001B[49m\u001B[43m(\u001B[49m\u001B[43m)\u001B[49m\n\u001B[0;32m    550\u001B[0m \u001B[38;5;28;01mreturn\u001B[39;00m \u001B[38;5;28mtype\u001B[39m(\u001B[38;5;28mself\u001B[39m)(values, placement\u001B[38;5;241m=\u001B[39m\u001B[38;5;28mself\u001B[39m\u001B[38;5;241m.\u001B[39m_mgr_locs, ndim\u001B[38;5;241m=\u001B[39m\u001B[38;5;28mself\u001B[39m\u001B[38;5;241m.\u001B[39mndim)\n",
      "\u001B[1;31mKeyboardInterrupt\u001B[0m: "
     ]
    }
   ],
   "source": [
    "for alpha in [0.01*k for k in range(9, 100, 5)]:\n",
    "        fp = {\"holm-sidak\":0,'holm':0,\"simes-hochberg\":0,\"hommel\":0}\n",
    "        fn = {\"holm-sidak\":0,'holm':0,\"simes-hochberg\":0,\"hommel\":0}\n",
    "        for i in range(100):\n",
    "            if i%50 == 0:\n",
    "                print(i, alpha)\n",
    "            ts = generate_ts(date_end=\"30/09/2023 00:00:00\")\n",
    "            ts_perm3 = count_permutation(ts, 3)\n",
    "            for method in [\"holm-sidak\", 'holm',\"simes-hochberg\",\"hommel\"]:\n",
    "                cr = multiply_equals_test(ts_perm3, alpha=alpha, method=method)\n",
    "                if sum(cr[0]) == 0:\n",
    "                    fp[method]+=1\n",
    "\n",
    "            rw = random_walk(date_end=\"30/09/2023 00:00:00\")\n",
    "            ts_perm3 = count_permutation(rw, 3)\n",
    "            for method in [\"holm-sidak\", 'holm',\"simes-hochberg\",\"hommel\"]:\n",
    "                cr = multiply_equals_test(ts_perm3, alpha=alpha, method=method)\n",
    "                if sum(cr[0]) != 0:\n",
    "                    fn[method]+=1\n",
    "        result_hs.append([alpha, fp[\"holm-sidak\"], fn[\"holm-sidak\"]])\n",
    "        result_hb.append([alpha, fp[\"holm\"], fn[\"holm\"]])\n",
    "        result_sh.append([alpha, fp[\"simes-hochberg\"], fn[\"simes-hochberg\"]])\n",
    "        result_hommel.append([alpha, fp[\"hommel\"], fn[\"hommel\"]])\n"
   ],
   "metadata": {
    "collapsed": false,
    "ExecuteTime": {
     "end_time": "2024-02-02T16:44:20.460371800Z",
     "start_time": "2024-02-02T16:08:25.993956200Z"
    }
   }
  },
  {
   "cell_type": "code",
   "execution_count": 59,
   "outputs": [
    {
     "data": {
      "text/plain": "[[0.01, 0, 7],\n [0.02, 0, 11],\n [0.03, 0, 6],\n [0.04, 0, 16],\n [0.05, 0, 14],\n [0.06, 0, 16],\n [0.07, 0, 18],\n [0.08, 0, 19],\n [0.09, 0, 23],\n [0.14, 0, 27],\n [0.19, 0, 31],\n [0.24, 0, 33],\n [0.29, 0, 30]]"
     },
     "execution_count": 59,
     "metadata": {},
     "output_type": "execute_result"
    }
   ],
   "source": [
    "result_hommel"
   ],
   "metadata": {
    "collapsed": false,
    "ExecuteTime": {
     "end_time": "2024-02-02T16:44:44.571873200Z",
     "start_time": "2024-02-02T16:44:44.540615400Z"
    }
   }
  },
  {
   "cell_type": "code",
   "execution_count": 60,
   "outputs": [
    {
     "data": {
      "text/plain": "[[0.01, 0, 7],\n [0.02, 0, 11],\n [0.03, 0, 6],\n [0.04, 0, 16],\n [0.05, 0, 14],\n [0.06, 0, 16],\n [0.07, 0, 18],\n [0.08, 0, 18],\n [0.09, 0, 23],\n [0.14, 0, 24],\n [0.19, 0, 31],\n [0.24, 0, 33],\n [0.29, 0, 30]]"
     },
     "execution_count": 60,
     "metadata": {},
     "output_type": "execute_result"
    }
   ],
   "source": [
    "result_sh"
   ],
   "metadata": {
    "collapsed": false,
    "ExecuteTime": {
     "end_time": "2024-02-02T16:44:55.637802800Z",
     "start_time": "2024-02-02T16:44:55.574911900Z"
    }
   }
  },
  {
   "cell_type": "code",
   "execution_count": 61,
   "outputs": [
    {
     "data": {
      "text/plain": "[[0.01, 0, 7],\n [0.02, 0, 11],\n [0.03, 0, 6],\n [0.04, 0, 16],\n [0.05, 0, 15],\n [0.06, 0, 16],\n [0.07, 0, 17],\n [0.08, 0, 18],\n [0.09, 0, 22],\n [0.14, 0, 21],\n [0.19, 0, 31],\n [0.24, 0, 32],\n [0.29, 0, 25]]"
     },
     "execution_count": 61,
     "metadata": {},
     "output_type": "execute_result"
    }
   ],
   "source": [
    "result_hs"
   ],
   "metadata": {
    "collapsed": false,
    "ExecuteTime": {
     "end_time": "2024-02-02T16:45:11.729254600Z",
     "start_time": "2024-02-02T16:45:11.682320200Z"
    }
   }
  },
  {
   "cell_type": "code",
   "execution_count": 62,
   "outputs": [
    {
     "data": {
      "text/plain": "[[0.01, 0, 7],\n [0.02, 0, 11],\n [0.03, 0, 6],\n [0.04, 0, 16],\n [0.05, 0, 14],\n [0.06, 0, 16],\n [0.07, 0, 16],\n [0.08, 0, 17],\n [0.09, 0, 22],\n [0.14, 0, 21],\n [0.19, 0, 29],\n [0.24, 0, 30],\n [0.29, 0, 22]]"
     },
     "execution_count": 62,
     "metadata": {},
     "output_type": "execute_result"
    }
   ],
   "source": [
    "result_hb"
   ],
   "metadata": {
    "collapsed": false,
    "ExecuteTime": {
     "end_time": "2024-02-02T16:45:39.031831400Z",
     "start_time": "2024-02-02T16:45:39.000581900Z"
    }
   }
  },
  {
   "cell_type": "code",
   "execution_count": 67,
   "outputs": [
    {
     "name": "stdout",
     "output_type": "stream",
     "text": [
      "0\n",
      "50\n",
      "100\n",
      "150\n",
      "200\n",
      "250\n"
     ]
    }
   ],
   "source": [
    "sim4_hb = []\n",
    "not_sim4_hb = []\n",
    "for i in range(300):\n",
    "    if i%50 == 0:\n",
    "        print(i)\n",
    "    ts = generate_ts(date_end=\"30/10/2023 00:00:00\")\n",
    "    ts_perm4 = count_permutation(ts, 4)\n",
    "    cr_hb = multiply_equals_test(ts_perm4, method=\"holm\", alpha=0.03)\n",
    "    if sum(cr_hb[0]) == 0:\n",
    "        sim4_hb.append([ts,ts_perm4])\n",
    "    rw = random_walk(date_end=\"30/10/2023 00:00:00\")\n",
    "    ts_perm4 = count_permutation(rw, 4)\n",
    "    cr_hb = multiply_equals_test(ts_perm4, method=\"holm\", alpha=0.03)\n",
    "    if sum(cr_hb[0]) != 0:\n",
    "        not_sim4_hb.append([ts,ts_perm4])"
   ],
   "metadata": {
    "collapsed": false,
    "ExecuteTime": {
     "end_time": "2024-02-02T18:29:21.901969100Z",
     "start_time": "2024-02-02T17:57:17.190305900Z"
    }
   }
  },
  {
   "cell_type": "code",
   "execution_count": 68,
   "outputs": [
    {
     "name": "stdout",
     "output_type": "stream",
     "text": [
      "Holm-Bonferoni: FNR: 0.07666666666666666; FPR: 0.0\n"
     ]
    }
   ],
   "source": [
    "print(f\"Holm-Bonferoni: FNR: {len(not_sim4_hb)/300}; FPR: {len(sim4_hb)/300}\")"
   ],
   "metadata": {
    "collapsed": false,
    "ExecuteTime": {
     "end_time": "2024-02-02T18:29:21.916688600Z",
     "start_time": "2024-02-02T18:29:21.903982900Z"
    }
   }
  },
  {
   "cell_type": "code",
   "execution_count": 69,
   "outputs": [],
   "source": [
    "dates = [\"30/07/2023 00:00:00\", \"30/08/2023 00:00:00\", \"30/09/2023 00:00:00\", \"30/10/2023 00:00:00\", \"30/11/2023 00:00:00\", \"30/12/2023 00:00:00\", \"30/01/2024 00:00:00\", \"30/06/2024 00:00:00\", \"30/06/2025 00:00:00\"]\n",
    "result_hs_date = []\n",
    "result_hb_date = []\n",
    "result_sh_date = []\n",
    "result_hommel_date = []"
   ],
   "metadata": {
    "collapsed": false,
    "ExecuteTime": {
     "end_time": "2024-02-02T18:29:21.958927800Z",
     "start_time": "2024-02-02T18:29:21.919934600Z"
    }
   }
  },
  {
   "cell_type": "code",
   "execution_count": 70,
   "outputs": [
    {
     "name": "stdout",
     "output_type": "stream",
     "text": [
      "0 30/07/2023 00:00:00\n",
      "50 30/07/2023 00:00:00\n",
      "0 30/08/2023 00:00:00\n",
      "50 30/08/2023 00:00:00\n",
      "0 30/09/2023 00:00:00\n",
      "50 30/09/2023 00:00:00\n",
      "0 30/10/2023 00:00:00\n",
      "50 30/10/2023 00:00:00\n",
      "0 30/11/2023 00:00:00\n",
      "50 30/11/2023 00:00:00\n",
      "0 30/12/2023 00:00:00\n",
      "50 30/12/2023 00:00:00\n",
      "0 30/01/2024 00:00:00\n",
      "50 30/01/2024 00:00:00\n",
      "0 30/02/2024 00:00:00\n"
     ]
    },
    {
     "ename": "ValueError",
     "evalue": "could not convert string to Timestamp",
     "output_type": "error",
     "traceback": [
      "\u001B[1;31m---------------------------------------------------------------------------\u001B[0m",
      "\u001B[1;31mValueError\u001B[0m                                Traceback (most recent call last)",
      "File \u001B[1;32mC:\\Program Files\\Python310\\lib\\site-packages\\dateutil\\parser\\_parser.py:649\u001B[0m, in \u001B[0;36mparser.parse\u001B[1;34m(self, timestr, default, ignoretz, tzinfos, **kwargs)\u001B[0m\n\u001B[0;32m    648\u001B[0m \u001B[38;5;28;01mtry\u001B[39;00m:\n\u001B[1;32m--> 649\u001B[0m     ret \u001B[38;5;241m=\u001B[39m \u001B[38;5;28;43mself\u001B[39;49m\u001B[38;5;241;43m.\u001B[39;49m\u001B[43m_build_naive\u001B[49m\u001B[43m(\u001B[49m\u001B[43mres\u001B[49m\u001B[43m,\u001B[49m\u001B[43m \u001B[49m\u001B[43mdefault\u001B[49m\u001B[43m)\u001B[49m\n\u001B[0;32m    650\u001B[0m \u001B[38;5;28;01mexcept\u001B[39;00m \u001B[38;5;167;01mValueError\u001B[39;00m \u001B[38;5;28;01mas\u001B[39;00m e:\n",
      "File \u001B[1;32mC:\\Program Files\\Python310\\lib\\site-packages\\dateutil\\parser\\_parser.py:1235\u001B[0m, in \u001B[0;36mparser._build_naive\u001B[1;34m(self, res, default)\u001B[0m\n\u001B[0;32m   1233\u001B[0m         repl[\u001B[38;5;124m'\u001B[39m\u001B[38;5;124mday\u001B[39m\u001B[38;5;124m'\u001B[39m] \u001B[38;5;241m=\u001B[39m monthrange(cyear, cmonth)[\u001B[38;5;241m1\u001B[39m]\n\u001B[1;32m-> 1235\u001B[0m naive \u001B[38;5;241m=\u001B[39m default\u001B[38;5;241m.\u001B[39mreplace(\u001B[38;5;241m*\u001B[39m\u001B[38;5;241m*\u001B[39mrepl)\n\u001B[0;32m   1237\u001B[0m \u001B[38;5;28;01mif\u001B[39;00m res\u001B[38;5;241m.\u001B[39mweekday \u001B[38;5;129;01mis\u001B[39;00m \u001B[38;5;129;01mnot\u001B[39;00m \u001B[38;5;28;01mNone\u001B[39;00m \u001B[38;5;129;01mand\u001B[39;00m \u001B[38;5;129;01mnot\u001B[39;00m res\u001B[38;5;241m.\u001B[39mday:\n",
      "\u001B[1;31mValueError\u001B[0m: day is out of range for month",
      "\nThe above exception was the direct cause of the following exception:\n",
      "\u001B[1;31mParserError\u001B[0m                               Traceback (most recent call last)",
      "File \u001B[1;32mC:\\Program Files\\Python310\\lib\\site-packages\\pandas\\_libs\\tslibs\\conversion.pyx:530\u001B[0m, in \u001B[0;36mpandas._libs.tslibs.conversion._convert_str_to_tsobject\u001B[1;34m()\u001B[0m\n",
      "File \u001B[1;32mC:\\Program Files\\Python310\\lib\\site-packages\\pandas\\_libs\\tslibs\\parsing.pyx:320\u001B[0m, in \u001B[0;36mpandas._libs.tslibs.parsing.parse_datetime_string\u001B[1;34m()\u001B[0m\n",
      "File \u001B[1;32mC:\\Program Files\\Python310\\lib\\site-packages\\dateutil\\parser\\_parser.py:1368\u001B[0m, in \u001B[0;36mparse\u001B[1;34m(timestr, parserinfo, **kwargs)\u001B[0m\n\u001B[0;32m   1367\u001B[0m \u001B[38;5;28;01melse\u001B[39;00m:\n\u001B[1;32m-> 1368\u001B[0m     \u001B[38;5;28;01mreturn\u001B[39;00m DEFAULTPARSER\u001B[38;5;241m.\u001B[39mparse(timestr, \u001B[38;5;241m*\u001B[39m\u001B[38;5;241m*\u001B[39mkwargs)\n",
      "File \u001B[1;32mC:\\Program Files\\Python310\\lib\\site-packages\\dateutil\\parser\\_parser.py:651\u001B[0m, in \u001B[0;36mparser.parse\u001B[1;34m(self, timestr, default, ignoretz, tzinfos, **kwargs)\u001B[0m\n\u001B[0;32m    650\u001B[0m \u001B[38;5;28;01mexcept\u001B[39;00m \u001B[38;5;167;01mValueError\u001B[39;00m \u001B[38;5;28;01mas\u001B[39;00m e:\n\u001B[1;32m--> 651\u001B[0m     \u001B[43msix\u001B[49m\u001B[38;5;241;43m.\u001B[39;49m\u001B[43mraise_from\u001B[49m\u001B[43m(\u001B[49m\u001B[43mParserError\u001B[49m\u001B[43m(\u001B[49m\u001B[38;5;28;43mstr\u001B[39;49m\u001B[43m(\u001B[49m\u001B[43me\u001B[49m\u001B[43m)\u001B[49m\u001B[43m \u001B[49m\u001B[38;5;241;43m+\u001B[39;49m\u001B[43m \u001B[49m\u001B[38;5;124;43m\"\u001B[39;49m\u001B[38;5;124;43m: \u001B[39;49m\u001B[38;5;132;43;01m%s\u001B[39;49;00m\u001B[38;5;124;43m\"\u001B[39;49m\u001B[43m,\u001B[49m\u001B[43m \u001B[49m\u001B[43mtimestr\u001B[49m\u001B[43m)\u001B[49m\u001B[43m,\u001B[49m\u001B[43m \u001B[49m\u001B[43me\u001B[49m\u001B[43m)\u001B[49m\n\u001B[0;32m    653\u001B[0m \u001B[38;5;28;01mif\u001B[39;00m \u001B[38;5;129;01mnot\u001B[39;00m ignoretz:\n",
      "File \u001B[1;32m<string>:3\u001B[0m, in \u001B[0;36mraise_from\u001B[1;34m(value, from_value)\u001B[0m\n",
      "\u001B[1;31mParserError\u001B[0m: day is out of range for month: 30/02/2024 00:00:00",
      "\nDuring handling of the above exception, another exception occurred:\n",
      "\u001B[1;31mValueError\u001B[0m                                Traceback (most recent call last)",
      "Cell \u001B[1;32mIn[70], line 7\u001B[0m\n\u001B[0;32m      5\u001B[0m \u001B[38;5;28;01mif\u001B[39;00m i\u001B[38;5;241m%\u001B[39m\u001B[38;5;241m50\u001B[39m \u001B[38;5;241m==\u001B[39m \u001B[38;5;241m0\u001B[39m:\n\u001B[0;32m      6\u001B[0m     \u001B[38;5;28mprint\u001B[39m(i, date)\n\u001B[1;32m----> 7\u001B[0m ts \u001B[38;5;241m=\u001B[39m \u001B[43mgenerate_ts\u001B[49m\u001B[43m(\u001B[49m\u001B[43mdate_end\u001B[49m\u001B[38;5;241;43m=\u001B[39;49m\u001B[43mdate\u001B[49m\u001B[43m)\u001B[49m\n\u001B[0;32m      8\u001B[0m ts_perm3 \u001B[38;5;241m=\u001B[39m count_permutation(ts, \u001B[38;5;241m3\u001B[39m)\n\u001B[0;32m      9\u001B[0m \u001B[38;5;28;01mfor\u001B[39;00m method \u001B[38;5;129;01min\u001B[39;00m [\u001B[38;5;124m\"\u001B[39m\u001B[38;5;124mholm-sidak\u001B[39m\u001B[38;5;124m\"\u001B[39m, \u001B[38;5;124m'\u001B[39m\u001B[38;5;124mholm\u001B[39m\u001B[38;5;124m'\u001B[39m,\u001B[38;5;124m\"\u001B[39m\u001B[38;5;124msimes-hochberg\u001B[39m\u001B[38;5;124m\"\u001B[39m,\u001B[38;5;124m\"\u001B[39m\u001B[38;5;124mhommel\u001B[39m\u001B[38;5;124m\"\u001B[39m]:\n",
      "File \u001B[1;32m~\\Analis\\predan\\bin\\functions.py:24\u001B[0m, in \u001B[0;36mgenerate_ts\u001B[1;34m(date_start, date_end, alpha, beta, max_kf, trend, season)\u001B[0m\n\u001B[0;32m      9\u001B[0m \u001B[38;5;28;01mdef\u001B[39;00m \u001B[38;5;21mgenerate_ts\u001B[39m(date_start: \u001B[38;5;28mstr\u001B[39m \u001B[38;5;241m=\u001B[39m \u001B[38;5;124m\"\u001B[39m\u001B[38;5;124m29/06/2023 00:00:00\u001B[39m\u001B[38;5;124m\"\u001B[39m, date_end: \u001B[38;5;28mstr\u001B[39m \u001B[38;5;241m=\u001B[39m \u001B[38;5;124m\"\u001B[39m\u001B[38;5;124m30/07/2023 00:00:00\u001B[39m\u001B[38;5;124m\"\u001B[39m, alpha: \u001B[38;5;28mfloat\u001B[39m \u001B[38;5;241m=\u001B[39m \u001B[38;5;241m0.6\u001B[39m,\n\u001B[0;32m     10\u001B[0m                 beta: \u001B[38;5;28mfloat\u001B[39m \u001B[38;5;241m=\u001B[39m \u001B[38;5;241m0.4\u001B[39m, max_kf: \u001B[38;5;28mfloat\u001B[39m \u001B[38;5;241m=\u001B[39m \u001B[38;5;241m5\u001B[39m, trend: \u001B[38;5;28mfloat\u001B[39m \u001B[38;5;241m=\u001B[39m \u001B[38;5;241m4\u001B[39m, season: \u001B[38;5;28mfloat\u001B[39m \u001B[38;5;241m=\u001B[39m \u001B[38;5;241m0\u001B[39m):\n\u001B[0;32m     11\u001B[0m \u001B[38;5;250m    \u001B[39m\u001B[38;5;124;03m\"\"\"\u001B[39;00m\n\u001B[0;32m     12\u001B[0m \u001B[38;5;124;03m    Generate time series with autocorrelation, trend and seasons dependency.\u001B[39;00m\n\u001B[0;32m     13\u001B[0m \u001B[38;5;124;03m    Parameters:\u001B[39;00m\n\u001B[1;32m   (...)\u001B[0m\n\u001B[0;32m     22\u001B[0m \u001B[38;5;124;03m        time_series(np.Series): generated time series\u001B[39;00m\n\u001B[0;32m     23\u001B[0m \u001B[38;5;124;03m    \"\"\"\u001B[39;00m\n\u001B[1;32m---> 24\u001B[0m     time_series \u001B[38;5;241m=\u001B[39m \u001B[43mpd\u001B[49m\u001B[38;5;241;43m.\u001B[39;49m\u001B[43mdate_range\u001B[49m\u001B[43m(\u001B[49m\u001B[43mstart\u001B[49m\u001B[38;5;241;43m=\u001B[39;49m\u001B[43mdate_start\u001B[49m\u001B[43m,\u001B[49m\u001B[43m \u001B[49m\u001B[43mend\u001B[49m\u001B[38;5;241;43m=\u001B[39;49m\u001B[43mdate_end\u001B[49m\u001B[43m,\u001B[49m\u001B[43m \u001B[49m\u001B[43mfreq\u001B[49m\u001B[38;5;241;43m=\u001B[39;49m\u001B[38;5;124;43m'\u001B[39;49m\u001B[38;5;124;43mH\u001B[39;49m\u001B[38;5;124;43m'\u001B[39;49m\u001B[43m)\u001B[49m\u001B[38;5;241m.\u001B[39mto_series()\n\u001B[0;32m     25\u001B[0m     time_series\u001B[38;5;241m.\u001B[39mindex \u001B[38;5;241m=\u001B[39m time_series\n\u001B[0;32m     26\u001B[0m     time_series[\u001B[38;5;241m0\u001B[39m] \u001B[38;5;241m=\u001B[39m \u001B[38;5;241m5000.0\u001B[39m\n",
      "File \u001B[1;32mC:\\Program Files\\Python310\\lib\\site-packages\\pandas\\core\\indexes\\datetimes.py:1125\u001B[0m, in \u001B[0;36mdate_range\u001B[1;34m(start, end, periods, freq, tz, normalize, name, closed, inclusive, **kwargs)\u001B[0m\n\u001B[0;32m   1122\u001B[0m \u001B[38;5;28;01mif\u001B[39;00m freq \u001B[38;5;129;01mis\u001B[39;00m \u001B[38;5;28;01mNone\u001B[39;00m \u001B[38;5;129;01mand\u001B[39;00m com\u001B[38;5;241m.\u001B[39many_none(periods, start, end):\n\u001B[0;32m   1123\u001B[0m     freq \u001B[38;5;241m=\u001B[39m \u001B[38;5;124m\"\u001B[39m\u001B[38;5;124mD\u001B[39m\u001B[38;5;124m\"\u001B[39m\n\u001B[1;32m-> 1125\u001B[0m dtarr \u001B[38;5;241m=\u001B[39m DatetimeArray\u001B[38;5;241m.\u001B[39m_generate_range(\n\u001B[0;32m   1126\u001B[0m     start\u001B[38;5;241m=\u001B[39mstart,\n\u001B[0;32m   1127\u001B[0m     end\u001B[38;5;241m=\u001B[39mend,\n\u001B[0;32m   1128\u001B[0m     periods\u001B[38;5;241m=\u001B[39mperiods,\n\u001B[0;32m   1129\u001B[0m     freq\u001B[38;5;241m=\u001B[39mfreq,\n\u001B[0;32m   1130\u001B[0m     tz\u001B[38;5;241m=\u001B[39mtz,\n\u001B[0;32m   1131\u001B[0m     normalize\u001B[38;5;241m=\u001B[39mnormalize,\n\u001B[0;32m   1132\u001B[0m     inclusive\u001B[38;5;241m=\u001B[39minclusive,\n\u001B[0;32m   1133\u001B[0m     \u001B[38;5;241m*\u001B[39m\u001B[38;5;241m*\u001B[39mkwargs,\n\u001B[0;32m   1134\u001B[0m )\n\u001B[0;32m   1135\u001B[0m \u001B[38;5;28;01mreturn\u001B[39;00m DatetimeIndex\u001B[38;5;241m.\u001B[39m_simple_new(dtarr, name\u001B[38;5;241m=\u001B[39mname)\n",
      "File \u001B[1;32mC:\\Program Files\\Python310\\lib\\site-packages\\pandas\\core\\arrays\\datetimes.py:364\u001B[0m, in \u001B[0;36mDatetimeArray._generate_range\u001B[1;34m(cls, start, end, periods, freq, tz, normalize, ambiguous, nonexistent, inclusive)\u001B[0m\n\u001B[0;32m    361\u001B[0m     start \u001B[38;5;241m=\u001B[39m Timestamp(start)\n\u001B[0;32m    363\u001B[0m \u001B[38;5;28;01mif\u001B[39;00m end \u001B[38;5;129;01mis\u001B[39;00m \u001B[38;5;129;01mnot\u001B[39;00m \u001B[38;5;28;01mNone\u001B[39;00m:\n\u001B[1;32m--> 364\u001B[0m     end \u001B[38;5;241m=\u001B[39m \u001B[43mTimestamp\u001B[49m\u001B[43m(\u001B[49m\u001B[43mend\u001B[49m\u001B[43m)\u001B[49m\n\u001B[0;32m    366\u001B[0m \u001B[38;5;28;01mif\u001B[39;00m start \u001B[38;5;129;01mis\u001B[39;00m NaT \u001B[38;5;129;01mor\u001B[39;00m end \u001B[38;5;129;01mis\u001B[39;00m NaT:\n\u001B[0;32m    367\u001B[0m     \u001B[38;5;28;01mraise\u001B[39;00m \u001B[38;5;167;01mValueError\u001B[39;00m(\u001B[38;5;124m\"\u001B[39m\u001B[38;5;124mNeither `start` nor `end` can be NaT\u001B[39m\u001B[38;5;124m\"\u001B[39m)\n",
      "File \u001B[1;32mC:\\Program Files\\Python310\\lib\\site-packages\\pandas\\_libs\\tslibs\\timestamps.pyx:1698\u001B[0m, in \u001B[0;36mpandas._libs.tslibs.timestamps.Timestamp.__new__\u001B[1;34m()\u001B[0m\n",
      "File \u001B[1;32mC:\\Program Files\\Python310\\lib\\site-packages\\pandas\\_libs\\tslibs\\conversion.pyx:249\u001B[0m, in \u001B[0;36mpandas._libs.tslibs.conversion.convert_to_tsobject\u001B[1;34m()\u001B[0m\n",
      "File \u001B[1;32mC:\\Program Files\\Python310\\lib\\site-packages\\pandas\\_libs\\tslibs\\conversion.pyx:533\u001B[0m, in \u001B[0;36mpandas._libs.tslibs.conversion._convert_str_to_tsobject\u001B[1;34m()\u001B[0m\n",
      "\u001B[1;31mValueError\u001B[0m: could not convert string to Timestamp"
     ]
    }
   ],
   "source": [
    "for date in dates:\n",
    "        fp = {\"holm-sidak\":0,'holm':0,\"simes-hochberg\":0,\"hommel\":0}\n",
    "        fn = {\"holm-sidak\":0,'holm':0,\"simes-hochberg\":0,\"hommel\":0}\n",
    "        for i in range(100):\n",
    "            if i%50 == 0:\n",
    "                print(i, date)\n",
    "            ts = generate_ts(date_end=date)\n",
    "            ts_perm3 = count_permutation(ts, 3)\n",
    "            for method in [\"holm-sidak\", 'holm',\"simes-hochberg\",\"hommel\"]:\n",
    "                cr = multiply_equals_test(ts_perm3, alpha=0.03, method=method)\n",
    "                if sum(cr[0]) == 0:\n",
    "                    fp[method]+=1\n",
    "\n",
    "            rw = random_walk(date_end=date)\n",
    "            ts_perm3 = count_permutation(rw, 3)\n",
    "            for method in [\"holm-sidak\", 'holm',\"simes-hochberg\",\"hommel\"]:\n",
    "                cr = multiply_equals_test(ts_perm3, alpha=0.03, method=method)\n",
    "                if sum(cr[0]) != 0:\n",
    "                    fn[method]+=1\n",
    "        result_hs_date.append([date, fp[\"holm-sidak\"], fn[\"holm-sidak\"]])\n",
    "        result_hb_date.append([date, fp[\"holm\"], fn[\"holm\"]])\n",
    "        result_sh_date.append([date, fp[\"simes-hochberg\"], fn[\"simes-hochberg\"]])\n",
    "        result_hommel_date.append([date, fp[\"hommel\"], fn[\"hommel\"]])"
   ],
   "metadata": {
    "collapsed": false,
    "ExecuteTime": {
     "end_time": "2024-02-02T19:37:07.063686500Z",
     "start_time": "2024-02-02T18:29:21.937075500Z"
    }
   }
  },
  {
   "cell_type": "code",
   "execution_count": 71,
   "outputs": [
    {
     "data": {
      "text/plain": "[['30/07/2023 00:00:00', 0, 12],\n ['30/08/2023 00:00:00', 0, 15],\n ['30/09/2023 00:00:00', 0, 17],\n ['30/10/2023 00:00:00', 0, 15],\n ['30/11/2023 00:00:00', 0, 11],\n ['30/12/2023 00:00:00', 0, 12],\n ['30/01/2024 00:00:00', 0, 9]]"
     },
     "execution_count": 71,
     "metadata": {},
     "output_type": "execute_result"
    }
   ],
   "source": [
    "result_hs_date"
   ],
   "metadata": {
    "collapsed": false,
    "ExecuteTime": {
     "end_time": "2024-02-02T19:48:33.250897700Z",
     "start_time": "2024-02-02T19:48:33.219598900Z"
    }
   }
  },
  {
   "cell_type": "code",
   "execution_count": 72,
   "outputs": [
    {
     "data": {
      "text/plain": "[['30/07/2023 00:00:00', 0, 12],\n ['30/08/2023 00:00:00', 0, 15],\n ['30/09/2023 00:00:00', 0, 17],\n ['30/10/2023 00:00:00', 0, 15],\n ['30/11/2023 00:00:00', 0, 11],\n ['30/12/2023 00:00:00', 0, 12],\n ['30/01/2024 00:00:00', 0, 9]]"
     },
     "execution_count": 72,
     "metadata": {},
     "output_type": "execute_result"
    }
   ],
   "source": [
    "result_hb_date"
   ],
   "metadata": {
    "collapsed": false,
    "ExecuteTime": {
     "end_time": "2024-02-02T19:48:33.440997500Z",
     "start_time": "2024-02-02T19:48:33.409699100Z"
    }
   }
  },
  {
   "cell_type": "code",
   "execution_count": 73,
   "outputs": [
    {
     "data": {
      "text/plain": "[['30/07/2023 00:00:00', 0, 12],\n ['30/08/2023 00:00:00', 0, 15],\n ['30/09/2023 00:00:00', 0, 17],\n ['30/10/2023 00:00:00', 0, 15],\n ['30/11/2023 00:00:00', 0, 12],\n ['30/12/2023 00:00:00', 0, 13],\n ['30/01/2024 00:00:00', 0, 9]]"
     },
     "execution_count": 73,
     "metadata": {},
     "output_type": "execute_result"
    }
   ],
   "source": [
    "result_sh_date"
   ],
   "metadata": {
    "collapsed": false,
    "ExecuteTime": {
     "end_time": "2024-02-02T19:48:33.629682400Z",
     "start_time": "2024-02-02T19:48:33.598400400Z"
    }
   }
  },
  {
   "cell_type": "code",
   "execution_count": 74,
   "outputs": [
    {
     "data": {
      "text/plain": "[['30/07/2023 00:00:00', 0, 12],\n ['30/08/2023 00:00:00', 0, 15],\n ['30/09/2023 00:00:00', 0, 18],\n ['30/10/2023 00:00:00', 0, 15],\n ['30/11/2023 00:00:00', 0, 12],\n ['30/12/2023 00:00:00', 0, 13],\n ['30/01/2024 00:00:00', 0, 9]]"
     },
     "execution_count": 74,
     "metadata": {},
     "output_type": "execute_result"
    }
   ],
   "source": [
    "result_hommel_date"
   ],
   "metadata": {
    "collapsed": false,
    "ExecuteTime": {
     "end_time": "2024-02-02T19:48:33.810572400Z",
     "start_time": "2024-02-02T19:48:33.794407700Z"
    }
   }
  },
  {
   "cell_type": "code",
   "execution_count": null,
   "outputs": [],
   "source": [],
   "metadata": {
    "collapsed": false
   }
  }
 ],
 "metadata": {
  "kernelspec": {
   "display_name": "Python 3",
   "language": "python",
   "name": "python3"
  },
  "language_info": {
   "codemirror_mode": {
    "name": "ipython",
    "version": 2
   },
   "file_extension": ".py",
   "mimetype": "text/x-python",
   "name": "python",
   "nbconvert_exporter": "python",
   "pygments_lexer": "ipython2",
   "version": "2.7.6"
  }
 },
 "nbformat": 4,
 "nbformat_minor": 0
}
