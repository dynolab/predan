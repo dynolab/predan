{
 "cells": [
  {
   "cell_type": "code",
   "execution_count": 27,
   "id": "ba56a043",
   "metadata": {},
   "outputs": [],
   "source": [
    "import pandas as pd\n",
    "import numpy as np\n",
    "import sklearn as sk\n",
    "import statsmodels.api as sm\n",
    "import matplotlib.pyplot as plt\n",
    "import datetime as dt\n",
    "from statsmodels.iolib.table import SimpleTable\n",
    "from sklearn.metrics import r2_score\n",
    "import matplotlib\n",
    "import random as rd\n",
    "from sklearn import metrics\n",
    "from sklearn.metrics import mean_squared_error, mean_absolute_percentage_error\n",
    "import math\n",
    "import itertools as it\n",
    "import seaborn as sn\n",
    "\n",
    "import plotly\n",
    "import plotly.graph_objs as go\n",
    "import plotly.express as px\n",
    "from plotly.subplots import make_subplots"
   ]
  },
  {
   "cell_type": "code",
   "execution_count": 28,
   "id": "725d1bcc",
   "metadata": {},
   "outputs": [],
   "source": [
    "def count_permutationlist(df, d):\n",
    "    r = list(range(d))\n",
    "    perm = list(it.permutations(r))\n",
    "    count_p = [0]*len(perm)\n",
    "    for i in range(len(df)-d+1):\n",
    "        slice_df = df[i:i+d]\n",
    "        sort_slice = sorted(slice_df)\n",
    "        for j in range(d):\n",
    "            slice_df[slice_df.index(sort_slice[j])] = j\n",
    "        count_p[perm.index(tuple(slice_df))] += 1\n",
    "    return count_p\n",
    "def count_permutation(df, d):\n",
    "    r = list(range(d))\n",
    "    perm = list(it.permutations(r))\n",
    "    count_p = [0]*len(perm)\n",
    "    for i in range(df.size-d+1):\n",
    "        slice_df = df.copy().iloc[i:i+d]\n",
    "        sort_slice = slice_df.copy().sort_values()\n",
    "        for j in range(d):\n",
    "            slice_df[slice_df[slice_df == sort_slice.iloc[j]].first_valid_index()] =  j\n",
    "        count_p[perm.index(tuple(slice_df.tolist()))] += 1\n",
    "    return count_p\n",
    "def entropy(perm:list):\n",
    "    allperm = sum(perm)\n",
    "    ent = 0\n",
    "    for i in range(len(perm)):\n",
    "        probability = perm[i]/allperm\n",
    "        if probability !=0:\n",
    "            ent -= probability * math.log2(probability)\n",
    "    return ent"
   ]
  },
  {
   "cell_type": "code",
   "execution_count": 29,
   "id": "940f1b73",
   "metadata": {},
   "outputs": [],
   "source": [
    "def fun(X, alp: float, beta: float, max_kf: float, trend: float, season: float):\n",
    "    j = 2\n",
    "    k = 2\n",
    "    for i in X[2:]:\n",
    "        X[i] = (alp * X[i-dt.timedelta(1/24)] + beta * X[i-dt.timedelta(2/24)]) + rd.uniform(-max_kf, max_kf) + trend * j\n",
    "        if k%(7*24)==0:\n",
    "            X[i]+=season\n",
    "        if k%(7*24)==1:\n",
    "            X[i]-=season\n",
    "        k+=1\n",
    "    return X"
   ]
  },
  {
   "cell_type": "code",
   "execution_count": 30,
   "id": "053ba674",
   "metadata": {},
   "outputs": [],
   "source": [
    "def walds_martingale(X, sigma, tetta):\n",
    "    s = np.random.normal(0, np.sqrt(sigma), X.shape[0])  \n",
    "    z=np.cumsum(s)\n",
    "    for i in range(len(z)):\n",
    "        z[i] = np.exp(tetta * z[i] - 0.5 * tetta**2 *i)\n",
    "    X.values = z\n",
    "    return X\n",
    "def random_walk(X, noise):\n",
    "    X[0] = 0\n",
    "    X[1] = X.index[1]\n",
    "    for i in X[1:]:\n",
    "        X[i] = X[i-dt.timedelta(1/24)] + np.random.normal(0, noise)\n",
    "    return X\n",
    "def uf_random_walk(X, noise):\n",
    "    X[0] = 0\n",
    "    X[1] = X.index[1]\n",
    "    for i in X[1:]:\n",
    "        X[i] = X[i-dt.timedelta(1/24)] + np.random.uniform(-noise, noise)\n",
    "    return X\n",
    "def radical_random_walk(X, noise):\n",
    "    X[0] = 0\n",
    "    X[1] = X.index[1]\n",
    "    for i in X[1:]:\n",
    "        X[i] = X[i-dt.timedelta(1/24)] + rd.choice([-noise, noise])\n",
    "    return X"
   ]
  },
  {
   "cell_type": "markdown",
   "id": "d8696cfd",
   "metadata": {},
   "source": [
    "Задача: проверить функцию count_permutation на правильное исполнение. Почему такие результаты на случайном блуждании?"
   ]
  },
  {
   "cell_type": "code",
   "execution_count": 31,
   "id": "b4a94f3f",
   "metadata": {},
   "outputs": [],
   "source": [
    "datelist = pd.date_range(start='29/06/2023 00:00:00', end='29/07/2023', freq='H').to_series()\n",
    "datelist.index = datelist\n",
    "datelist['29/06/2023 00:00:00'] = 5000.0\n",
    "datelist['29/06/2023 01:00:00'] = 5015.0"
   ]
  },
  {
   "cell_type": "code",
   "execution_count": 32,
   "id": "ee7b2df5",
   "metadata": {},
   "outputs": [],
   "source": [
    "datelist = pd.date_range(start='29/06/2023 00:00:00', end='30/06/2023', freq='H').to_series()\n",
    "datelist.index = datelist\n",
    "datelist['29/06/2023 00:00:00'] = 5000.0\n",
    "datelist['29/06/2023 01:00:00'] = 5015.0"
   ]
  },
  {
   "cell_type": "code",
   "execution_count": 10,
   "id": "352973a5",
   "metadata": {},
   "outputs": [],
   "source": [
    "rw = random_walk(datelist.copy(),5)"
   ]
  },
  {
   "cell_type": "code",
   "execution_count": 11,
   "id": "a853747e",
   "metadata": {},
   "outputs": [
    {
     "data": {
      "text/plain": [
       "<AxesSubplot:>"
      ]
     },
     "execution_count": 11,
     "metadata": {},
     "output_type": "execute_result"
    },
    {
     "data": {
      "image/png": "[encoded data removed]",
      "text/plain": [
       "<Figure size 432x288 with 1 Axes>"
      ]
     },
     "metadata": {
      "needs_background": "light"
     },
     "output_type": "display_data"
    }
   ],
   "source": [
    "rw.plot()"
   ]
  },
  {
   "cell_type": "code",
   "execution_count": 12,
   "id": "a572904e",
   "metadata": {},
   "outputs": [
    {
     "data": {
      "text/plain": [
       "2023-06-29 00:00:00            0\n",
       "2023-06-29 01:00:00     8.857806\n",
       "2023-06-29 02:00:00     8.620619\n",
       "2023-06-29 03:00:00     9.155728\n",
       "2023-06-29 04:00:00    11.128344\n",
       "2023-06-29 05:00:00     2.683478\n",
       "2023-06-29 06:00:00    -1.882531\n",
       "2023-06-29 07:00:00    11.055087\n",
       "2023-06-29 08:00:00    12.747127\n",
       "2023-06-29 09:00:00    17.461275\n",
       "2023-06-29 10:00:00    16.413609\n",
       "2023-06-29 11:00:00     23.05827\n",
       "2023-06-29 12:00:00    24.882574\n",
       "2023-06-29 13:00:00    14.578538\n",
       "2023-06-29 14:00:00    13.229257\n",
       "2023-06-29 15:00:00     8.566301\n",
       "2023-06-29 16:00:00    11.254366\n",
       "2023-06-29 17:00:00      2.43878\n",
       "2023-06-29 18:00:00     0.000175\n",
       "2023-06-29 19:00:00    -0.761469\n",
       "2023-06-29 20:00:00     2.298423\n",
       "2023-06-29 21:00:00     5.690011\n",
       "2023-06-29 22:00:00     5.261197\n",
       "2023-06-29 23:00:00     3.864988\n",
       "2023-06-30 00:00:00     6.739014\n",
       "dtype: object"
      ]
     },
     "execution_count": 12,
     "metadata": {},
     "output_type": "execute_result"
    }
   ],
   "source": [
    "rw"
   ]
  },
  {
   "cell_type": "code",
   "execution_count": 13,
   "id": "42d3d9d7",
   "metadata": {},
   "outputs": [
    {
     "data": {
      "text/plain": [
       "[12, 12]"
      ]
     },
     "execution_count": 13,
     "metadata": {},
     "output_type": "execute_result"
    }
   ],
   "source": [
    "count_permutation(rw.copy(), 2)"
   ]
  },
  {
   "cell_type": "markdown",
   "id": "12a5309e",
   "metadata": {},
   "source": [
    "Верно"
   ]
  },
  {
   "cell_type": "code",
   "execution_count": 14,
   "id": "e599b2da",
   "metadata": {},
   "outputs": [
    {
     "data": {
      "text/plain": [
       "[5, 3, 5, 3, 1, 6]"
      ]
     },
     "execution_count": 14,
     "metadata": {},
     "output_type": "execute_result"
    }
   ],
   "source": [
    "count_permutation(rw.copy(), 3)"
   ]
  },
  {
   "cell_type": "code",
   "execution_count": 16,
   "id": "e9583e9d",
   "metadata": {},
   "outputs": [
    {
     "data": {
      "text/plain": [
       "[(0, 1, 2), (0, 2, 1), (1, 0, 2), (1, 2, 0), (2, 0, 1), (2, 1, 0)]"
      ]
     },
     "execution_count": 16,
     "metadata": {},
     "output_type": "execute_result"
    }
   ],
   "source": [
    "list(it.permutations(range(3)))"
   ]
  },
  {
   "cell_type": "code",
   "execution_count": 18,
   "id": "15eddb60",
   "metadata": {},
   "outputs": [],
   "source": [
    "rw1 = random_walk(datelist.copy(),5)"
   ]
  },
  {
   "cell_type": "code",
   "execution_count": 19,
   "id": "f0003da4",
   "metadata": {},
   "outputs": [
    {
     "data": {
      "text/plain": [
       "2023-06-29 00:00:00            0\n",
       "2023-06-29 01:00:00     6.707942\n",
       "2023-06-29 02:00:00    -3.885545\n",
       "2023-06-29 03:00:00   -13.855889\n",
       "2023-06-29 04:00:00     3.351607\n",
       "2023-06-29 05:00:00    -2.485973\n",
       "2023-06-29 06:00:00    -0.986674\n",
       "2023-06-29 07:00:00     -6.33024\n",
       "2023-06-29 08:00:00    -1.601764\n",
       "2023-06-29 09:00:00     -0.71588\n",
       "2023-06-29 10:00:00     0.412549\n",
       "2023-06-29 11:00:00    -0.454963\n",
       "2023-06-29 12:00:00     7.348013\n",
       "2023-06-29 13:00:00     9.752025\n",
       "2023-06-29 14:00:00    16.387399\n",
       "2023-06-29 15:00:00    15.942238\n",
       "2023-06-29 16:00:00    20.438825\n",
       "2023-06-29 17:00:00    20.338934\n",
       "2023-06-29 18:00:00    20.471251\n",
       "2023-06-29 19:00:00    17.032173\n",
       "2023-06-29 20:00:00        9.202\n",
       "2023-06-29 21:00:00     7.764833\n",
       "2023-06-29 22:00:00      9.78714\n",
       "2023-06-29 23:00:00     9.030033\n",
       "2023-06-30 00:00:00      3.93244\n",
       "dtype: object"
      ]
     },
     "execution_count": 19,
     "metadata": {},
     "output_type": "execute_result"
    }
   ],
   "source": [
    "rw1"
   ]
  },
  {
   "cell_type": "code",
   "execution_count": 21,
   "id": "afea9786",
   "metadata": {},
   "outputs": [
    {
     "data": {
      "text/plain": [
       "[12, 12]"
      ]
     },
     "execution_count": 21,
     "metadata": {},
     "output_type": "execute_result"
    }
   ],
   "source": [
    "count_permutation(rw1.copy(), 2)"
   ]
  },
  {
   "cell_type": "code",
   "execution_count": 23,
   "id": "175bd2e3",
   "metadata": {},
   "outputs": [
    {
     "data": {
      "text/plain": [
       "[4, 5, 5, 3, 2, 4]"
      ]
     },
     "execution_count": 23,
     "metadata": {},
     "output_type": "execute_result"
    }
   ],
   "source": [
    "count_permutation(rw1.copy(), 3)"
   ]
  },
  {
   "cell_type": "code",
   "execution_count": 24,
   "id": "8b5210e9",
   "metadata": {},
   "outputs": [
    {
     "data": {
      "text/plain": [
       "<AxesSubplot:>"
      ]
     },
     "execution_count": 24,
     "metadata": {},
     "output_type": "execute_result"
    },
    {
     "data": {
      "image/png": "[encoded data removed]",
      "text/plain": [
       "<Figure size 432x288 with 1 Axes>"
      ]
     },
     "metadata": {
      "needs_background": "light"
     },
     "output_type": "display_data"
    }
   ],
   "source": [
    "rw1.plot()"
   ]
  },
  {
   "cell_type": "code",
   "execution_count": 25,
   "id": "3d515e33",
   "metadata": {},
   "outputs": [
    {
     "data": {
      "text/plain": [
       "[4, 5, 5, 3, 2, 4]"
      ]
     },
     "execution_count": 25,
     "metadata": {},
     "output_type": "execute_result"
    }
   ],
   "source": [
    "count_permutationlist(rw1.copy().tolist(), 3)"
   ]
  },
  {
   "cell_type": "code",
   "execution_count": 33,
   "id": "e5970e4f",
   "metadata": {},
   "outputs": [],
   "source": [
    "datelist1 = pd.date_range(start='29/06/2023 00:00:00', end='30/06/2033', freq='H').to_series()\n",
    "datelist1.index = datelist1\n",
    "datelist1['29/06/2023 00:00:00'] = 5000.0\n",
    "datelist1['29/06/2023 01:00:00'] = 5015.0"
   ]
  },
  {
   "cell_type": "code",
   "execution_count": 7,
   "id": "6de32bcf",
   "metadata": {},
   "outputs": [],
   "source": [
    "rw = random_walk(datelist1.copy(),5)"
   ]
  },
  {
   "cell_type": "code",
   "execution_count": 8,
   "id": "9b26f59d",
   "metadata": {},
   "outputs": [
    {
     "data": {
      "text/plain": [
       "[10895,\n",
       " 5485,\n",
       " 3632,\n",
       " 3041,\n",
       " 1807,\n",
       " 2417,\n",
       " 5480,\n",
       " 2321,\n",
       " 1819,\n",
       " 2370,\n",
       " 1303,\n",
       " 3072,\n",
       " 3107,\n",
       " 1302,\n",
       " 2384,\n",
       " 1812,\n",
       " 2369,\n",
       " 5477,\n",
       " 2310,\n",
       " 1820,\n",
       " 3080,\n",
       " 3744,\n",
       " 5502,\n",
       " 11145]"
      ]
     },
     "execution_count": 8,
     "metadata": {},
     "output_type": "execute_result"
    }
   ],
   "source": [
    "count_permutation(rw.copy(), 4)"
   ]
  },
  {
   "cell_type": "code",
   "execution_count": 11,
   "id": "3e42b77e",
   "metadata": {},
   "outputs": [
    {
     "data": {
      "text/plain": [
       "<BarContainer object of 24 artists>"
      ]
     },
     "execution_count": 11,
     "metadata": {},
     "output_type": "execute_result"
    },
    {
     "data": {
      "image/png": "[encoded data removed]",
      "text/plain": [
       "<Figure size 432x288 with 1 Axes>"
      ]
     },
     "metadata": {
      "needs_background": "light"
     },
     "output_type": "display_data"
    }
   ],
   "source": [
    "cp = [10895,\n",
    " 5485,\n",
    " 3632,\n",
    " 3041,\n",
    " 1807,\n",
    " 2417,\n",
    " 5480,\n",
    " 2321,\n",
    " 1819,\n",
    " 2370,\n",
    " 1303,\n",
    " 3072,\n",
    " 3107,\n",
    " 1302,\n",
    " 2384,\n",
    " 1812,\n",
    " 2369,\n",
    " 5477,\n",
    " 2310,\n",
    " 1820,\n",
    " 3080,\n",
    " 3744,\n",
    " 5502,\n",
    " 11145]\n",
    "plt.bar(range(len(cp)), cp)"
   ]
  },
  {
   "cell_type": "code",
   "execution_count": 13,
   "id": "3da194df",
   "metadata": {},
   "outputs": [
    {
     "data": {
      "text/plain": [
       "<BarContainer object of 24 artists>"
      ]
     },
     "execution_count": 13,
     "metadata": {},
     "output_type": "execute_result"
    },
    {
     "data": {
      "image/png": "[encoded data removed]",
      "text/plain": [
       "<Figure size 432x288 with 1 Axes>"
      ]
     },
     "metadata": {
      "needs_background": "light"
     },
     "output_type": "display_data"
    }
   ],
   "source": [
    "ufrw = uf_random_walk(datelist1.copy(),5)\n",
    "ufcp = count_permutation(ufrw.copy(), 4)\n",
    "plt.bar(range(len(ufcp)),ufcp)"
   ]
  },
  {
   "cell_type": "code",
   "execution_count": 16,
   "id": "abef3358",
   "metadata": {},
   "outputs": [
    {
     "data": {
      "text/plain": [
       "[(0, 1, 2, 3),\n",
       " (0, 1, 3, 2),\n",
       " (0, 2, 1, 3),\n",
       " (0, 2, 3, 1),\n",
       " (0, 3, 1, 2),\n",
       " (0, 3, 2, 1),\n",
       " (1, 0, 2, 3),\n",
       " (1, 0, 3, 2),\n",
       " (1, 2, 0, 3),\n",
       " (1, 2, 3, 0),\n",
       " (1, 3, 0, 2),\n",
       " (1, 3, 2, 0),\n",
       " (2, 0, 1, 3),\n",
       " (2, 0, 3, 1),\n",
       " (2, 1, 0, 3),\n",
       " (2, 1, 3, 0),\n",
       " (2, 3, 0, 1),\n",
       " (2, 3, 1, 0),\n",
       " (3, 0, 1, 2),\n",
       " (3, 0, 2, 1),\n",
       " (3, 1, 0, 2),\n",
       " (3, 1, 2, 0),\n",
       " (3, 2, 0, 1),\n",
       " (3, 2, 1, 0)]"
      ]
     },
     "execution_count": 16,
     "metadata": {},
     "output_type": "execute_result"
    }
   ],
   "source": [
    "r = list(range(4))\n",
    "list(it.permutations(r))"
   ]
  },
  {
   "cell_type": "code",
   "execution_count": 22,
   "id": "49749d62",
   "metadata": {},
   "outputs": [],
   "source": [
    "def strange_count_permutation(df, d):\n",
    "    r = list(range(d))\n",
    "    perm = list(it.permutations(r))\n",
    "    count_p = [0]*len(perm)\n",
    "    for i in range(0,df.size-d+1,d):\n",
    "        slice_df = df.copy().iloc[i:i+d]\n",
    "        sort_slice = slice_df.copy().sort_values()\n",
    "        for j in range(d):\n",
    "            slice_df[slice_df[slice_df == sort_slice.iloc[j]].first_valid_index()] =  j\n",
    "        count_p[perm.index(tuple(slice_df.tolist()))] += 1\n",
    "    return count_p"
   ]
  },
  {
   "cell_type": "code",
   "execution_count": 26,
   "id": "bb4b465e",
   "metadata": {},
   "outputs": [
    {
     "data": {
      "text/plain": [
       "<BarContainer object of 120 artists>"
      ]
     },
     "execution_count": 26,
     "metadata": {},
     "output_type": "execute_result"
    },
    {
     "data": {
      "image/png": "[encoded data removed]",
      "text/plain": [
       "<Figure size 432x288 with 1 Axes>"
      ]
     },
     "metadata": {
      "needs_background": "light"
     },
     "output_type": "display_data"
    }
   ],
   "source": [
    "ufrw = uf_random_walk(datelist1.copy(),5)\n",
    "ufcp = strange_count_permutation(ufrw.copy(), 5)\n",
    "plt.bar(range(len(ufcp)),ufcp)"
   ]
  },
  {
   "cell_type": "code",
   "execution_count": 35,
   "id": "81f50b05",
   "metadata": {},
   "outputs": [
    {
     "data": {
      "text/plain": [
       "<BarContainer object of 24 artists>"
      ]
     },
     "execution_count": 35,
     "metadata": {},
     "output_type": "execute_result"
    },
    {
     "data": {
      "image/png": "[encoded data removed]",
      "text/plain": [
       "<Figure size 432x288 with 1 Axes>"
      ]
     },
     "metadata": {
      "needs_background": "light"
     },
     "output_type": "display_data"
    }
   ],
   "source": [
    "ufrw = radical_random_walk(datelist1.copy(),5)\n",
    "ufcp = count_permutation(ufrw.copy(), 4)\n",
    "plt.bar(range(len(ufcp)),ufcp)"
   ]
  },
  {
   "cell_type": "code",
   "execution_count": 36,
   "id": "d2a56583",
   "metadata": {},
   "outputs": [
    {
     "data": {
      "text/plain": [
       "[10824,\n",
       " 10893,\n",
       " 10756,\n",
       " 0,\n",
       " 0,\n",
       " 0,\n",
       " 10942,\n",
       " 0,\n",
       " 127,\n",
       " 61,\n",
       " 0,\n",
       " 11034,\n",
       " 0,\n",
       " 10729,\n",
       " 58,\n",
       " 75,\n",
       " 47,\n",
       " 53,\n",
       " 0,\n",
       " 0,\n",
       " 10973,\n",
       " 102,\n",
       " 0,\n",
       " 11020]"
      ]
     },
     "execution_count": 36,
     "metadata": {},
     "output_type": "execute_result"
    }
   ],
   "source": [
    "ufcp"
   ]
  },
  {
   "cell_type": "code",
   "execution_count": 37,
   "id": "e281aed7",
   "metadata": {},
   "outputs": [],
   "source": [
    "datelist2 = pd.date_range(start='29/06/2023 00:00:00', end='30/06/2043', freq='H').to_series()\n",
    "datelist2.index = datelist2\n",
    "datelist2['29/06/2023 00:00:00'] = 5000.0\n",
    "datelist2['29/06/2023 01:00:00'] = 5015.0"
   ]
  },
  {
   "cell_type": "code",
   "execution_count": 38,
   "id": "33c3ba77",
   "metadata": {},
   "outputs": [
    {
     "data": {
      "text/plain": [
       "<BarContainer object of 24 artists>"
      ]
     },
     "execution_count": 38,
     "metadata": {},
     "output_type": "execute_result"
    },
    {
     "data": {
      "image/png": "[encoded data removed]",
      "text/plain": [
       "<Figure size 432x288 with 1 Axes>"
      ]
     },
     "metadata": {
      "needs_background": "light"
     },
     "output_type": "display_data"
    }
   ],
   "source": [
    "ufrw = radical_random_walk(datelist2.copy(),5)\n",
    "ufcp = count_permutation(ufrw.copy(), 4)\n",
    "plt.bar(range(len(ufcp)),ufcp)"
   ]
  },
  {
   "cell_type": "code",
   "execution_count": null,
   "id": "19e3f04a",
   "metadata": {},
   "outputs": [],
   "source": []
  }
 ],
 "metadata": {
  "kernelspec": {
   "display_name": "Python 3 (ipykernel)",
   "language": "python",
   "name": "python3"
  },
  "language_info": {
   "codemirror_mode": {
    "name": "ipython",
    "version": 3
   },
   "file_extension": ".py",
   "mimetype": "text/x-python",
   "name": "python",
   "nbconvert_exporter": "python",
   "pygments_lexer": "ipython3",
   "version": "3.9.18"
  }
 },
 "nbformat": 4,
 "nbformat_minor": 5
}
